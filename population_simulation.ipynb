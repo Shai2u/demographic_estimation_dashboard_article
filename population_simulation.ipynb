{
  "nbformat": 4,
  "nbformat_minor": 0,
  "metadata": {
    "colab": {
      "name": "population_simulation.ipynb",
      "provenance": [],
      "collapsed_sections": [],
      "toc_visible": true,
      "include_colab_link": true
    },
    "kernelspec": {
      "name": "python3",
      "display_name": "Python 3"
    },
    "language_info": {
      "name": "python"
    }
  },
  "cells": [
    {
      "cell_type": "markdown",
      "metadata": {
        "id": "view-in-github",
        "colab_type": "text"
      },
      "source": [
        "<a href=\"https://colab.research.google.com/github/Shai2u/demographic_estimation_dashboard_article/blob/main/population_simulation.ipynb\" target=\"_parent\"><img src=\"https://colab.research.google.com/assets/colab-badge.svg\" alt=\"Open In Colab\"/></a>"
      ]
    },
    {
      "cell_type": "code",
      "execution_count": 1,
      "metadata": {
        "colab": {
          "base_uri": "https://localhost:8080/"
        },
        "id": "xAk4sIdNEtYQ",
        "outputId": "e8859187-0c60-4a46-81fb-3eb0b4699616"
      },
      "outputs": [
        {
          "output_type": "stream",
          "name": "stdout",
          "text": [
            "Collecting dash==2.0.0\n",
            "  Downloading dash-2.0.0-py3-none-any.whl (7.3 MB)\n",
            "\u001b[K     |████████████████████████████████| 7.3 MB 4.2 MB/s \n",
            "\u001b[?25hCollecting dash-table==5.0.0\n",
            "  Downloading dash_table-5.0.0-py3-none-any.whl (3.9 kB)\n",
            "Requirement already satisfied: plotly>=5.0.0 in /usr/local/lib/python3.7/dist-packages (from dash==2.0.0) (5.5.0)\n",
            "Collecting flask-compress\n",
            "  Downloading Flask_Compress-1.11-py3-none-any.whl (7.9 kB)\n",
            "Collecting dash-core-components==2.0.0\n",
            "  Downloading dash_core_components-2.0.0-py3-none-any.whl (3.8 kB)\n",
            "Collecting dash-html-components==2.0.0\n",
            "  Downloading dash_html_components-2.0.0-py3-none-any.whl (4.1 kB)\n",
            "Requirement already satisfied: Flask>=1.0.4 in /usr/local/lib/python3.7/dist-packages (from dash==2.0.0) (1.1.4)\n",
            "Requirement already satisfied: click<8.0,>=5.1 in /usr/local/lib/python3.7/dist-packages (from Flask>=1.0.4->dash==2.0.0) (7.1.2)\n",
            "Requirement already satisfied: Jinja2<3.0,>=2.10.1 in /usr/local/lib/python3.7/dist-packages (from Flask>=1.0.4->dash==2.0.0) (2.11.3)\n",
            "Requirement already satisfied: itsdangerous<2.0,>=0.24 in /usr/local/lib/python3.7/dist-packages (from Flask>=1.0.4->dash==2.0.0) (1.1.0)\n",
            "Requirement already satisfied: Werkzeug<2.0,>=0.15 in /usr/local/lib/python3.7/dist-packages (from Flask>=1.0.4->dash==2.0.0) (1.0.1)\n",
            "Requirement already satisfied: MarkupSafe>=0.23 in /usr/local/lib/python3.7/dist-packages (from Jinja2<3.0,>=2.10.1->Flask>=1.0.4->dash==2.0.0) (2.0.1)\n",
            "Requirement already satisfied: six in /usr/local/lib/python3.7/dist-packages (from plotly>=5.0.0->dash==2.0.0) (1.15.0)\n",
            "Requirement already satisfied: tenacity>=6.2.0 in /usr/local/lib/python3.7/dist-packages (from plotly>=5.0.0->dash==2.0.0) (8.0.1)\n",
            "Collecting brotli\n",
            "  Downloading Brotli-1.0.9-cp37-cp37m-manylinux1_x86_64.whl (357 kB)\n",
            "\u001b[K     |████████████████████████████████| 357 kB 29.7 MB/s \n",
            "\u001b[?25hInstalling collected packages: brotli, flask-compress, dash-table, dash-html-components, dash-core-components, dash\n",
            "Successfully installed brotli-1.0.9 dash-2.0.0 dash-core-components-2.0.0 dash-html-components-2.0.0 dash-table-5.0.0 flask-compress-1.11\n",
            "Collecting jupyter_dash\n",
            "  Downloading jupyter_dash-0.4.2-py3-none-any.whl (23 kB)\n",
            "Requirement already satisfied: nest-asyncio in /usr/local/lib/python3.7/dist-packages (from jupyter_dash) (1.5.4)\n",
            "Requirement already satisfied: ipykernel in /usr/local/lib/python3.7/dist-packages (from jupyter_dash) (4.10.1)\n",
            "Requirement already satisfied: dash in /usr/local/lib/python3.7/dist-packages (from jupyter_dash) (2.0.0)\n",
            "Requirement already satisfied: flask in /usr/local/lib/python3.7/dist-packages (from jupyter_dash) (1.1.4)\n",
            "Collecting ansi2html\n",
            "  Downloading ansi2html-1.7.0-py3-none-any.whl (15 kB)\n",
            "Collecting retrying\n",
            "  Downloading retrying-1.3.3.tar.gz (10 kB)\n",
            "Requirement already satisfied: ipython in /usr/local/lib/python3.7/dist-packages (from jupyter_dash) (5.5.0)\n",
            "Requirement already satisfied: requests in /usr/local/lib/python3.7/dist-packages (from jupyter_dash) (2.23.0)\n",
            "Requirement already satisfied: importlib-metadata in /usr/local/lib/python3.7/dist-packages (from ansi2html->jupyter_dash) (4.11.3)\n",
            "Requirement already satisfied: dash-html-components==2.0.0 in /usr/local/lib/python3.7/dist-packages (from dash->jupyter_dash) (2.0.0)\n",
            "Requirement already satisfied: flask-compress in /usr/local/lib/python3.7/dist-packages (from dash->jupyter_dash) (1.11)\n",
            "Requirement already satisfied: dash-core-components==2.0.0 in /usr/local/lib/python3.7/dist-packages (from dash->jupyter_dash) (2.0.0)\n",
            "Requirement already satisfied: dash-table==5.0.0 in /usr/local/lib/python3.7/dist-packages (from dash->jupyter_dash) (5.0.0)\n",
            "Requirement already satisfied: plotly>=5.0.0 in /usr/local/lib/python3.7/dist-packages (from dash->jupyter_dash) (5.5.0)\n",
            "Requirement already satisfied: Jinja2<3.0,>=2.10.1 in /usr/local/lib/python3.7/dist-packages (from flask->jupyter_dash) (2.11.3)\n",
            "Requirement already satisfied: click<8.0,>=5.1 in /usr/local/lib/python3.7/dist-packages (from flask->jupyter_dash) (7.1.2)\n",
            "Requirement already satisfied: itsdangerous<2.0,>=0.24 in /usr/local/lib/python3.7/dist-packages (from flask->jupyter_dash) (1.1.0)\n",
            "Requirement already satisfied: Werkzeug<2.0,>=0.15 in /usr/local/lib/python3.7/dist-packages (from flask->jupyter_dash) (1.0.1)\n",
            "Requirement already satisfied: MarkupSafe>=0.23 in /usr/local/lib/python3.7/dist-packages (from Jinja2<3.0,>=2.10.1->flask->jupyter_dash) (2.0.1)\n",
            "Requirement already satisfied: six in /usr/local/lib/python3.7/dist-packages (from plotly>=5.0.0->dash->jupyter_dash) (1.15.0)\n",
            "Requirement already satisfied: tenacity>=6.2.0 in /usr/local/lib/python3.7/dist-packages (from plotly>=5.0.0->dash->jupyter_dash) (8.0.1)\n",
            "Requirement already satisfied: brotli in /usr/local/lib/python3.7/dist-packages (from flask-compress->dash->jupyter_dash) (1.0.9)\n",
            "Requirement already satisfied: typing-extensions>=3.6.4 in /usr/local/lib/python3.7/dist-packages (from importlib-metadata->ansi2html->jupyter_dash) (3.10.0.2)\n",
            "Requirement already satisfied: zipp>=0.5 in /usr/local/lib/python3.7/dist-packages (from importlib-metadata->ansi2html->jupyter_dash) (3.7.0)\n",
            "Requirement already satisfied: traitlets>=4.1.0 in /usr/local/lib/python3.7/dist-packages (from ipykernel->jupyter_dash) (5.1.1)\n",
            "Requirement already satisfied: tornado>=4.0 in /usr/local/lib/python3.7/dist-packages (from ipykernel->jupyter_dash) (5.1.1)\n",
            "Requirement already satisfied: jupyter-client in /usr/local/lib/python3.7/dist-packages (from ipykernel->jupyter_dash) (5.3.5)\n",
            "Requirement already satisfied: pexpect in /usr/local/lib/python3.7/dist-packages (from ipython->jupyter_dash) (4.8.0)\n",
            "Requirement already satisfied: simplegeneric>0.8 in /usr/local/lib/python3.7/dist-packages (from ipython->jupyter_dash) (0.8.1)\n",
            "Requirement already satisfied: pygments in /usr/local/lib/python3.7/dist-packages (from ipython->jupyter_dash) (2.6.1)\n",
            "Requirement already satisfied: decorator in /usr/local/lib/python3.7/dist-packages (from ipython->jupyter_dash) (4.4.2)\n",
            "Requirement already satisfied: prompt-toolkit<2.0.0,>=1.0.4 in /usr/local/lib/python3.7/dist-packages (from ipython->jupyter_dash) (1.0.18)\n",
            "Requirement already satisfied: setuptools>=18.5 in /usr/local/lib/python3.7/dist-packages (from ipython->jupyter_dash) (57.4.0)\n",
            "Requirement already satisfied: pickleshare in /usr/local/lib/python3.7/dist-packages (from ipython->jupyter_dash) (0.7.5)\n",
            "Requirement already satisfied: wcwidth in /usr/local/lib/python3.7/dist-packages (from prompt-toolkit<2.0.0,>=1.0.4->ipython->jupyter_dash) (0.2.5)\n",
            "Requirement already satisfied: python-dateutil>=2.1 in /usr/local/lib/python3.7/dist-packages (from jupyter-client->ipykernel->jupyter_dash) (2.8.2)\n",
            "Requirement already satisfied: jupyter-core>=4.6.0 in /usr/local/lib/python3.7/dist-packages (from jupyter-client->ipykernel->jupyter_dash) (4.9.2)\n",
            "Requirement already satisfied: pyzmq>=13 in /usr/local/lib/python3.7/dist-packages (from jupyter-client->ipykernel->jupyter_dash) (22.3.0)\n",
            "Requirement already satisfied: ptyprocess>=0.5 in /usr/local/lib/python3.7/dist-packages (from pexpect->ipython->jupyter_dash) (0.7.0)\n",
            "Requirement already satisfied: chardet<4,>=3.0.2 in /usr/local/lib/python3.7/dist-packages (from requests->jupyter_dash) (3.0.4)\n",
            "Requirement already satisfied: idna<3,>=2.5 in /usr/local/lib/python3.7/dist-packages (from requests->jupyter_dash) (2.10)\n",
            "Requirement already satisfied: certifi>=2017.4.17 in /usr/local/lib/python3.7/dist-packages (from requests->jupyter_dash) (2021.10.8)\n",
            "Requirement already satisfied: urllib3!=1.25.0,!=1.25.1,<1.26,>=1.21.1 in /usr/local/lib/python3.7/dist-packages (from requests->jupyter_dash) (1.24.3)\n",
            "Building wheels for collected packages: retrying\n",
            "  Building wheel for retrying (setup.py) ... \u001b[?25l\u001b[?25hdone\n",
            "  Created wheel for retrying: filename=retrying-1.3.3-py3-none-any.whl size=11447 sha256=adb707e74da2528ebd07f31ee23eaebf954344f6e07d2c943303685e26a09a04\n",
            "  Stored in directory: /root/.cache/pip/wheels/f9/8d/8d/f6af3f7f9eea3553bc2fe6d53e4b287dad18b06a861ac56ddf\n",
            "Successfully built retrying\n",
            "Installing collected packages: retrying, ansi2html, jupyter-dash\n",
            "Successfully installed ansi2html-1.7.0 jupyter-dash-0.4.2 retrying-1.3.3\n",
            "Collecting geopandas\n",
            "  Downloading geopandas-0.10.2-py2.py3-none-any.whl (1.0 MB)\n",
            "\u001b[K     |████████████████████████████████| 1.0 MB 5.5 MB/s \n",
            "\u001b[?25hRequirement already satisfied: shapely>=1.6 in /usr/local/lib/python3.7/dist-packages (from geopandas) (1.8.1.post1)\n",
            "Collecting fiona>=1.8\n",
            "  Downloading Fiona-1.8.21-cp37-cp37m-manylinux2014_x86_64.whl (16.7 MB)\n",
            "\u001b[K     |████████████████████████████████| 16.7 MB 212 kB/s \n",
            "\u001b[?25hCollecting pyproj>=2.2.0\n",
            "  Downloading pyproj-3.2.1-cp37-cp37m-manylinux2010_x86_64.whl (6.3 MB)\n",
            "\u001b[K     |████████████████████████████████| 6.3 MB 38.1 MB/s \n",
            "\u001b[?25hRequirement already satisfied: pandas>=0.25.0 in /usr/local/lib/python3.7/dist-packages (from geopandas) (1.3.5)\n",
            "Requirement already satisfied: click>=4.0 in /usr/local/lib/python3.7/dist-packages (from fiona>=1.8->geopandas) (7.1.2)\n",
            "Collecting click-plugins>=1.0\n",
            "  Downloading click_plugins-1.1.1-py2.py3-none-any.whl (7.5 kB)\n",
            "Requirement already satisfied: attrs>=17 in /usr/local/lib/python3.7/dist-packages (from fiona>=1.8->geopandas) (21.4.0)\n",
            "Requirement already satisfied: certifi in /usr/local/lib/python3.7/dist-packages (from fiona>=1.8->geopandas) (2021.10.8)\n",
            "Collecting cligj>=0.5\n",
            "  Downloading cligj-0.7.2-py3-none-any.whl (7.1 kB)\n",
            "Requirement already satisfied: six>=1.7 in /usr/local/lib/python3.7/dist-packages (from fiona>=1.8->geopandas) (1.15.0)\n",
            "Collecting munch\n",
            "  Downloading munch-2.5.0-py2.py3-none-any.whl (10 kB)\n",
            "Requirement already satisfied: setuptools in /usr/local/lib/python3.7/dist-packages (from fiona>=1.8->geopandas) (57.4.0)\n",
            "Requirement already satisfied: numpy>=1.17.3 in /usr/local/lib/python3.7/dist-packages (from pandas>=0.25.0->geopandas) (1.21.5)\n",
            "Requirement already satisfied: pytz>=2017.3 in /usr/local/lib/python3.7/dist-packages (from pandas>=0.25.0->geopandas) (2018.9)\n",
            "Requirement already satisfied: python-dateutil>=2.7.3 in /usr/local/lib/python3.7/dist-packages (from pandas>=0.25.0->geopandas) (2.8.2)\n",
            "Installing collected packages: munch, cligj, click-plugins, pyproj, fiona, geopandas\n",
            "Successfully installed click-plugins-1.1.1 cligj-0.7.2 fiona-1.8.21 geopandas-0.10.2 munch-2.5.0 pyproj-3.2.1\n",
            "Collecting dash-leaflet==0.1.23\n",
            "  Downloading dash_leaflet-0.1.23-py3-none-any.whl (1.9 MB)\n",
            "\u001b[K     |████████████████████████████████| 1.9 MB 5.2 MB/s \n",
            "\u001b[?25hCollecting geobuf\n",
            "  Downloading geobuf-1.1.1-py3-none-any.whl (13 kB)\n",
            "Requirement already satisfied: protobuf in /usr/local/lib/python3.7/dist-packages (from geobuf->dash-leaflet==0.1.23) (3.17.3)\n",
            "Requirement already satisfied: click in /usr/local/lib/python3.7/dist-packages (from geobuf->dash-leaflet==0.1.23) (7.1.2)\n",
            "Requirement already satisfied: six in /usr/local/lib/python3.7/dist-packages (from geobuf->dash-leaflet==0.1.23) (1.15.0)\n",
            "Installing collected packages: geobuf, dash-leaflet\n",
            "Successfully installed dash-leaflet-0.1.23 geobuf-1.1.1\n",
            "Collecting dash-extensions==0.0.65\n",
            "  Downloading dash_extensions-0.0.65-py3-none-any.whl (1.8 MB)\n",
            "\u001b[K     |████████████████████████████████| 1.8 MB 5.3 MB/s \n",
            "\u001b[?25hRequirement already satisfied: dash in /usr/local/lib/python3.7/dist-packages (from dash-extensions==0.0.65) (2.0.0)\n",
            "Collecting Flask-Caching\n",
            "  Downloading Flask_Caching-1.10.1-py3-none-any.whl (34 kB)\n",
            "Requirement already satisfied: more-itertools in /usr/local/lib/python3.7/dist-packages (from dash-extensions==0.0.65) (8.12.0)\n",
            "Collecting jsbeautifier\n",
            "  Downloading jsbeautifier-1.14.2.tar.gz (73 kB)\n",
            "\u001b[K     |████████████████████████████████| 73 kB 1.5 MB/s \n",
            "\u001b[?25h  Installing build dependencies ... \u001b[?25l\u001b[?25hdone\n",
            "  Getting requirements to build wheel ... \u001b[?25l\u001b[?25hdone\n",
            "    Preparing wheel metadata ... \u001b[?25l\u001b[?25hdone\n",
            "Requirement already satisfied: dash-html-components==2.0.0 in /usr/local/lib/python3.7/dist-packages (from dash->dash-extensions==0.0.65) (2.0.0)\n",
            "Requirement already satisfied: plotly>=5.0.0 in /usr/local/lib/python3.7/dist-packages (from dash->dash-extensions==0.0.65) (5.5.0)\n",
            "Requirement already satisfied: dash-table==5.0.0 in /usr/local/lib/python3.7/dist-packages (from dash->dash-extensions==0.0.65) (5.0.0)\n",
            "Requirement already satisfied: Flask>=1.0.4 in /usr/local/lib/python3.7/dist-packages (from dash->dash-extensions==0.0.65) (1.1.4)\n",
            "Requirement already satisfied: flask-compress in /usr/local/lib/python3.7/dist-packages (from dash->dash-extensions==0.0.65) (1.11)\n",
            "Requirement already satisfied: dash-core-components==2.0.0 in /usr/local/lib/python3.7/dist-packages (from dash->dash-extensions==0.0.65) (2.0.0)\n",
            "Requirement already satisfied: Jinja2<3.0,>=2.10.1 in /usr/local/lib/python3.7/dist-packages (from Flask>=1.0.4->dash->dash-extensions==0.0.65) (2.11.3)\n",
            "Requirement already satisfied: itsdangerous<2.0,>=0.24 in /usr/local/lib/python3.7/dist-packages (from Flask>=1.0.4->dash->dash-extensions==0.0.65) (1.1.0)\n",
            "Requirement already satisfied: click<8.0,>=5.1 in /usr/local/lib/python3.7/dist-packages (from Flask>=1.0.4->dash->dash-extensions==0.0.65) (7.1.2)\n",
            "Requirement already satisfied: Werkzeug<2.0,>=0.15 in /usr/local/lib/python3.7/dist-packages (from Flask>=1.0.4->dash->dash-extensions==0.0.65) (1.0.1)\n",
            "Requirement already satisfied: MarkupSafe>=0.23 in /usr/local/lib/python3.7/dist-packages (from Jinja2<3.0,>=2.10.1->Flask>=1.0.4->dash->dash-extensions==0.0.65) (2.0.1)\n",
            "Requirement already satisfied: tenacity>=6.2.0 in /usr/local/lib/python3.7/dist-packages (from plotly>=5.0.0->dash->dash-extensions==0.0.65) (8.0.1)\n",
            "Requirement already satisfied: six in /usr/local/lib/python3.7/dist-packages (from plotly>=5.0.0->dash->dash-extensions==0.0.65) (1.15.0)\n",
            "Requirement already satisfied: brotli in /usr/local/lib/python3.7/dist-packages (from flask-compress->dash->dash-extensions==0.0.65) (1.0.9)\n",
            "Collecting editorconfig>=0.12.2\n",
            "  Downloading EditorConfig-0.12.3-py3-none-any.whl (16 kB)\n",
            "Building wheels for collected packages: jsbeautifier\n",
            "  Building wheel for jsbeautifier (PEP 517) ... \u001b[?25l\u001b[?25hdone\n",
            "  Created wheel for jsbeautifier: filename=jsbeautifier-1.14.2-py3-none-any.whl size=92134 sha256=4a855298fa4c23988d4b569b14f767d1a8206b9cca27eaff7547461129618268\n",
            "  Stored in directory: /root/.cache/pip/wheels/52/b0/8b/326e3756e205e204540e8375b46b32dfaf7eea3c365d50c7d9\n",
            "Successfully built jsbeautifier\n",
            "Installing collected packages: editorconfig, jsbeautifier, Flask-Caching, dash-extensions\n",
            "Successfully installed Flask-Caching-1.10.1 dash-extensions-0.0.65 editorconfig-0.12.3 jsbeautifier-1.14.2\n"
          ]
        }
      ],
      "source": [
        "#Installing specific packages.\n",
        "!pip install dash==2.0.0\n",
        "!pip install jupyter_dash\n",
        "!pip install geopandas\n",
        "!pip install dash-leaflet==0.1.23\n",
        "!pip install dash-extensions==0.0.65"
      ]
    },
    {
      "cell_type": "code",
      "source": [
        "\n",
        "from dash import Dash, html, dcc, Input, Output\n",
        "from dash_extensions.javascript import  assign\n",
        "from plotly.subplots import make_subplots\n",
        "\n",
        "import dash_leaflet.express as dlx\n",
        "import plotly.express as px\n",
        "import plotly.graph_objects as go\n",
        "import dash_leaflet as dl\n",
        "import pandas as pd\n",
        "import numpy as np\n",
        "import json\n",
        "import geopandas as gpd\n",
        "from jupyter_dash import JupyterDash\n",
        "import datetime"
      ],
      "metadata": {
        "id": "MO9L2oHaE4qH"
      },
      "execution_count": 5,
      "outputs": []
    },
    {
      "cell_type": "code",
      "source": [
        "#pandas configuration\n",
        "pd.options.display.max_columns=100"
      ],
      "metadata": {
        "id": "Fw9RvdnrvVv_"
      },
      "execution_count": 6,
      "outputs": []
    },
    {
      "cell_type": "markdown",
      "source": [
        "# Loading Files"
      ],
      "metadata": {
        "id": "hD4IsUjlwzNZ"
      }
    },
    {
      "cell_type": "code",
      "source": [
        "\n",
        "#Statistical Stats\n",
        "statisticalStatsGdf = gpd.read_file('https://raw.githubusercontent.com/Shai2u/demographic_estimation_dashboard_article/main/dashboard/data/statistical_tract_4326.geojson')\n",
        "statisticalStatsJson = json.loads(statisticalStatsGdf.to_json())\n",
        "#building simulation\n",
        "simulatedBldgsGdf = gpd.read_file('https://raw.githubusercontent.com/Shai2u/demographic_estimation_dashboard_article/main/dashboard/data/buildings_for_dashboard_4326.geojson')\n",
        "simulatedBldgsJson = json.loads(simulatedBldgsGdf.to_json())\n",
        "simulatedBldgsGdf['start_date'] = pd.to_datetime(simulatedBldgsGdf['start_date'])\n",
        "simulatedBldgsGdf['end_date'] = pd.to_datetime(simulatedBldgsGdf['end_date'])\n",
        "#agents track\n",
        "agents_track_status = pd.read_csv('https://raw.githubusercontent.com/Shai2u/demographic_estimation_dashboard_article/main/dashboard/data/agents_track_status.csv')\n",
        "agents_track_status.drop(columns='Unnamed: 0',inplace=True)\n",
        "\n",
        "agents_stat_summary_by_year = pd.read_csv('https://raw.githubusercontent.com/Shai2u/demographic_estimation_dashboard_article/main/dashboard/data/yearly_stats_for_dashboard.csv')\n",
        "\n",
        "year_ranges = agents_stat_summary_by_year['year']\n",
        "\n",
        "color_labels = pd.read_excel(\n",
        "    'https://raw.githubusercontent.com/Shai2u/demographic_estimation_dashboard_article/main/assets/color_labels.xlsx')\n",
        "colorDict = dict(zip(color_labels['label'], color_labels['colors_']))\n",
        "\n",
        "\n",
        "attribution = '© OpenStreetMap contributors, © CARTO'\n",
        "cartoUrl = 'http://basemaps.cartocdn.com/light_all/{z}/{x}/{y}.png'\n",
        "\n",
        "# style =   color: 'red',\n",
        "#                 weight: 10,\n",
        "#                 opacity: .7,\n",
        "#                 dashArray: '20,15',\n",
        "#                 lineJoin: 'round'\n"
      ],
      "metadata": {
        "id": "GLAjUe6hFC_Z"
      },
      "execution_count": 7,
      "outputs": []
    },
    {
      "cell_type": "markdown",
      "source": [
        "# Agents Non Agregated preprocessing"
      ],
      "metadata": {
        "id": "NyUc2YNHyv_y"
      }
    },
    {
      "cell_type": "code",
      "source": [
        "incomeDict = {9000:'Low',19500:'Medium', 1000000:'High'}\n",
        "agents_track_status['income_cat'] = pd.cut(agents_track_status['income'], [0,9000,19500,1000000],right=True, labels=['Low','Medium','High'],ordered=True)\n",
        "\n",
        "agents_track_status.loc[agents_track_status['rent']==1,'rent_own']='Rent'\n",
        "agents_track_status.loc[agents_track_status['rent']==0,'rent_own']='Own'"
      ],
      "metadata": {
        "id": "AO7CEnLqyyy2"
      },
      "execution_count": 8,
      "outputs": []
    },
    {
      "cell_type": "markdown",
      "source": [
        "## Pre-processing"
      ],
      "metadata": {
        "id": "XU6gCvAj58tQ"
      }
    },
    {
      "cell_type": "code",
      "source": [
        "\n",
        "agents_stat_summary_by_year['New Comers'] = agents_stat_summary_by_year['New Comers_income_low'] + agents_stat_summary_by_year['New Comers_income_medium'] +  + agents_stat_summary_by_year['New Comers_income_high']\n",
        "agents_stat_summary_by_year['stay'] = agents_stat_summary_by_year['stay_income_low'] + agents_stat_summary_by_year['stay_income_medium'] +  + agents_stat_summary_by_year['stay_income_high']\n",
        "agents_stat_summary_by_year['total_pop'] = agents_stat_summary_by_year['New Comers'] + agents_stat_summary_by_year['stay']\n",
        "agents_stat_summary_by_year['New Comers_income_low_ratio'] = agents_stat_summary_by_year['New Comers_income_low']/agents_stat_summary_by_year['total_pop']\n",
        "agents_stat_summary_by_year['New Comers_income_medium_ratio'] = agents_stat_summary_by_year['New Comers_income_medium']/agents_stat_summary_by_year['total_pop']\n",
        "agents_stat_summary_by_year['New Comers_income_high_ratio'] = agents_stat_summary_by_year['New Comers_income_high']/agents_stat_summary_by_year['total_pop']\n",
        "\n",
        "agents_stat_summary_by_year['stay_income_low_ratio'] = agents_stat_summary_by_year['stay_income_low']/agents_stat_summary_by_year['total_pop']\n",
        "agents_stat_summary_by_year['stay_income_medium_ratio'] = agents_stat_summary_by_year['stay_income_medium']/agents_stat_summary_by_year['total_pop']\n",
        "agents_stat_summary_by_year['stay_income_high_ratio'] = agents_stat_summary_by_year['stay_income_high']/agents_stat_summary_by_year['total_pop']\n"
      ],
      "metadata": {
        "id": "8VgSw56U5-OD"
      },
      "execution_count": 9,
      "outputs": []
    },
    {
      "cell_type": "code",
      "source": [
        "# Generate count status graph\n",
        "def get_status_graph(bldg_status):\n",
        "  #\"status\"\n",
        "  fig = px.bar(bldg_status, x='status', y=\"count\",width=500,height=200,template='plotly_white',title=\"Current Building Status\",category_orders={'status':['Building before', 'Construction', 'Building after']})\n",
        "  fig.update_layout(margin={\"r\":0,\"t\":35,\"l\":0,\"b\":0,\"pad\":0},\n",
        "  showlegend=True,\n",
        "\n",
        "  # font=dict(\n",
        "  #     size=15,\n",
        "  # )\n",
        "  )\n",
        "  fig.update_yaxes(automargin=True)\n",
        "  fig.update_yaxes(range=[0, 70])\n",
        "  return fig\n"
      ],
      "metadata": {
        "id": "FSJLOhg7OHOt"
      },
      "execution_count": 10,
      "outputs": []
    },
    {
      "cell_type": "markdown",
      "source": [
        "# Dot Matrix"
      ],
      "metadata": {
        "id": "zmxdMbor41Au"
      }
    },
    {
      "cell_type": "code",
      "source": [
        "\n",
        "def exportFigure_sq(list_,date_,MatrixPlot):\n",
        "\n",
        "    # Use column names of df for the different parameters x, y, color, ...\n",
        "    MatrixPlot['Who'] = list_\n",
        "    fig = px.scatter(MatrixPlot, x=\"x\", y=\"y\", color=\"Who\",\n",
        "                     title=f'Staying vs Leaving Snapshot {date_}',\n",
        "                     labels={\"Who\":\"Legend\"}, # customize axis label\n",
        "                     template='simple_white',color_discrete_map={\n",
        "                         \"Staying\": \"orange\",\n",
        "                         \"New Comers\": \"blue\",\n",
        "                         \"Future Units\": \"hsv(0,0%,95%)\"})\n",
        "    fig.update_layout(width=550,height=450,margin=dict(l=0, r=0, t=50, b=0),legend=dict(orientation=\"h\", yanchor=\"top\",y=0.99,xanchor=\"left\",x=0.01))\n",
        "    fig.update_yaxes(showticklabels=False,visible=False)\n",
        "    fig.update_xaxes(showticklabels=False,visible=False)\n",
        "    fig.update_traces(marker=dict(size=6))\n",
        "\n",
        "    return fig"
      ],
      "metadata": {
        "id": "3_Aurtp648xs"
      },
      "execution_count": 11,
      "outputs": []
    },
    {
      "cell_type": "code",
      "source": [
        "\n",
        "    #fig.write_image(f'matrixPlot_{ticNumber}.png')\n",
        "\n",
        "#create an empty dataset with agent coutn\n",
        "num_of_agents = 3481\n",
        "MatrixPlot = pd.DataFrame({'AgentID':range(0,num_of_agents)})\n",
        "#Number of Columns choose:\n",
        "numOfColumns=59\n",
        "numOfRows = 59\n",
        "# set the columns to display the column number\n",
        "MatrixPlot['x'] = list(range(1,numOfColumns+1))*numOfRows\n",
        "#prepare the y column (row number)\n",
        "y = [[i]*numOfColumns for i in range(1,numOfRows+1)]\n",
        "temp = []\n",
        "for i in range(0,numOfRows):\n",
        "    temp +=y[i]\n",
        "y = temp\n",
        "MatrixPlot['y'] = y\n",
        "\n",
        "agents_time_new_Comers_stay = agents_stat_summary_by_year[['year','New Comers','stay']].fillna(0)\n",
        "agents_time_new_Comers_stay['emptyPalces'] = num_of_agents -(agents_time_new_Comers_stay['stay'] +agents_time_new_Comers_stay['New Comers'])\n",
        "\n",
        "list_ = ['Staying']* agents_time_new_Comers_stay.loc[20,'stay'].astype(int)\n",
        "list_ = list_ + ['New Comers']*agents_time_new_Comers_stay.loc[20,'New Comers'].astype(int)\n",
        "list_ = list_ + ['Future Units']*agents_time_new_Comers_stay.loc[20,'emptyPalces'].astype(int)\n",
        "dotMAtrixFig1 = exportFigure_sq(list_,('temp'),MatrixPlot)\n",
        "\n"
      ],
      "metadata": {
        "id": "mPSGKKzw42H6"
      },
      "execution_count": 12,
      "outputs": []
    },
    {
      "cell_type": "code",
      "source": [
        ""
      ],
      "metadata": {
        "id": "_Kr3h1nddAYx"
      },
      "execution_count": 13,
      "outputs": []
    },
    {
      "cell_type": "code",
      "source": [
        "#fig = px.line(agents_stat_summary_by_year, x=\"year\"})\n",
        "\n",
        "def renters_owners_graph(year_q):\n",
        "  rent_own_new_stay = agents_stat_summary_by_year[['year','New Comers_rent','New Comers_own','stay_rent','stay_own']].copy().fillna(0)\n",
        "  end_index = rent_own_new_stay[rent_own_new_stay['year']==year_q].index.values[0]\n",
        "  selected_indexes = range(0,end_index+1)\n",
        "  rent_own_new_stayselected = rent_own_new_stay[rent_own_new_stay.index.isin(selected_indexes)]\n",
        "\n",
        "  fig = go.Figure()\n",
        "\n",
        "  fig.add_trace(go.Scatter(\n",
        "      x=year_ranges,\n",
        "      y=rent_own_new_stayselected['New Comers_rent'],\n",
        "      legendgroup=\"New Comers\",  # this can be any string, not just \"group\"\n",
        "      legendgrouptitle_text=\"New Comers\",\n",
        "      name=\"Renters\",\n",
        "      mode=\"lines\",\n",
        "      line=dict(color='royalblue', width=1)\n",
        "  ))\n",
        "\n",
        "\n",
        "  fig.add_trace(go.Scatter(\n",
        "      x=year_ranges,\n",
        "      y=rent_own_new_stayselected['New Comers_own'],\n",
        "      legendgroup=\"New Comers\",  # this can be any string, not just \"group\"\n",
        "      legendgrouptitle_text=\"New Comers\",\n",
        "      name=\"Owners\",\n",
        "      mode=\"lines\",\n",
        "      line=dict(color='royalblue', width=3)\n",
        "  ))\n",
        "\n",
        "\n",
        "  fig.add_trace(go.Scatter(\n",
        "      x=year_ranges,\n",
        "      y=rent_own_new_stayselected['stay_rent'],\n",
        "      legendgroup=\"Staying\",  # this can be any string, not just \"group\"\n",
        "      legendgrouptitle_text=\"Staying\",\n",
        "      name=\"Renters\",\n",
        "      mode=\"lines\",\n",
        "      line=dict(color='firebrick', width=1)\n",
        "  ))\n",
        "\n",
        "\n",
        "  fig.add_trace(go.Scatter(\n",
        "      x=year_ranges,\n",
        "      y=rent_own_new_stayselected['stay_own'],\n",
        "      legendgroup=\"Staying\",  # this can be any string, not just \"group\"\n",
        "      legendgrouptitle_text=\"Staying\",\n",
        "      name=\"Owners\",\n",
        "      mode=\"lines\",\n",
        "      line=dict(color='firebrick', width=5)\n",
        "  ))\n",
        "\n",
        "\n",
        "\n",
        "  fig.update_layout(title=\"Staying Laving and Owenrship\",template='plotly_white',yaxis = {'title' : \"Absolute Numbers\"},margin={\"r\":0,\"t\":35,\"l\":0,\"b\":0,\"pad\":0},\n",
        "                    width=1100,height=350,legend=dict(orientation=\"h\", yanchor=\"top\",y=0.99,xanchor=\"left\",x=0.01))\n",
        "  # fig.update_xaxes(\n",
        "  #     ticktext=list(year_ranges),\n",
        "  #     tickvals=list(year_ranges)\n",
        "  # )\n",
        "  #fig.update_xaxes(range=list(year_ranges))\n",
        "  fig.update_xaxes(range = [0,len(year_ranges)])\n",
        "  fig.update_yaxes(range = [0,2100])\n",
        "  return fig\n",
        "\n",
        "# set range\n",
        "renters_owners_fig = renters_owners_graph('2015 Q1')"
      ],
      "metadata": {
        "id": "Gq6DMHAOz3Yw"
      },
      "execution_count": 14,
      "outputs": []
    },
    {
      "cell_type": "code",
      "source": [
        ""
      ],
      "metadata": {
        "id": "SR-wCK-qaJPA"
      },
      "execution_count": 14,
      "outputs": []
    },
    {
      "cell_type": "markdown",
      "source": [
        "# Construction"
      ],
      "metadata": {
        "id": "sd9xLBgrsB-h"
      }
    },
    {
      "cell_type": "code",
      "source": [
        "\n",
        "\n",
        "\n",
        "def construction_typo_graph_generator(construction_typo_v,construction_typo_d):\n",
        "\n",
        "  try:\n",
        "    v_a = construction_typo_v[construction_typo_v['project_ty']==1]['count'].values[0]\n",
        "  except:\n",
        "    v_a = 0\n",
        "  try:\n",
        "    v_r = construction_typo_v[construction_typo_v['project_ty']==2]['count'].values[0]\n",
        "  except:\n",
        "    v_r = 0\n",
        "  try:\n",
        "    v_rr = construction_typo_v[construction_typo_v['project_ty']==3]['count'].values[0]\n",
        "  except:\n",
        "    v_rr = 0\n",
        "\n",
        "  try:\n",
        "    d_a = construction_typo_d[construction_typo_d['project_ty']==1]['count'].values[0]\n",
        "  except:\n",
        "    d_a = 0\n",
        "  try:\n",
        "    d_r = construction_typo_d[construction_typo_d['project_ty']==2]['count'].values[0]\n",
        "  except:\n",
        "    d_r = 0\n",
        "  try:\n",
        "    d_rr = construction_typo_d[construction_typo_d['project_ty']==3]['count'].values[0]\n",
        "  except:\n",
        "    d_rr = 0\n",
        "  fig = go.Figure()\n",
        "\n",
        "  fig.add_trace(go.Indicator(\n",
        "      mode = \"number+delta\",\n",
        "      value = v_a,\n",
        "      domain = {'x': [0.05, 0.25], 'y': [0.7, 0.9]},\n",
        "      number_font_color=\"#2052a7\",\n",
        "      \n",
        "      delta = {'reference': d_a, 'relative': True,'valueformat':'.2%'}))\n",
        "\n",
        "  fig.add_trace(go.Indicator(\n",
        "      mode = \"number+delta\",\n",
        "      value = v_r,\n",
        "      domain = {'x': [0.3, 0.5], 'y': [0.7, 0.9]},\n",
        "      number_font_color=\"#4c84cb\",\n",
        "      delta = {'reference': d_r, 'relative': True,'valueformat':'.2%'}))\n",
        "\n",
        "  fig.add_trace(go.Indicator(\n",
        "      mode = \"number+delta\",\n",
        "      value = v_rr,\n",
        "      domain = {'x': [0.6, 0.80], 'y': [0.7, 0.9]},\n",
        "      number_font_color=\"#87b1eb\",\n",
        "      delta = {'reference': d_rr, 'relative': True,'valueformat':'.2%'}))\n",
        "\n",
        "\n",
        "  # Add images\n",
        "  fig.add_layout_image(\n",
        "          dict(\n",
        "              source=\"https://raw.githubusercontent.com/Shai2u/demographic_estimation_dashboard_article/main/assets/graphics/Building_Typology.jpg\",\n",
        "              xref=\"paper\", yref=\"paper\",\n",
        "              x=0, y=0,\n",
        "              sizex=1, sizey=1,\n",
        "              xanchor=\"left\", yanchor=\"bottom\",\n",
        "              layer=\"below\")\n",
        "  )\n",
        "\n",
        "  fig.update_layout(template=\"plotly_white\",margin={\"r\":0,\"t\":0,\"l\":0,\"b\":0,\"pad\":0},width=500,height=200)\n",
        "  return fig\n"
      ],
      "metadata": {
        "id": "Ltdhi9CHrJYS"
      },
      "execution_count": 60,
      "outputs": []
    },
    {
      "cell_type": "code",
      "source": [
        "d = pd.to_datetime('2015-01-01')\n",
        "d2 = d - datetime.timedelta(days=180)\n",
        "bldgs1 = simulatedBldgsGdf[(simulatedBldgsGdf['start_date']< d ) & (simulatedBldgsGdf['end_date']> d )].copy().reset_index(drop=True)\n",
        "\n",
        "bldgs_constr = bldgs1[bldgs1['status']=='Construction'].reset_index()\n",
        "#Add all columns\n",
        "if len(bldg_status)<3:\n",
        "  if len(bldg_status[bldg_status['status'].isin(['Building before'])])==0:\n",
        "    bldg_status = pd.concat([bldg_status,pd.DataFrame({'status':['Building before'],'count':[0]})]).reset_index(drop=True)\n",
        "  if len(bldg_status[bldg_status['status'].isin(['Construction'])])==0:\n",
        "    bldg_status = pd.concat([bldg_status,pd.DataFrame({'status':['Construction'],'count':[0]})]).reset_index(drop=True)\n",
        "  if len(bldg_status[bldg_status['status'].isin(['Building after'])])==0:\n",
        "    bldg_status = pd.concat([bldg_status,pd.DataFrame({'status':['Building after'],'count':[0]})]).reset_index(drop=True)\n",
        "\n",
        "construction_typo_v = bldgs_constr['project_ty'].value_counts().to_frame().reset_index()\n",
        "construction_typo_v.rename(columns={'index':'project_ty','project_ty':'count'},inplace=True)\n",
        "bldgs2 = simulatedBldgsGdf[(simulatedBldgsGdf['start_date']< d2 ) & (simulatedBldgsGdf['end_date']> d2 )].copy().reset_index(drop=True)\n",
        "\n",
        "bldgs_constr = bldgs2[bldgs2['status']=='Construction'].reset_index()\n",
        "\n",
        "construction_typo_d = bldgs_constr['project_ty'].value_counts().to_frame().reset_index()\n",
        "construction_typo_d.rename(columns={'index':'project_ty','project_ty':'count'},inplace=True)\n",
        "construction_typo_graph = construction_typo_graph_generator(construction_typo_v,construction_typo_d)"
      ],
      "metadata": {
        "id": "sjpShjKJ2bKb"
      },
      "execution_count": 53,
      "outputs": []
    },
    {
      "cell_type": "code",
      "source": [
        ""
      ],
      "metadata": {
        "id": "XjEYngbf4owr"
      },
      "execution_count": 53,
      "outputs": []
    },
    {
      "cell_type": "markdown",
      "source": [
        "# Suburst"
      ],
      "metadata": {
        "id": "HL42yCjd4qs6"
      }
    },
    {
      "cell_type": "code",
      "source": [
        "def demographic_sunburst(year_q,agents_stay_age_income,colorDict):\n",
        "  title_ = f'{year_q} : Population composition snapshot'\n",
        "  # color_discrete_map = color_group_map_\n",
        "  fig = px.sunburst(agents_stay_age_income, path=['Stay or leave','Age group','Income category'], title=title_)\n",
        "\n",
        "  labels_text = fig.data[0].labels.tolist()\n",
        "  colorLabels = tuple(colorDict[item] for item in labels_text)\n",
        "  fig.data[0].marker.colors = colorLabels\n",
        "  fig.update_traces(textinfo=\"label+percent entry\")\n",
        "  fig.update_layout(showlegend=False, margin=dict(l=0, r=0, t=50, b=0), width=500, height=500)\n",
        "  return fig\n"
      ],
      "metadata": {
        "id": "2ZSlyt2lu3cV"
      },
      "execution_count": 54,
      "outputs": []
    },
    {
      "cell_type": "code",
      "source": [
        "\n",
        "year_makrs = [year for year in np.arange(2015,2031,0.5)]\n",
        "years_with_q2_makrs = []\n",
        "for year in year_makrs:\n",
        "    d = pd.to_datetime(f'{int(year)}-07-01')\n",
        "    if year % 1 == 0:\n",
        "        d = pd.to_datetime(f'{int(year)}-01-01')\n",
        "    years_with_q2_makrs.append(d)\n",
        "    \n",
        "d = pd.to_datetime('2015-01-01')\n",
        "bldgs  = simulatedBldgsGdf[(simulatedBldgsGdf['start_date']< d ) & (simulatedBldgsGdf['end_date']> d )].copy().reset_index(drop=True)\n",
        "bldgs1 = bldgs.copy()\n",
        "agents_synced_buildings_to_date = pd.merge(agents_track_status,bldgs1[['project_nu','status','start_date']],left_on=['ProjNumber','bld_status'], right_on=['project_nu','status'])\n",
        "agents_synced_buildings_to_date_stay_new = agents_synced_buildings_to_date[agents_synced_buildings_to_date['status_x']!='Leave'].drop_duplicates().reset_index(drop=True)\n",
        "\n",
        "age_grown1 = d.year-years_with_q2_makrs[0].year\n",
        "agents_synced_buildings_to_date_stay_new.loc[agents_synced_buildings_to_date_stay_new['status_x']=='stay','age'] = agents_synced_buildings_to_date_stay_new.loc[agents_synced_buildings_to_date_stay_new['status_x']=='stay','age'] + age_grown1\n",
        "agents_synced_buildings_to_date_stay_new.loc[agents_synced_buildings_to_date_stay_new['status_x']=='New Comers','age'] = agents_synced_buildings_to_date_stay_new.loc[agents_synced_buildings_to_date_stay_new['status_x']=='New Comers'].apply(lambda p: p['age'] + (d.year - p['start_date'].year),axis=1)\n",
        "\n",
        "agents_synced_buildings_to_date_stay_new['age_group'] = pd.cut(agents_synced_buildings_to_date_stay_new['age'], [0,44,64,84,130],right=True, labels=[\"18-44\", \"45-64\", \"65-84\", \"85+\"],ordered=True)\n",
        "agents_stay_age_income =agents_synced_buildings_to_date_stay_new[['status_x','age_group','income_cat']].reset_index(drop=True).rename(columns={'status_x':'Stay or leave','age_group':'Age group','income_cat':'Income category'})"
      ],
      "metadata": {
        "id": "6gLAdhHq38ZQ"
      },
      "execution_count": 55,
      "outputs": []
    },
    {
      "cell_type": "code",
      "source": [
        "population_sunburst_graph_init = demographic_sunburst(2019,agents_stay_age_income,colorDict)"
      ],
      "metadata": {
        "id": "DWf3XdJL2mvw"
      },
      "execution_count": 56,
      "outputs": []
    },
    {
      "cell_type": "markdown",
      "source": [
        "# Bubble Figure"
      ],
      "metadata": {
        "id": "6cn9yXeNgrgp"
      }
    },
    {
      "cell_type": "code",
      "source": [
        "def bubble_age_income_stay_time(StayAgeIncome_ReftedDate,NewComersAgeIncome_RefDate,StayAgeIncome_SelectedDate,NewComersAgeIncome_SelectedDate,ref_date_,date_):\n",
        "  #Reference plot\n",
        "  fig = make_subplots(rows=1, cols=2,subplot_titles=(f\"Reference Date {ref_date_}\", f\"Current Date {date_}\"))\n",
        "  fig.add_trace(\n",
        "      go.Scatter(x=NewComersAgeIncome_RefDate['Income category'], y=NewComersAgeIncome_RefDate['Age group'], mode=\"markers\",name='New Comers',marker=dict(size=NewComersAgeIncome_RefDate['ratio']*250,opacity=0.5,color='blue'),showlegend=True,hovertemplate='Households %{text}',text = list(NewComersAgeIncome_RefDate['units'])),\n",
        "      row=1, col=1\n",
        "  )\n",
        "  fig.add_trace(\n",
        "      go.Scatter(x=StayAgeIncome_ReftedDate['Income category'], y=StayAgeIncome_ReftedDate['Age group'], mode=\"markers\",name='Staying',marker=dict(size=StayAgeIncome_ReftedDate['ratio']*250,opacity=0.5,color='red'),showlegend=True,hovertemplate='%Households {text}',text = list(StayAgeIncome_ReftedDate['units'])),\n",
        "      row=1, col=1\n",
        "  )\n",
        "  \n",
        "  fig.add_trace(\n",
        "      go.Scatter(x=NewComersAgeIncome_SelectedDate['Income category'], y=NewComersAgeIncome_SelectedDate['Age group'], mode=\"markers\",name='New Comers',marker=dict(size=NewComersAgeIncome_SelectedDate['ratio']*250,opacity=0.5,color='blue'),showlegend=True,hovertemplate='Households %{text}',text = list(NewComersAgeIncome_SelectedDate['units'])),\n",
        "      row=1, col=2\n",
        "  )\n",
        "  fig.add_trace(\n",
        "      go.Scatter(x=StayAgeIncome_SelectedDate['Income category'], y=StayAgeIncome_SelectedDate['Age group'], mode=\"markers\",name='Staying',marker=dict(size=StayAgeIncome_SelectedDate['ratio']*250,opacity=0.5,color='red'),showlegend=True,hovertemplate='%Households {text}',text = list(StayAgeIncome_SelectedDate['units'])),\n",
        "      row=1, col=2\n",
        "  )\n",
        "  # text = list(StayAgeIncome_SelectedDate['units'])\n",
        "  # hover_text = '%{text}'\n",
        "\n",
        "\n",
        "  #hovertemplate=\"name: %{y}%{x}<br>number: %{marker.symbol}<extra></extra>\")\n",
        "\n",
        "\n",
        "  fig.update_layout(height=475, width=550, title_text=\"Side By Side Subplots\", margin=dict(l=0, r=0, t=50, b=0),legend=dict(orientation=\"h\", yanchor=\"top\",y=0.99,xanchor=\"left\",x=0.01),template='plotly_white')\n",
        "  return fig\n",
        "\n",
        "# get date from function\n",
        "d = pd.to_datetime('2015-01-01')\n",
        "bldgs  = simulatedBldgsGdf[(simulatedBldgsGdf['start_date']< d ) & (simulatedBldgsGdf['end_date']> d )].copy().reset_index(drop=True)\n",
        "bldgs1 = bldgs.copy()\n",
        "\n",
        "agents_synced_buildings_to_date = pd.merge(agents_track_status,bldgs1[['project_nu','status','start_date']],left_on=['ProjNumber','bld_status'], right_on=['project_nu','status'])\n",
        "agents_synced_buildings_to_date_stay_new = agents_synced_buildings_to_date[agents_synced_buildings_to_date['status_x']!='Leave'].drop_duplicates().reset_index(drop=True)\n",
        "\n",
        "#age the agents\n",
        "age_grown1 = d.year-years_with_q2_makrs[0].year\n",
        "agents_synced_buildings_to_date_stay_new.loc[agents_synced_buildings_to_date_stay_new['status_x']=='stay','age'] = agents_synced_buildings_to_date_stay_new.loc[agents_synced_buildings_to_date_stay_new['status_x']=='stay','age'] + age_grown1\n",
        "agents_synced_buildings_to_date_stay_new.loc[agents_synced_buildings_to_date_stay_new['status_x']=='New Comers','age'] = agents_synced_buildings_to_date_stay_new.loc[agents_synced_buildings_to_date_stay_new['status_x']=='New Comers'].apply(lambda p: p['age'] + (d.year - p['start_date'].year),axis=1)\n",
        "\n",
        "#set categories to agents ages\n",
        "agents_synced_buildings_to_date_stay_new['age_group'] = pd.cut(agents_synced_buildings_to_date_stay_new['age'], [0,44,64,84,130],right=True, labels=[\"18-44\", \"45-64\", \"65-84\", \"85+\"],ordered=True)\n",
        "agents_stay_age_income =agents_synced_buildings_to_date_stay_new[['status_x','age_group','income_cat']].reset_index(drop=True).rename(columns={'status_x':'Stay or leave','age_group':'Age group','income_cat':'Income category'})\n",
        "#population_sunburst_graph = demographic_sunburst(2019,agents_stay_age_income,colorDict)\n",
        "agents_stay_age_income['units'] = 1\n",
        "agents_stay_age_income_count = agents_stay_age_income.groupby(['Stay or leave','Age group','Income category']).agg({'units':'count'}).reset_index()\n",
        "new_comers_age_income_count = agents_stay_age_income_count[agents_stay_age_income_count['Stay or leave']=='New Comers'].reset_index(drop=True)\n",
        "stay_age_income_count = agents_stay_age_income_count[agents_stay_age_income_count['Stay or leave']=='stay'].reset_index(drop=True)\n",
        "total = new_comers_age_income_count['units'].sum()+ stay_age_income_count['units'].sum()\n",
        "new_comers_age_income_count['ratio'] = new_comers_age_income_count['units']/total\n",
        "stay_age_income_count['ratio'] = stay_age_income_count['units']/total\n",
        "\n",
        "d_ref = pd.to_datetime('2015-01-01')\n",
        "bldgs  = simulatedBldgsGdf[(simulatedBldgsGdf['start_date']< d_ref ) & (simulatedBldgsGdf['end_date']> d_ref )].copy().reset_index(drop=True)\n",
        "bldgs1 = bldgs.copy()\n",
        "\n",
        "agents_synced_buildings_ref_date = pd.merge(agents_track_status,bldgs1[['project_nu','status','start_date']],left_on=['ProjNumber','bld_status'], right_on=['project_nu','status'])\n",
        "agents_synced_buildings_ref_date_stay_new = agents_synced_buildings_ref_date[agents_synced_buildings_ref_date['status_x']!='Leave'].drop_duplicates().reset_index(drop=True)\n",
        "\n",
        "#age the agents\n",
        "age_grown1 = d_ref.year-years_with_q2_makrs[0].year\n",
        "agents_synced_buildings_ref_date_stay_new.loc[agents_synced_buildings_ref_date_stay_new['status_x']=='stay','age'] = agents_synced_buildings_ref_date_stay_new.loc[agents_synced_buildings_ref_date_stay_new['status_x']=='stay','age'] + age_grown1\n",
        "agents_synced_buildings_ref_date_stay_new.loc[agents_synced_buildings_ref_date_stay_new['status_x']=='New Comers','age'] = agents_synced_buildings_ref_date_stay_new.loc[agents_synced_buildings_ref_date_stay_new['status_x']=='New Comers'].apply(lambda p: p['age'] + (d_ref.year - p['start_date'].year),axis=1)\n",
        "\n",
        "#set categories to agents ages\n",
        "agents_synced_buildings_ref_date_stay_new['age_group'] = pd.cut(agents_synced_buildings_ref_date_stay_new['age'], [0,44,64,84,130],right=True, labels=[\"18-44\", \"45-64\", \"65-84\", \"85+\"],ordered=True)\n",
        "agents_stay_age_income_ref =agents_synced_buildings_ref_date_stay_new[['status_x','age_group','income_cat']].reset_index(drop=True).rename(columns={'status_x':'Stay or leave','age_group':'Age group','income_cat':'Income category'})\n",
        "#population_sunburst_graph = demographic_sunburst(2019,agents_stay_age_income,colorDict)\n",
        "agents_stay_age_income_ref['units'] = 1\n",
        "agents_stay_age_income_ref = agents_stay_age_income_ref.groupby(['Stay or leave','Age group','Income category']).agg({'units':'count'}).reset_index()\n",
        "new_comers_age_income_count_ref = agents_stay_age_income_ref[agents_stay_age_income_ref['Stay or leave']=='New Comers'].reset_index(drop=True)\n",
        "stay_age_income_count_ref = agents_stay_age_income_ref[agents_stay_age_income_ref['Stay or leave']=='stay'].reset_index(drop=True)\n",
        "total_ref = new_comers_age_income_count_ref['units'].sum()+ stay_age_income_count_ref['units'].sum()\n",
        "new_comers_age_income_count_ref['ratio'] = new_comers_age_income_count_ref['units']/total_ref\n",
        "stay_age_income_count_ref['ratio'] = stay_age_income_count_ref['units']/total_ref\n",
        "bubble_age_income = bubble_age_income_stay_time(stay_age_income_count_ref,new_comers_age_income_count_ref,stay_age_income_count,new_comers_age_income_count,'2015 Q1','2015 Q1')\n"
      ],
      "metadata": {
        "id": "-9-5i7qKiAqk"
      },
      "execution_count": 57,
      "outputs": []
    },
    {
      "cell_type": "code",
      "source": [
        "agents_stay_age_income_ref"
      ],
      "metadata": {
        "colab": {
          "base_uri": "https://localhost:8080/",
          "height": 426
        },
        "id": "pFefP7RGp8jE",
        "outputId": "66f04682-2a9c-4ca7-9827-ca05408d7e58"
      },
      "execution_count": 58,
      "outputs": [
        {
          "output_type": "execute_result",
          "data": {
            "text/plain": [
              "   Stay or leave Age group Income category  units\n",
              "0           stay     18-44             Low    266\n",
              "1           stay     18-44          Medium    225\n",
              "2           stay     18-44            High      0\n",
              "3           stay     45-64             Low     89\n",
              "4           stay     45-64          Medium     85\n",
              "5           stay     45-64            High      0\n",
              "6           stay     65-84             Low     75\n",
              "7           stay     65-84          Medium     85\n",
              "8           stay     65-84            High      0\n",
              "9           stay       85+             Low     40\n",
              "10          stay       85+          Medium     32\n",
              "11          stay       85+            High      0"
            ],
            "text/html": [
              "\n",
              "  <div id=\"df-f42f0731-c5e5-4b7f-acda-08d1dff414e9\">\n",
              "    <div class=\"colab-df-container\">\n",
              "      <div>\n",
              "<style scoped>\n",
              "    .dataframe tbody tr th:only-of-type {\n",
              "        vertical-align: middle;\n",
              "    }\n",
              "\n",
              "    .dataframe tbody tr th {\n",
              "        vertical-align: top;\n",
              "    }\n",
              "\n",
              "    .dataframe thead th {\n",
              "        text-align: right;\n",
              "    }\n",
              "</style>\n",
              "<table border=\"1\" class=\"dataframe\">\n",
              "  <thead>\n",
              "    <tr style=\"text-align: right;\">\n",
              "      <th></th>\n",
              "      <th>Stay or leave</th>\n",
              "      <th>Age group</th>\n",
              "      <th>Income category</th>\n",
              "      <th>units</th>\n",
              "    </tr>\n",
              "  </thead>\n",
              "  <tbody>\n",
              "    <tr>\n",
              "      <th>0</th>\n",
              "      <td>stay</td>\n",
              "      <td>18-44</td>\n",
              "      <td>Low</td>\n",
              "      <td>266</td>\n",
              "    </tr>\n",
              "    <tr>\n",
              "      <th>1</th>\n",
              "      <td>stay</td>\n",
              "      <td>18-44</td>\n",
              "      <td>Medium</td>\n",
              "      <td>225</td>\n",
              "    </tr>\n",
              "    <tr>\n",
              "      <th>2</th>\n",
              "      <td>stay</td>\n",
              "      <td>18-44</td>\n",
              "      <td>High</td>\n",
              "      <td>0</td>\n",
              "    </tr>\n",
              "    <tr>\n",
              "      <th>3</th>\n",
              "      <td>stay</td>\n",
              "      <td>45-64</td>\n",
              "      <td>Low</td>\n",
              "      <td>89</td>\n",
              "    </tr>\n",
              "    <tr>\n",
              "      <th>4</th>\n",
              "      <td>stay</td>\n",
              "      <td>45-64</td>\n",
              "      <td>Medium</td>\n",
              "      <td>85</td>\n",
              "    </tr>\n",
              "    <tr>\n",
              "      <th>5</th>\n",
              "      <td>stay</td>\n",
              "      <td>45-64</td>\n",
              "      <td>High</td>\n",
              "      <td>0</td>\n",
              "    </tr>\n",
              "    <tr>\n",
              "      <th>6</th>\n",
              "      <td>stay</td>\n",
              "      <td>65-84</td>\n",
              "      <td>Low</td>\n",
              "      <td>75</td>\n",
              "    </tr>\n",
              "    <tr>\n",
              "      <th>7</th>\n",
              "      <td>stay</td>\n",
              "      <td>65-84</td>\n",
              "      <td>Medium</td>\n",
              "      <td>85</td>\n",
              "    </tr>\n",
              "    <tr>\n",
              "      <th>8</th>\n",
              "      <td>stay</td>\n",
              "      <td>65-84</td>\n",
              "      <td>High</td>\n",
              "      <td>0</td>\n",
              "    </tr>\n",
              "    <tr>\n",
              "      <th>9</th>\n",
              "      <td>stay</td>\n",
              "      <td>85+</td>\n",
              "      <td>Low</td>\n",
              "      <td>40</td>\n",
              "    </tr>\n",
              "    <tr>\n",
              "      <th>10</th>\n",
              "      <td>stay</td>\n",
              "      <td>85+</td>\n",
              "      <td>Medium</td>\n",
              "      <td>32</td>\n",
              "    </tr>\n",
              "    <tr>\n",
              "      <th>11</th>\n",
              "      <td>stay</td>\n",
              "      <td>85+</td>\n",
              "      <td>High</td>\n",
              "      <td>0</td>\n",
              "    </tr>\n",
              "  </tbody>\n",
              "</table>\n",
              "</div>\n",
              "      <button class=\"colab-df-convert\" onclick=\"convertToInteractive('df-f42f0731-c5e5-4b7f-acda-08d1dff414e9')\"\n",
              "              title=\"Convert this dataframe to an interactive table.\"\n",
              "              style=\"display:none;\">\n",
              "        \n",
              "  <svg xmlns=\"http://www.w3.org/2000/svg\" height=\"24px\"viewBox=\"0 0 24 24\"\n",
              "       width=\"24px\">\n",
              "    <path d=\"M0 0h24v24H0V0z\" fill=\"none\"/>\n",
              "    <path d=\"M18.56 5.44l.94 2.06.94-2.06 2.06-.94-2.06-.94-.94-2.06-.94 2.06-2.06.94zm-11 1L8.5 8.5l.94-2.06 2.06-.94-2.06-.94L8.5 2.5l-.94 2.06-2.06.94zm10 10l.94 2.06.94-2.06 2.06-.94-2.06-.94-.94-2.06-.94 2.06-2.06.94z\"/><path d=\"M17.41 7.96l-1.37-1.37c-.4-.4-.92-.59-1.43-.59-.52 0-1.04.2-1.43.59L10.3 9.45l-7.72 7.72c-.78.78-.78 2.05 0 2.83L4 21.41c.39.39.9.59 1.41.59.51 0 1.02-.2 1.41-.59l7.78-7.78 2.81-2.81c.8-.78.8-2.07 0-2.86zM5.41 20L4 18.59l7.72-7.72 1.47 1.35L5.41 20z\"/>\n",
              "  </svg>\n",
              "      </button>\n",
              "      \n",
              "  <style>\n",
              "    .colab-df-container {\n",
              "      display:flex;\n",
              "      flex-wrap:wrap;\n",
              "      gap: 12px;\n",
              "    }\n",
              "\n",
              "    .colab-df-convert {\n",
              "      background-color: #E8F0FE;\n",
              "      border: none;\n",
              "      border-radius: 50%;\n",
              "      cursor: pointer;\n",
              "      display: none;\n",
              "      fill: #1967D2;\n",
              "      height: 32px;\n",
              "      padding: 0 0 0 0;\n",
              "      width: 32px;\n",
              "    }\n",
              "\n",
              "    .colab-df-convert:hover {\n",
              "      background-color: #E2EBFA;\n",
              "      box-shadow: 0px 1px 2px rgba(60, 64, 67, 0.3), 0px 1px 3px 1px rgba(60, 64, 67, 0.15);\n",
              "      fill: #174EA6;\n",
              "    }\n",
              "\n",
              "    [theme=dark] .colab-df-convert {\n",
              "      background-color: #3B4455;\n",
              "      fill: #D2E3FC;\n",
              "    }\n",
              "\n",
              "    [theme=dark] .colab-df-convert:hover {\n",
              "      background-color: #434B5C;\n",
              "      box-shadow: 0px 1px 3px 1px rgba(0, 0, 0, 0.15);\n",
              "      filter: drop-shadow(0px 1px 2px rgba(0, 0, 0, 0.3));\n",
              "      fill: #FFFFFF;\n",
              "    }\n",
              "  </style>\n",
              "\n",
              "      <script>\n",
              "        const buttonEl =\n",
              "          document.querySelector('#df-f42f0731-c5e5-4b7f-acda-08d1dff414e9 button.colab-df-convert');\n",
              "        buttonEl.style.display =\n",
              "          google.colab.kernel.accessAllowed ? 'block' : 'none';\n",
              "\n",
              "        async function convertToInteractive(key) {\n",
              "          const element = document.querySelector('#df-f42f0731-c5e5-4b7f-acda-08d1dff414e9');\n",
              "          const dataTable =\n",
              "            await google.colab.kernel.invokeFunction('convertToInteractive',\n",
              "                                                     [key], {});\n",
              "          if (!dataTable) return;\n",
              "\n",
              "          const docLinkHtml = 'Like what you see? Visit the ' +\n",
              "            '<a target=\"_blank\" href=https://colab.research.google.com/notebooks/data_table.ipynb>data table notebook</a>'\n",
              "            + ' to learn more about interactive tables.';\n",
              "          element.innerHTML = '';\n",
              "          dataTable['output_type'] = 'display_data';\n",
              "          await google.colab.output.renderOutput(dataTable, element);\n",
              "          const docLink = document.createElement('div');\n",
              "          docLink.innerHTML = docLinkHtml;\n",
              "          element.appendChild(docLink);\n",
              "        }\n",
              "      </script>\n",
              "    </div>\n",
              "  </div>\n",
              "  "
            ]
          },
          "metadata": {},
          "execution_count": 58
        }
      ]
    },
    {
      "cell_type": "code",
      "source": [
        ""
      ],
      "metadata": {
        "id": "kdPiOeBlqFD9"
      },
      "execution_count": 58,
      "outputs": []
    },
    {
      "cell_type": "code",
      "source": [
        ""
      ],
      "metadata": {
        "id": "0yurLLYnqCgV"
      },
      "execution_count": 58,
      "outputs": []
    },
    {
      "cell_type": "code",
      "source": [
        ""
      ],
      "metadata": {
        "id": "D52TQFxKp-gf"
      },
      "execution_count": 58,
      "outputs": []
    },
    {
      "cell_type": "markdown",
      "source": [
        "# Dash"
      ],
      "metadata": {
        "id": "jqCXjmp2xNSs"
      }
    },
    {
      "cell_type": "code",
      "source": [
        "\n",
        "def prepare_dot_matrix(q_date_for_dot_matrix):\n",
        "    # #agents_stat_summary_by_year = pd.read_csv('https://raw.githubusercontent.com/Shai2u/demographic_estimation_dashboard_article/main/dashboard/data/yearly_stats_for_dashboard.csv')\n",
        "\n",
        "    # agents_stat_summary_by_year['New Comers'] = agents_stat_summary_by_year['New Comers_income_low'] + agents_stat_summary_by_year['New Comers_income_medium'] +  + agents_stat_summary_by_year['New Comers_income_high']\n",
        "    # agents_stat_summary_by_year['stay'] = agents_stat_summary_by_year['stay_income_low'] + agents_stat_summary_by_year['stay_income_medium'] +  + agents_stat_summary_by_year['stay_income_high']\n",
        "    # agents_stat_summary_by_year['total_pop'] = agents_stat_summary_by_year['New Comers'] + agents_stat_summary_by_year['stay']\n",
        "    # agents_stat_summary_by_year['New Comers_income_low_ratio'] = agents_stat_summary_by_year['New Comers_income_low']/agents_stat_summary_by_year['total_pop']\n",
        "    # agents_stat_summary_by_year['New Comers_income_medium_ratio'] = agents_stat_summary_by_year['New Comers_income_medium']/agents_stat_summary_by_year['total_pop']\n",
        "    # agents_stat_summary_by_year['New Comers_income_high_ratio'] = agents_stat_summary_by_year['New Comers_income_high']/agents_stat_summary_by_year['total_pop']\n",
        "\n",
        "    # agents_stat_summary_by_year['stay_income_low_ratio'] = agents_stat_summary_by_year['stay_income_low']/agents_stat_summary_by_year['total_pop']\n",
        "    # agents_stat_summary_by_year['stay_income_medium_ratio'] = agents_stat_summary_by_year['stay_income_medium']/agents_stat_summary_by_year['total_pop']\n",
        "    # agents_stat_summary_by_year['stay_income_high_ratio'] = agents_stat_summary_by_year['stay_income_high']/agents_stat_summary_by_year['total_pop']\n",
        "\n",
        "    #create an empty dataset with agent coutn\n",
        "    num_of_agents = 3481\n",
        "    MatrixPlot = pd.DataFrame({'AgentID':range(0,num_of_agents)})\n",
        "    #Number of Columns choose:\n",
        "    numOfColumns=59\n",
        "    numOfRows = 59\n",
        "    # set the columns to display the column number\n",
        "    MatrixPlot['x'] = list(range(1,numOfColumns+1))*numOfRows\n",
        "    #prepare the y column (row number)\n",
        "    y = [[i]*numOfColumns for i in range(1,numOfRows+1)]\n",
        "    temp = []\n",
        "    for i in range(0,numOfRows):\n",
        "        temp +=y[i]\n",
        "    y = temp\n",
        "    MatrixPlot['y'] = y\n",
        "    agents_stat_short = agents_stat_summary_by_year[['year','New Comers','stay']].copy().fillna(0)\n",
        "    agents_stat_short['emptyPalces'] =agents_stat_short.apply(lambda p:num_of_agents-(p['stay']+p['New Comers']), axis=1)\n",
        "    stay_count = int(agents_stat_short.loc[agents_stat_short['year']==q_date_for_dot_matrix,'stay'].values[0])\n",
        "    new_comers = int(agents_stat_short.loc[agents_stat_short['year']==q_date_for_dot_matrix,'New Comers'].values[0])\n",
        "    empty_space = int(agents_stat_short.loc[agents_stat_short['year']==q_date_for_dot_matrix,'emptyPalces'].values[0])\n",
        "    list_ = ['Staying']* stay_count\n",
        "    list_ = list_ + ['New Comers'] * new_comers\n",
        "    list_ = list_ + ['Future Units'] * empty_space\n",
        "    dotMAtrixFig = exportFigure_sq(list_,(q_date_for_dot_matrix),MatrixPlot)\n",
        "    return dotMAtrixFig\n",
        "    #dotMAtrixFig = dotMAtrixFig1\n",
        "\n",
        "line_style = dict(weight=2, opacity=1, color='blue', fillOpacity=0,dashArray=\"10 10\")\n",
        "\n",
        "classes = ['Building before', 'Construction', 'Building after']\n",
        "colorscale = ['#FFEDA0', '#FEB24C', '#FC4E2A']\n",
        "style = dict(weight=2, opacity=1, color='white', fillOpacity=0.7)\n",
        "colorbar = dlx.categorical_colorbar(categories=classes, colorscale=colorscale, width=300, height=30, position=\"bottomleft\")\n",
        "\n",
        "style_handle = assign(\"\"\"function(feature, context){\n",
        "    const {classes, colorscale, style, colorProp} = context.props.hideout;  // get props from hideout\n",
        "    const value = feature.properties[colorProp];  // get value the determines the color\n",
        "    for (let i = 0; i < classes.length; ++i) {\n",
        "        if (value == classes[i]) {\n",
        "            style.fillColor = colorscale[i];  // set the fill color according to the class\n",
        "        }\n",
        "    }\n",
        "    return style;\n",
        "}\"\"\")\n",
        "\n",
        "\n",
        "mapObj = dl.Map([dl.TileLayer(url=cartoUrl, maxZoom=20, attribution=attribution),dl.GeoJSON(data=statisticalStatsJson, options={'style':line_style}),dl.GeoJSON(data = simulatedBldgsJson,options = {'style':style_handle}, id='simulatedBldgs',hideout=dict(colorscale=colorscale, classes=classes, style=style, colorProp=\"status\")),colorbar],center=[32.0272,34.7444], zoom=16, style={'width': '100%', 'height': '600px'})\n",
        "\n",
        "\n",
        "d = pd.to_datetime('2015-01-01')\n",
        "bldgs1 = simulatedBldgsGdf[(simulatedBldgsGdf['start_date']< d ) & (simulatedBldgsGdf['end_date']> d )].copy().reset_index(drop=True)\n",
        "bldg_status = bldgs1['status'].value_counts().to_frame().reset_index()\n",
        "bldg_status.rename(columns={'index':'status','status':'count'},inplace=True)\n",
        "bldg_status_count = get_status_graph(bldg_status)\n",
        "\n",
        "\n",
        "#create an empty dataset with agent coutn\n",
        "num_of_agents = 3481\n",
        "MatrixPlot = pd.DataFrame({'AgentID':range(0,num_of_agents)})\n",
        "#Number of Columns choose:\n",
        "numOfColumns=59\n",
        "numOfRows = 59\n",
        "# set the columns to display the column number\n",
        "MatrixPlot['x'] = list(range(1,numOfColumns+1))*numOfRows\n",
        "#prepare the y column (row number)\n",
        "y = [[i]*numOfColumns for i in range(1,numOfRows+1)]\n",
        "temp = []\n",
        "for i in range(0,numOfRows):\n",
        "    temp +=y[i]\n",
        "y = temp\n",
        "MatrixPlot['y'] = y\n",
        "\n",
        "agents_time_new_Comers_stay = agents_stat_summary_by_year[['year','New Comers','stay']].fillna(0)\n",
        "agents_time_new_Comers_stay['emptyPalces'] = num_of_agents -(agents_time_new_Comers_stay['stay'] +agents_time_new_Comers_stay['New Comers'])\n",
        "\n",
        "\n",
        "dashboard_page =  html.Div([\n",
        "  html.Div([\n",
        "    html.Div([\n",
        "              #To Do Add static legend, that won't chnaged based on years and statistical stats\n",
        "              html.Div(['Place2',mapObj\n",
        "              \n",
        "              ])\n",
        "            ],style={'width': '34%', 'display': 'inline-block'}),\n",
        "\n",
        "        html.Div([\n",
        "            html.Table([\n",
        "                html.Tr([html.Td(['Place1'],id='selectedDate',style={'direction':'rtl','width':'10%'}),\n",
        "                    html.Td([dcc.RangeSlider(id='years-slider',\n",
        "             min=2015,\n",
        "             max=2030,\n",
        "             value=[2015,2015],\n",
        "             marks={str(year):str(year) for year in np.arange(2015,2030,1)},\n",
        "                                                    step=0.5\n",
        "                                                    )\n",
        "                    ],style={'direction':'rtl','width':'90%'})\n",
        "                    \n",
        "                ])\n",
        "            ],style={'direction':'rtl','width':'100%'}),html.Div([dcc.Graph(id='time_seiries_graph',figure=renters_owners_fig)]),\n",
        "            html.Div([html.Div([dcc.Graph(id='typo_count', figure=construction_typo_graph)],style={'width': '49%', 'display': 'inline-block'}),\n",
        "                      html.Div([dcc.Graph(id='status_count',figure=bldg_status_count)],style={'width': '49%', 'display': 'inline-block'})\n",
        "                      \n",
        "                      ])\n",
        "\n",
        "\n",
        "\n",
        "\n",
        "                                                    ], style={'width': '66%', 'float': 'right', 'display': 'inline-block'}),\n",
        "              html.Div([\n",
        "                            html.Div([\n",
        "                                #To Do Add static legend, that won't chnaged based on years and statistical stats\n",
        "                                html.Div([\n",
        "                                          dcc.Graph(id='bubble_graph',figure=bubble_age_income)])],style={'width': '34%', 'display': 'inline-block'}),\n",
        "                      html.Div([\n",
        "                                #To Do Add static legend, that won't chnaged based on years and statistical stats\n",
        "                                html.Div([dcc.Graph(id='population_sunburst_fig',figure= population_sunburst_graph_init)])],style={'width': '33%', 'display': 'inline-block'}),\n",
        "                      html.Div([\n",
        "                                #To Do Add static legend, that won't chnaged based on years and statistical stats\n",
        "                                html.Div([dcc.Graph(id='dot_matrix_fig',figure=dotMAtrixFig1),html.Div(id='test',children='test')])],style={'width': '33%', 'display': 'inline-block'}),\n",
        "\n",
        "\n",
        "            ])\n",
        "  ], style={\n",
        "        'borderBottom': 'thin lightgrey solid',\n",
        "        'backgroundColor': 'rgb(250, 250, 250)',\n",
        "        'padding': '10px 5px'})\n",
        "        #dcc.Store(id='eng_heb_data')\n",
        "])\n",
        "app = JupyterDash(__name__,suppress_callback_exceptions=True,prevent_initial_callbacks=True)\n",
        "app.layout = html.Div([\n",
        "\n",
        "    dashboard_page\n",
        "])\n",
        "\n",
        "@app.callback(\n",
        "    Output('selectedDate', 'children'),\n",
        "    Output('simulatedBldgs', 'data'),\n",
        "    Output('status_count','figure'),\n",
        "    Output('dot_matrix_fig','figure'),\n",
        "    Output('time_seiries_graph','figure'),\n",
        "    Output('typo_count','figure'),\n",
        "    Output('population_sunburst_fig','figure'),\n",
        "    Output('bubble_graph','figure'),\n",
        "    Input('years-slider', 'value')\n",
        "    # Output('test','children'),\n",
        "    #Output('dot_matrix_fig','figure'),\n",
        "\n",
        ")\n",
        "def update_output_div(input_value):\n",
        "    #simulatedBldgsGdf\n",
        "    ref_year = int(input_value[0])\n",
        "    selected_year = int(input_value[1])\n",
        "    date_return = f'Q3 {selected_year}'\n",
        "    q_date_for_dot_matrix = f'{selected_year} Q3'\n",
        "    d = pd.to_datetime(f'{selected_year}-07-01')\n",
        "    if input_value[1] % 1 == 0:\n",
        "        d = pd.to_datetime(f'{selected_year}-01-01')\n",
        "        date_return = f'Q1 {selected_year}'\n",
        "        q_date_for_dot_matrix = f'{selected_year} Q1'\n",
        "    #reference date\n",
        "    d_ref = pd.to_datetime(f'{ref_year}-07-01')\n",
        "    ref_q_date = f'Q3 {ref_year}'\n",
        "    if input_value[0] % 1 == 0:\n",
        "          d_ref = pd.to_datetime(f'{ref_year}-01-01')\n",
        "          ref_q_date = f'Q1 {ref_year}'\n",
        "\n",
        "\n",
        "\n",
        "    bldgs  = simulatedBldgsGdf[(simulatedBldgsGdf['start_date']< d ) & (simulatedBldgsGdf['end_date']> d )].copy().reset_index(drop=True)\n",
        "    bldgs1 = bldgs.copy()\n",
        "    bldgs['start_date'] = bldgs['start_date'].astype(str)\n",
        "    bldgs['end_date'] = bldgs['end_date'].astype(str)\n",
        "    bldgsJson = json.loads(bldgs.to_json())\n",
        "\n",
        "\n",
        "    #construction\n",
        "    bldg_status = bldgs1['status'].value_counts().to_frame().reset_index()\n",
        "    bldg_status.rename(columns={'index':'status','status':'count'},inplace=True)\n",
        "    if len(bldg_status)<3:\n",
        "      if len(bldg_status[bldg_status['status'].isin(['Building before'])])==0:\n",
        "        bldg_status = pd.concat([bldg_status,pd.DataFrame({'status':['Building before'],'count':[0]})]).reset_index(drop=True)\n",
        "      if len(bldg_status[bldg_status['status'].isin(['Construction'])])==0:\n",
        "        bldg_status = pd.concat([bldg_status,pd.DataFrame({'status':['Construction'],'count':[0]})]).reset_index(drop=True)\n",
        "      if len(bldg_status[bldg_status['status'].isin(['Building after'])])==0:\n",
        "        bldg_status = pd.concat([bldg_status,pd.DataFrame({'status':['Building after'],'count':[0]})]).reset_index(drop=True)\n",
        "    bldg_status_count = get_status_graph(bldg_status)\n",
        "    \n",
        "    d2 = d - datetime.timedelta(days=180)\n",
        "    bldgs2 = simulatedBldgsGdf[(simulatedBldgsGdf['start_date']< d ) & (simulatedBldgsGdf['end_date']> d )].copy().reset_index(drop=True)\n",
        "\n",
        "    bldgs_constr = bldgs2[bldgs2['status']=='Construction'].reset_index()\n",
        "\n",
        "    construction_typo_v = bldgs_constr['project_ty'].value_counts().to_frame().reset_index()\n",
        "    construction_typo_v.rename(columns={'index':'project_ty','project_ty':'count'},inplace=True)\n",
        "\n",
        "    bldgs3 = simulatedBldgsGdf[(simulatedBldgsGdf['start_date']< d2 ) & (simulatedBldgsGdf['end_date']> d2 )].copy().reset_index(drop=True)\n",
        "    bldgs_constr = bldgs3[bldgs3['status']=='Construction'].reset_index()\n",
        "\n",
        "    construction_typo_d = bldgs_constr['project_ty'].value_counts().to_frame().reset_index()\n",
        "    construction_typo_d.rename(columns={'index':'project_ty','project_ty':'count'},inplace=True)\n",
        "    construction_typo_graph = construction_typo_graph_generator(construction_typo_v,construction_typo_d)\n",
        "    #bldg_status_count = get_status_graph(bldg_status)\n",
        "\n",
        "\n",
        "    # Dot Matrix\n",
        "\n",
        "    dotMAtrixFig1 = prepare_dot_matrix(q_date_for_dot_matrix)\n",
        "    #renters Owners\n",
        "    renters_owners_fig = renters_owners_graph(q_date_for_dot_matrix)\n",
        "\n",
        "\n",
        "    #sunburst\n",
        "\n",
        "    bldgs  = simulatedBldgsGdf[(simulatedBldgsGdf['start_date']< d ) & (simulatedBldgsGdf['end_date']> d )].copy().reset_index(drop=True)\n",
        "    bldgs1 = bldgs.copy()\n",
        "    agents_synced_buildings_to_date = pd.merge(agents_track_status,bldgs1[['project_nu','status','start_date']],left_on=['ProjNumber','bld_status'], right_on=['project_nu','status'])\n",
        "    agents_synced_buildings_to_date_stay_new = agents_synced_buildings_to_date[agents_synced_buildings_to_date['status_x']!='Leave'].drop_duplicates().reset_index(drop=True)\n",
        "\n",
        "    age_grown1 = d.year-years_with_q2_makrs[0].year\n",
        "    agents_synced_buildings_to_date_stay_new.loc[agents_synced_buildings_to_date_stay_new['status_x']=='stay','age'] = agents_synced_buildings_to_date_stay_new.loc[agents_synced_buildings_to_date_stay_new['status_x']=='stay','age'] + age_grown1\n",
        "    agents_synced_buildings_to_date_stay_new.loc[agents_synced_buildings_to_date_stay_new['status_x']=='New Comers','age'] = agents_synced_buildings_to_date_stay_new.loc[agents_synced_buildings_to_date_stay_new['status_x']=='New Comers'].apply(lambda p: p['age'] + (d.year - p['start_date'].year),axis=1)\n",
        "\n",
        "    agents_synced_buildings_to_date_stay_new['age_group'] = pd.cut(agents_synced_buildings_to_date_stay_new['age'], [0,44,64,84,130],right=True, labels=[\"18-44\", \"45-64\", \"65-84\", \"85+\"],ordered=True)\n",
        "    agents_stay_age_income =agents_synced_buildings_to_date_stay_new[['status_x','age_group','income_cat']].reset_index(drop=True).rename(columns={'status_x':'Stay or leave','age_group':'Age group','income_cat':'Income category'})\n",
        "    population_sunburst_graph = demographic_sunburst(date_return,agents_stay_age_income,colorDict)\n",
        "\n",
        "\n",
        "    #bubble graphs Selected\n",
        "    bldgs  = simulatedBldgsGdf[(simulatedBldgsGdf['start_date']< d ) & (simulatedBldgsGdf['end_date']> d )].copy().reset_index(drop=True)\n",
        "    bldgs1 = bldgs.copy()\n",
        "\n",
        "    agents_synced_buildings_to_date = pd.merge(agents_track_status,bldgs1[['project_nu','status','start_date']],left_on=['ProjNumber','bld_status'], right_on=['project_nu','status'])\n",
        "    agents_synced_buildings_to_date_stay_new = agents_synced_buildings_to_date[agents_synced_buildings_to_date['status_x']!='Leave'].drop_duplicates().reset_index(drop=True)\n",
        "\n",
        "    #age the agents\n",
        "    age_grown1 = d.year-years_with_q2_makrs[0].year\n",
        "    agents_synced_buildings_to_date_stay_new.loc[agents_synced_buildings_to_date_stay_new['status_x']=='stay','age'] = agents_synced_buildings_to_date_stay_new.loc[agents_synced_buildings_to_date_stay_new['status_x']=='stay','age'] + age_grown1\n",
        "    agents_synced_buildings_to_date_stay_new.loc[agents_synced_buildings_to_date_stay_new['status_x']=='New Comers','age'] = agents_synced_buildings_to_date_stay_new.loc[agents_synced_buildings_to_date_stay_new['status_x']=='New Comers'].apply(lambda p: p['age'] + (d.year - p['start_date'].year),axis=1)\n",
        "\n",
        "    #set categories to agents ages\n",
        "    agents_synced_buildings_to_date_stay_new['age_group'] = pd.cut(agents_synced_buildings_to_date_stay_new['age'], [0,44,64,84,130],right=True, labels=[\"18-44\", \"45-64\", \"65-84\", \"85+\"],ordered=True)\n",
        "    agents_stay_age_income =agents_synced_buildings_to_date_stay_new[['status_x','age_group','income_cat']].reset_index(drop=True).rename(columns={'status_x':'Stay or leave','age_group':'Age group','income_cat':'Income category'})\n",
        "    #population_sunburst_graph = demographic_sunburst(2019,agents_stay_age_income,colorDict)\n",
        "    agents_stay_age_income['units'] = 1\n",
        "    agents_stay_age_income_count = agents_stay_age_income.groupby(['Stay or leave','Age group','Income category']).agg({'units':'count'}).reset_index()\n",
        "    new_comers_age_income_count = agents_stay_age_income_count[agents_stay_age_income_count['Stay or leave']=='New Comers'].reset_index(drop=True)\n",
        "    stay_age_income_count = agents_stay_age_income_count[agents_stay_age_income_count['Stay or leave']=='stay'].reset_index(drop=True)\n",
        "    total = new_comers_age_income_count['units'].sum()+ stay_age_income_count['units'].sum()\n",
        "    new_comers_age_income_count['ratio'] = new_comers_age_income_count['units']/total\n",
        "    stay_age_income_count['ratio'] = stay_age_income_count['units']/total\n",
        "\n",
        "    #reference selection\n",
        "    bldgs  = simulatedBldgsGdf[(simulatedBldgsGdf['start_date']< d_ref ) & (simulatedBldgsGdf['end_date']> d_ref )].copy().reset_index(drop=True)\n",
        "    bldgs1 = bldgs.copy()\n",
        "\n",
        "    agents_synced_buildings_ref_date = pd.merge(agents_track_status,bldgs1[['project_nu','status','start_date']],left_on=['ProjNumber','bld_status'], right_on=['project_nu','status'])\n",
        "    agents_synced_buildings_ref_date_stay_new = agents_synced_buildings_ref_date[agents_synced_buildings_ref_date['status_x']!='Leave'].drop_duplicates().reset_index(drop=True)\n",
        "\n",
        "    #age the agents\n",
        "    age_grown1 = d_ref.year-years_with_q2_makrs[0].year\n",
        "    agents_synced_buildings_ref_date_stay_new.loc[agents_synced_buildings_ref_date_stay_new['status_x']=='stay','age'] = agents_synced_buildings_ref_date_stay_new.loc[agents_synced_buildings_ref_date_stay_new['status_x']=='stay','age'] + age_grown1\n",
        "    agents_synced_buildings_ref_date_stay_new.loc[agents_synced_buildings_ref_date_stay_new['status_x']=='New Comers','age'] = agents_synced_buildings_ref_date_stay_new.loc[agents_synced_buildings_ref_date_stay_new['status_x']=='New Comers'].apply(lambda p: p['age'] + (d_ref.year - p['start_date'].year),axis=1)\n",
        "\n",
        "    #set categories to agents ages\n",
        "    agents_synced_buildings_ref_date_stay_new['age_group'] = pd.cut(agents_synced_buildings_ref_date_stay_new['age'], [0,44,64,84,130],right=True, labels=[\"18-44\", \"45-64\", \"65-84\", \"85+\"],ordered=True)\n",
        "    agents_stay_age_income_ref =agents_synced_buildings_ref_date_stay_new[['status_x','age_group','income_cat']].reset_index(drop=True).rename(columns={'status_x':'Stay or leave','age_group':'Age group','income_cat':'Income category'})\n",
        "    #population_sunburst_graph = demographic_sunburst(2019,agents_stay_age_income,colorDict)\n",
        "    agents_stay_age_income_ref['units'] = 1\n",
        "    agents_stay_age_income_ref = agents_stay_age_income_ref.groupby(['Stay or leave','Age group','Income category']).agg({'units':'count'}).reset_index()\n",
        "    new_comers_age_income_count_ref = agents_stay_age_income_ref[agents_stay_age_income_ref['Stay or leave']=='New Comers'].reset_index(drop=True)\n",
        "    stay_age_income_count_ref = agents_stay_age_income_ref[agents_stay_age_income_ref['Stay or leave']=='stay'].reset_index(drop=True)\n",
        "    total_ref = new_comers_age_income_count_ref['units'].sum()+ stay_age_income_count_ref['units'].sum()\n",
        "    new_comers_age_income_count_ref['ratio'] = new_comers_age_income_count_ref['units']/total_ref\n",
        "    stay_age_income_count_ref['ratio'] = stay_age_income_count_ref['units']/total_ref\n",
        "    bubble_age_income = bubble_age_income_stay_time(stay_age_income_count_ref,new_comers_age_income_count_ref,stay_age_income_count,new_comers_age_income_count,ref_q_date,date_return)\n",
        "\n",
        "\n",
        "\n",
        "    return date_return,bldgsJson,bldg_status_count,dotMAtrixFig1,renters_owners_fig,construction_typo_graph,population_sunburst_graph,bubble_age_income\n",
        "\n",
        "## To dos\n",
        "## Add Tama 38 Construction Current Coutner\n",
        "app.run_server(mode='external',debug=False,port=8050)"
      ],
      "metadata": {
        "colab": {
          "base_uri": "https://localhost:8080/",
          "height": 86
        },
        "id": "wfw2RR7UFF-7",
        "outputId": "be8e5fdd-2673-4c8f-a833-f14b008d40a3"
      },
      "execution_count": 59,
      "outputs": [
        {
          "output_type": "stream",
          "name": "stderr",
          "text": [
            " * Running on http://127.0.0.1:8050/ (Press CTRL+C to quit)\n",
            "127.0.0.1 - - [02/Apr/2022 14:32:11] \"\u001b[37mGET /_alive_0cbf7f4d-dc13-428a-9045-c8983d27712f HTTP/1.1\u001b[0m\" 200 -\n"
          ]
        },
        {
          "output_type": "stream",
          "name": "stdout",
          "text": [
            "Dash app running on:\n"
          ]
        },
        {
          "output_type": "display_data",
          "data": {
            "text/plain": [
              "<IPython.core.display.Javascript object>"
            ],
            "application/javascript": [
              "(async (port, path, text, element) => {\n",
              "    if (!google.colab.kernel.accessAllowed) {\n",
              "      return;\n",
              "    }\n",
              "    element.appendChild(document.createTextNode(''));\n",
              "    const url = await google.colab.kernel.proxyPort(port);\n",
              "    const anchor = document.createElement('a');\n",
              "    anchor.href = new URL(path, url).toString();\n",
              "    anchor.target = '_blank';\n",
              "    anchor.setAttribute('data-href', url + path);\n",
              "    anchor.textContent = text;\n",
              "    element.appendChild(anchor);\n",
              "  })(8050, \"/\", \"http://127.0.0.1:8050/\", window.element)"
            ]
          },
          "metadata": {}
        }
      ]
    },
    {
      "cell_type": "code",
      "source": [
        ""
      ],
      "metadata": {
        "id": "jNLkRTNA-XOn"
      },
      "execution_count": null,
      "outputs": []
    },
    {
      "cell_type": "code",
      "source": [
        ""
      ],
      "metadata": {
        "id": "uZtdjFok-Uyu"
      },
      "execution_count": null,
      "outputs": []
    },
    {
      "cell_type": "code",
      "source": [
        ""
      ],
      "metadata": {
        "id": "-EriR92POROr"
      },
      "execution_count": null,
      "outputs": []
    },
    {
      "cell_type": "markdown",
      "source": [
        "# After Dash"
      ],
      "metadata": {
        "id": "uLthPiQmxSnb"
      }
    },
    {
      "cell_type": "code",
      "source": [
        "agents_stat_summary_by_year.head()"
      ],
      "metadata": {
        "id": "0YmPBa7gOrYB",
        "colab": {
          "base_uri": "https://localhost:8080/",
          "height": 374
        },
        "outputId": "49386d94-674e-429f-aaf7-07fa2291ddc0"
      },
      "execution_count": null,
      "outputs": [
        {
          "output_type": "execute_result",
          "data": {
            "text/plain": [
              "   Unnamed: 0     year  New Comers_apartment_size_q1  stay_apartment_size_q1  \\\n",
              "0           0  2015 Q1                           NaN                    66.0   \n",
              "1           0  2015 Q3                           NaN                    68.0   \n",
              "2           0  2016 Q1                           NaN                    68.0   \n",
              "3           0  2016 Q3                           NaN                    66.0   \n",
              "4           0  2017 Q1                          82.0                    66.0   \n",
              "\n",
              "   New Comers_apartment_size_q2  stay_apartment_size_q2  \\\n",
              "0                           NaN                    73.0   \n",
              "1                           NaN                    73.0   \n",
              "2                           NaN                    73.0   \n",
              "3                           NaN                    73.0   \n",
              "4                          82.0                    73.0   \n",
              "\n",
              "   New Comers_apartment_size_q3  stay_apartment_size_q3  New Comers_age_q1  \\\n",
              "0                           NaN                    83.0                NaN   \n",
              "1                           NaN                    83.0                NaN   \n",
              "2                           NaN                    83.0                NaN   \n",
              "3                           NaN                    83.0                NaN   \n",
              "4                          82.0                    83.0               32.0   \n",
              "\n",
              "   stay_age_q1  New Comers_age_q2  stay_age_q2  New Comers_age_q3  \\\n",
              "0         30.0                NaN         42.0                NaN   \n",
              "1         30.0                NaN         42.0                NaN   \n",
              "2         31.0                NaN         43.0                NaN   \n",
              "3         31.0                NaN         43.0                NaN   \n",
              "4         32.0               47.0         44.0               60.0   \n",
              "\n",
              "   stay_age_q3  New Comers_income_q1  stay_income_q1  New Comers_income_q2  \\\n",
              "0        65.00                   NaN          6403.0                   NaN   \n",
              "1        65.00                   NaN          6413.5                   NaN   \n",
              "2        66.00                   NaN          6413.5                   NaN   \n",
              "3        65.25                   NaN          6427.0                   NaN   \n",
              "4        66.75          18838.105263          6496.0          21097.105263   \n",
              "\n",
              "   stay_income_q2  New Comers_income_q3  stay_income_q3  New Comers_rent  \\\n",
              "0          8771.0                   NaN        11667.00              NaN   \n",
              "1          8804.0                   NaN        11669.00              NaN   \n",
              "2          8804.0                   NaN        11669.00              NaN   \n",
              "3          8833.5                   NaN        11729.75              NaN   \n",
              "4          8934.5          22033.947368        11806.25             11.0   \n",
              "\n",
              "   stay_rent  New Comers_own  stay_own  New Comers_income_low  \\\n",
              "0        318             NaN       579                    NaN   \n",
              "1        310             NaN       565                    NaN   \n",
              "2        310             NaN       565                    NaN   \n",
              "3        294             NaN       542                    NaN   \n",
              "4        282            14.0       520                    0.0   \n",
              "\n",
              "   stay_income_low  New Comers_income_medium  stay_income_medium  \\\n",
              "0            470.0                       NaN               427.0   \n",
              "1            454.0                       NaN               421.0   \n",
              "2            454.0                       NaN               421.0   \n",
              "3            432.0                       NaN               404.0   \n",
              "4            405.0                      11.0               397.0   \n",
              "\n",
              "   New Comers_income_high  stay_income_high  New Comers   stay  total_pop  \\\n",
              "0                     NaN               0.0         NaN  897.0        NaN   \n",
              "1                     NaN               0.0         NaN  875.0        NaN   \n",
              "2                     NaN               0.0         NaN  875.0        NaN   \n",
              "3                     NaN               0.0         NaN  836.0        NaN   \n",
              "4                    14.0               0.0        25.0  802.0      827.0   \n",
              "\n",
              "   New Comers_income_low_ratio  New Comers_income_medium_ratio  \\\n",
              "0                          NaN                             NaN   \n",
              "1                          NaN                             NaN   \n",
              "2                          NaN                             NaN   \n",
              "3                          NaN                             NaN   \n",
              "4                          0.0                        0.013301   \n",
              "\n",
              "   New Comers_income_high_ratio  stay_income_low_ratio  \\\n",
              "0                           NaN                    NaN   \n",
              "1                           NaN                    NaN   \n",
              "2                           NaN                    NaN   \n",
              "3                           NaN                    NaN   \n",
              "4                      0.016929               0.489722   \n",
              "\n",
              "   stay_income_medium_ratio  stay_income_high_ratio  \n",
              "0                       NaN                     NaN  \n",
              "1                       NaN                     NaN  \n",
              "2                       NaN                     NaN  \n",
              "3                       NaN                     NaN  \n",
              "4                  0.480048                     0.0  "
            ],
            "text/html": [
              "\n",
              "  <div id=\"df-51d4b7eb-61c3-4aab-8e70-6a7046d5669c\">\n",
              "    <div class=\"colab-df-container\">\n",
              "      <div>\n",
              "<style scoped>\n",
              "    .dataframe tbody tr th:only-of-type {\n",
              "        vertical-align: middle;\n",
              "    }\n",
              "\n",
              "    .dataframe tbody tr th {\n",
              "        vertical-align: top;\n",
              "    }\n",
              "\n",
              "    .dataframe thead th {\n",
              "        text-align: right;\n",
              "    }\n",
              "</style>\n",
              "<table border=\"1\" class=\"dataframe\">\n",
              "  <thead>\n",
              "    <tr style=\"text-align: right;\">\n",
              "      <th></th>\n",
              "      <th>Unnamed: 0</th>\n",
              "      <th>year</th>\n",
              "      <th>New Comers_apartment_size_q1</th>\n",
              "      <th>stay_apartment_size_q1</th>\n",
              "      <th>New Comers_apartment_size_q2</th>\n",
              "      <th>stay_apartment_size_q2</th>\n",
              "      <th>New Comers_apartment_size_q3</th>\n",
              "      <th>stay_apartment_size_q3</th>\n",
              "      <th>New Comers_age_q1</th>\n",
              "      <th>stay_age_q1</th>\n",
              "      <th>New Comers_age_q2</th>\n",
              "      <th>stay_age_q2</th>\n",
              "      <th>New Comers_age_q3</th>\n",
              "      <th>stay_age_q3</th>\n",
              "      <th>New Comers_income_q1</th>\n",
              "      <th>stay_income_q1</th>\n",
              "      <th>New Comers_income_q2</th>\n",
              "      <th>stay_income_q2</th>\n",
              "      <th>New Comers_income_q3</th>\n",
              "      <th>stay_income_q3</th>\n",
              "      <th>New Comers_rent</th>\n",
              "      <th>stay_rent</th>\n",
              "      <th>New Comers_own</th>\n",
              "      <th>stay_own</th>\n",
              "      <th>New Comers_income_low</th>\n",
              "      <th>stay_income_low</th>\n",
              "      <th>New Comers_income_medium</th>\n",
              "      <th>stay_income_medium</th>\n",
              "      <th>New Comers_income_high</th>\n",
              "      <th>stay_income_high</th>\n",
              "      <th>New Comers</th>\n",
              "      <th>stay</th>\n",
              "      <th>total_pop</th>\n",
              "      <th>New Comers_income_low_ratio</th>\n",
              "      <th>New Comers_income_medium_ratio</th>\n",
              "      <th>New Comers_income_high_ratio</th>\n",
              "      <th>stay_income_low_ratio</th>\n",
              "      <th>stay_income_medium_ratio</th>\n",
              "      <th>stay_income_high_ratio</th>\n",
              "    </tr>\n",
              "  </thead>\n",
              "  <tbody>\n",
              "    <tr>\n",
              "      <th>0</th>\n",
              "      <td>0</td>\n",
              "      <td>2015 Q1</td>\n",
              "      <td>NaN</td>\n",
              "      <td>66.0</td>\n",
              "      <td>NaN</td>\n",
              "      <td>73.0</td>\n",
              "      <td>NaN</td>\n",
              "      <td>83.0</td>\n",
              "      <td>NaN</td>\n",
              "      <td>30.0</td>\n",
              "      <td>NaN</td>\n",
              "      <td>42.0</td>\n",
              "      <td>NaN</td>\n",
              "      <td>65.00</td>\n",
              "      <td>NaN</td>\n",
              "      <td>6403.0</td>\n",
              "      <td>NaN</td>\n",
              "      <td>8771.0</td>\n",
              "      <td>NaN</td>\n",
              "      <td>11667.00</td>\n",
              "      <td>NaN</td>\n",
              "      <td>318</td>\n",
              "      <td>NaN</td>\n",
              "      <td>579</td>\n",
              "      <td>NaN</td>\n",
              "      <td>470.0</td>\n",
              "      <td>NaN</td>\n",
              "      <td>427.0</td>\n",
              "      <td>NaN</td>\n",
              "      <td>0.0</td>\n",
              "      <td>NaN</td>\n",
              "      <td>897.0</td>\n",
              "      <td>NaN</td>\n",
              "      <td>NaN</td>\n",
              "      <td>NaN</td>\n",
              "      <td>NaN</td>\n",
              "      <td>NaN</td>\n",
              "      <td>NaN</td>\n",
              "      <td>NaN</td>\n",
              "    </tr>\n",
              "    <tr>\n",
              "      <th>1</th>\n",
              "      <td>0</td>\n",
              "      <td>2015 Q3</td>\n",
              "      <td>NaN</td>\n",
              "      <td>68.0</td>\n",
              "      <td>NaN</td>\n",
              "      <td>73.0</td>\n",
              "      <td>NaN</td>\n",
              "      <td>83.0</td>\n",
              "      <td>NaN</td>\n",
              "      <td>30.0</td>\n",
              "      <td>NaN</td>\n",
              "      <td>42.0</td>\n",
              "      <td>NaN</td>\n",
              "      <td>65.00</td>\n",
              "      <td>NaN</td>\n",
              "      <td>6413.5</td>\n",
              "      <td>NaN</td>\n",
              "      <td>8804.0</td>\n",
              "      <td>NaN</td>\n",
              "      <td>11669.00</td>\n",
              "      <td>NaN</td>\n",
              "      <td>310</td>\n",
              "      <td>NaN</td>\n",
              "      <td>565</td>\n",
              "      <td>NaN</td>\n",
              "      <td>454.0</td>\n",
              "      <td>NaN</td>\n",
              "      <td>421.0</td>\n",
              "      <td>NaN</td>\n",
              "      <td>0.0</td>\n",
              "      <td>NaN</td>\n",
              "      <td>875.0</td>\n",
              "      <td>NaN</td>\n",
              "      <td>NaN</td>\n",
              "      <td>NaN</td>\n",
              "      <td>NaN</td>\n",
              "      <td>NaN</td>\n",
              "      <td>NaN</td>\n",
              "      <td>NaN</td>\n",
              "    </tr>\n",
              "    <tr>\n",
              "      <th>2</th>\n",
              "      <td>0</td>\n",
              "      <td>2016 Q1</td>\n",
              "      <td>NaN</td>\n",
              "      <td>68.0</td>\n",
              "      <td>NaN</td>\n",
              "      <td>73.0</td>\n",
              "      <td>NaN</td>\n",
              "      <td>83.0</td>\n",
              "      <td>NaN</td>\n",
              "      <td>31.0</td>\n",
              "      <td>NaN</td>\n",
              "      <td>43.0</td>\n",
              "      <td>NaN</td>\n",
              "      <td>66.00</td>\n",
              "      <td>NaN</td>\n",
              "      <td>6413.5</td>\n",
              "      <td>NaN</td>\n",
              "      <td>8804.0</td>\n",
              "      <td>NaN</td>\n",
              "      <td>11669.00</td>\n",
              "      <td>NaN</td>\n",
              "      <td>310</td>\n",
              "      <td>NaN</td>\n",
              "      <td>565</td>\n",
              "      <td>NaN</td>\n",
              "      <td>454.0</td>\n",
              "      <td>NaN</td>\n",
              "      <td>421.0</td>\n",
              "      <td>NaN</td>\n",
              "      <td>0.0</td>\n",
              "      <td>NaN</td>\n",
              "      <td>875.0</td>\n",
              "      <td>NaN</td>\n",
              "      <td>NaN</td>\n",
              "      <td>NaN</td>\n",
              "      <td>NaN</td>\n",
              "      <td>NaN</td>\n",
              "      <td>NaN</td>\n",
              "      <td>NaN</td>\n",
              "    </tr>\n",
              "    <tr>\n",
              "      <th>3</th>\n",
              "      <td>0</td>\n",
              "      <td>2016 Q3</td>\n",
              "      <td>NaN</td>\n",
              "      <td>66.0</td>\n",
              "      <td>NaN</td>\n",
              "      <td>73.0</td>\n",
              "      <td>NaN</td>\n",
              "      <td>83.0</td>\n",
              "      <td>NaN</td>\n",
              "      <td>31.0</td>\n",
              "      <td>NaN</td>\n",
              "      <td>43.0</td>\n",
              "      <td>NaN</td>\n",
              "      <td>65.25</td>\n",
              "      <td>NaN</td>\n",
              "      <td>6427.0</td>\n",
              "      <td>NaN</td>\n",
              "      <td>8833.5</td>\n",
              "      <td>NaN</td>\n",
              "      <td>11729.75</td>\n",
              "      <td>NaN</td>\n",
              "      <td>294</td>\n",
              "      <td>NaN</td>\n",
              "      <td>542</td>\n",
              "      <td>NaN</td>\n",
              "      <td>432.0</td>\n",
              "      <td>NaN</td>\n",
              "      <td>404.0</td>\n",
              "      <td>NaN</td>\n",
              "      <td>0.0</td>\n",
              "      <td>NaN</td>\n",
              "      <td>836.0</td>\n",
              "      <td>NaN</td>\n",
              "      <td>NaN</td>\n",
              "      <td>NaN</td>\n",
              "      <td>NaN</td>\n",
              "      <td>NaN</td>\n",
              "      <td>NaN</td>\n",
              "      <td>NaN</td>\n",
              "    </tr>\n",
              "    <tr>\n",
              "      <th>4</th>\n",
              "      <td>0</td>\n",
              "      <td>2017 Q1</td>\n",
              "      <td>82.0</td>\n",
              "      <td>66.0</td>\n",
              "      <td>82.0</td>\n",
              "      <td>73.0</td>\n",
              "      <td>82.0</td>\n",
              "      <td>83.0</td>\n",
              "      <td>32.0</td>\n",
              "      <td>32.0</td>\n",
              "      <td>47.0</td>\n",
              "      <td>44.0</td>\n",
              "      <td>60.0</td>\n",
              "      <td>66.75</td>\n",
              "      <td>18838.105263</td>\n",
              "      <td>6496.0</td>\n",
              "      <td>21097.105263</td>\n",
              "      <td>8934.5</td>\n",
              "      <td>22033.947368</td>\n",
              "      <td>11806.25</td>\n",
              "      <td>11.0</td>\n",
              "      <td>282</td>\n",
              "      <td>14.0</td>\n",
              "      <td>520</td>\n",
              "      <td>0.0</td>\n",
              "      <td>405.0</td>\n",
              "      <td>11.0</td>\n",
              "      <td>397.0</td>\n",
              "      <td>14.0</td>\n",
              "      <td>0.0</td>\n",
              "      <td>25.0</td>\n",
              "      <td>802.0</td>\n",
              "      <td>827.0</td>\n",
              "      <td>0.0</td>\n",
              "      <td>0.013301</td>\n",
              "      <td>0.016929</td>\n",
              "      <td>0.489722</td>\n",
              "      <td>0.480048</td>\n",
              "      <td>0.0</td>\n",
              "    </tr>\n",
              "  </tbody>\n",
              "</table>\n",
              "</div>\n",
              "      <button class=\"colab-df-convert\" onclick=\"convertToInteractive('df-51d4b7eb-61c3-4aab-8e70-6a7046d5669c')\"\n",
              "              title=\"Convert this dataframe to an interactive table.\"\n",
              "              style=\"display:none;\">\n",
              "        \n",
              "  <svg xmlns=\"http://www.w3.org/2000/svg\" height=\"24px\"viewBox=\"0 0 24 24\"\n",
              "       width=\"24px\">\n",
              "    <path d=\"M0 0h24v24H0V0z\" fill=\"none\"/>\n",
              "    <path d=\"M18.56 5.44l.94 2.06.94-2.06 2.06-.94-2.06-.94-.94-2.06-.94 2.06-2.06.94zm-11 1L8.5 8.5l.94-2.06 2.06-.94-2.06-.94L8.5 2.5l-.94 2.06-2.06.94zm10 10l.94 2.06.94-2.06 2.06-.94-2.06-.94-.94-2.06-.94 2.06-2.06.94z\"/><path d=\"M17.41 7.96l-1.37-1.37c-.4-.4-.92-.59-1.43-.59-.52 0-1.04.2-1.43.59L10.3 9.45l-7.72 7.72c-.78.78-.78 2.05 0 2.83L4 21.41c.39.39.9.59 1.41.59.51 0 1.02-.2 1.41-.59l7.78-7.78 2.81-2.81c.8-.78.8-2.07 0-2.86zM5.41 20L4 18.59l7.72-7.72 1.47 1.35L5.41 20z\"/>\n",
              "  </svg>\n",
              "      </button>\n",
              "      \n",
              "  <style>\n",
              "    .colab-df-container {\n",
              "      display:flex;\n",
              "      flex-wrap:wrap;\n",
              "      gap: 12px;\n",
              "    }\n",
              "\n",
              "    .colab-df-convert {\n",
              "      background-color: #E8F0FE;\n",
              "      border: none;\n",
              "      border-radius: 50%;\n",
              "      cursor: pointer;\n",
              "      display: none;\n",
              "      fill: #1967D2;\n",
              "      height: 32px;\n",
              "      padding: 0 0 0 0;\n",
              "      width: 32px;\n",
              "    }\n",
              "\n",
              "    .colab-df-convert:hover {\n",
              "      background-color: #E2EBFA;\n",
              "      box-shadow: 0px 1px 2px rgba(60, 64, 67, 0.3), 0px 1px 3px 1px rgba(60, 64, 67, 0.15);\n",
              "      fill: #174EA6;\n",
              "    }\n",
              "\n",
              "    [theme=dark] .colab-df-convert {\n",
              "      background-color: #3B4455;\n",
              "      fill: #D2E3FC;\n",
              "    }\n",
              "\n",
              "    [theme=dark] .colab-df-convert:hover {\n",
              "      background-color: #434B5C;\n",
              "      box-shadow: 0px 1px 3px 1px rgba(0, 0, 0, 0.15);\n",
              "      filter: drop-shadow(0px 1px 2px rgba(0, 0, 0, 0.3));\n",
              "      fill: #FFFFFF;\n",
              "    }\n",
              "  </style>\n",
              "\n",
              "      <script>\n",
              "        const buttonEl =\n",
              "          document.querySelector('#df-51d4b7eb-61c3-4aab-8e70-6a7046d5669c button.colab-df-convert');\n",
              "        buttonEl.style.display =\n",
              "          google.colab.kernel.accessAllowed ? 'block' : 'none';\n",
              "\n",
              "        async function convertToInteractive(key) {\n",
              "          const element = document.querySelector('#df-51d4b7eb-61c3-4aab-8e70-6a7046d5669c');\n",
              "          const dataTable =\n",
              "            await google.colab.kernel.invokeFunction('convertToInteractive',\n",
              "                                                     [key], {});\n",
              "          if (!dataTable) return;\n",
              "\n",
              "          const docLinkHtml = 'Like what you see? Visit the ' +\n",
              "            '<a target=\"_blank\" href=https://colab.research.google.com/notebooks/data_table.ipynb>data table notebook</a>'\n",
              "            + ' to learn more about interactive tables.';\n",
              "          element.innerHTML = '';\n",
              "          dataTable['output_type'] = 'display_data';\n",
              "          await google.colab.output.renderOutput(dataTable, element);\n",
              "          const docLink = document.createElement('div');\n",
              "          docLink.innerHTML = docLinkHtml;\n",
              "          element.appendChild(docLink);\n",
              "        }\n",
              "      </script>\n",
              "    </div>\n",
              "  </div>\n",
              "  "
            ]
          },
          "metadata": {},
          "execution_count": 18
        }
      ]
    },
    {
      "cell_type": "code",
      "source": [
        "#fig = px.line(agents_stat_summary_by_year, x=\"year\"})\n",
        "import plotly.graph_objects as go\n",
        "\n",
        "fig = go.Figure()\n",
        "\n",
        "\n",
        "\n",
        "fig.add_trace(go.Scatter(\n",
        "    x=year_ranges,\n",
        "    y=agents_stat_summary_by_year['New Comers_apartment_size_q1'],\n",
        "    legendgroup=\"New Comers\",  # this can be any string, not just \"group\"\n",
        "    legendgrouptitle_text=\"New Comers\",\n",
        "    name=\"Apartment Size Q1\",\n",
        "    mode=\"lines\",\n",
        "    line=dict(color='royalblue', width=1)\n",
        "))\n",
        "\n",
        "\n",
        "fig.add_trace(go.Scatter(\n",
        "    x=year_ranges,\n",
        "    y=agents_stat_summary_by_year['New Comers_apartment_size_q2'],\n",
        "    legendgroup=\"New Comers\",  # this can be any string, not just \"group\"\n",
        "    legendgrouptitle_text=\"New Comers\",\n",
        "    name=\"Apartment Size Q2\",\n",
        "    mode=\"lines\",\n",
        "    line=dict(color='royalblue', width=3)\n",
        "))\n",
        "\n",
        "\n",
        "fig.add_trace(go.Scatter(\n",
        "    x=year_ranges,\n",
        "    y=agents_stat_summary_by_year['New Comers_apartment_size_q3'],\n",
        "    legendgroup=\"New Comers\",  # this can be any string, not just \"group\"\n",
        "    legendgrouptitle_text=\"New Comers\",\n",
        "    name=\"Apartment Size Q3\",\n",
        "    mode=\"lines\",\n",
        "    line=dict(color='royalblue', width=4)\n",
        "    \n",
        "))\n",
        "\n",
        "fig.add_trace(go.Scatter(\n",
        "    x=year_ranges,\n",
        "    y=agents_stat_summary_by_year['stay_apartment_size_q1'],\n",
        "    legendgroup=\"Staying\",  # this can be any string, not just \"group\"\n",
        "    legendgrouptitle_text=\"Staying\",\n",
        "    name=\"Apartment Size Q1\",\n",
        "    mode=\"lines\",\n",
        "    line=dict(color='firebrick', width=1)\n",
        "))\n",
        "\n",
        "\n",
        "fig.add_trace(go.Scatter(\n",
        "    x=year_ranges,\n",
        "    y=agents_stat_summary_by_year['stay_apartment_size_q2'],\n",
        "    legendgroup=\"Staying\",  # this can be any string, not just \"group\"\n",
        "    legendgrouptitle_text=\"Staying\",\n",
        "    name=\"Apartment Size Q2\",\n",
        "    mode=\"lines\",\n",
        "    line=dict(color='firebrick', width=3)\n",
        "))\n",
        "\n",
        "\n",
        "fig.add_trace(go.Scatter(\n",
        "    x=year_ranges,\n",
        "    y=agents_stat_summary_by_year['stay_apartment_size_q3'],\n",
        "    legendgroup=\"Staying\",  # this can be any string, not just \"group\"\n",
        "    legendgrouptitle_text=\"Staying\",\n",
        "    name=\"Apartment Size Q3\",\n",
        "    mode=\"lines\",\n",
        "    line=dict(color='firebrick', width=4)\n",
        "    \n",
        "))\n",
        "\n",
        "fig.update_layout(title=\"Apartment Size  (q1-q3) vs Staying or New Comers\",template='plotly_white',yaxis = {'title' : \"m<sup>2</sup>\"})\n",
        "\n",
        "fig.show()\n",
        "\n",
        "# set range"
      ],
      "metadata": {
        "colab": {
          "base_uri": "https://localhost:8080/",
          "height": 542
        },
        "id": "TMnTe3GUrAjz",
        "outputId": "4694cc5e-d49e-49ca-aa80-270450303186"
      },
      "execution_count": null,
      "outputs": [
        {
          "output_type": "display_data",
          "data": {
            "text/html": [
              "<html>\n",
              "<head><meta charset=\"utf-8\" /></head>\n",
              "<body>\n",
              "    <div>            <script src=\"https://cdnjs.cloudflare.com/ajax/libs/mathjax/2.7.5/MathJax.js?config=TeX-AMS-MML_SVG\"></script><script type=\"text/javascript\">if (window.MathJax) {MathJax.Hub.Config({SVG: {font: \"STIX-Web\"}});}</script>                <script type=\"text/javascript\">window.PlotlyConfig = {MathJaxConfig: 'local'};</script>\n",
              "        <script src=\"https://cdn.plot.ly/plotly-2.8.3.min.js\"></script>                <div id=\"9ff2f366-03d1-4cdc-b54e-36aa5fba127b\" class=\"plotly-graph-div\" style=\"height:525px; width:100%;\"></div>            <script type=\"text/javascript\">                                    window.PLOTLYENV=window.PLOTLYENV || {};                                    if (document.getElementById(\"9ff2f366-03d1-4cdc-b54e-36aa5fba127b\")) {                    Plotly.newPlot(                        \"9ff2f366-03d1-4cdc-b54e-36aa5fba127b\",                        [{\"legendgroup\":\"New Comers\",\"legendgrouptitle\":{\"text\":\"New Comers\"},\"line\":{\"color\":\"royalblue\",\"width\":1},\"mode\":\"lines\",\"name\":\"Apartment Size Q1\",\"x\":[\"2015 Q1\",\"2015 Q3\",\"2016 Q1\",\"2016 Q3\",\"2017 Q1\",\"2017 Q3\",\"2018 Q1\",\"2018 Q3\",\"2019 Q1\",\"2019 Q3\",\"2020 Q1\",\"2020 Q3\",\"2021 Q1\",\"2021 Q3\",\"2022 Q1\",\"2022 Q3\",\"2023 Q1\",\"2023 Q3\",\"2024 Q1\",\"2024 Q3\",\"2025 Q1\",\"2025 Q3\",\"2026 Q1\",\"2026 Q3\",\"2027 Q1\",\"2027 Q3\",\"2028 Q1\",\"2028 Q3\",\"2029 Q1\",\"2029 Q3\",\"2030 Q1\",\"2030 Q3\"],\"y\":[null,null,null,null,82.0,82.0,82.0,72.0,82.0,82.0,82.0,82.0,82.0,75.0,82.0,82.0,85.0,85.0,85.0,85.0,85.0,85.0,89.0,89.0,89.0,89.0,89.0,91.0,91.0,91.0,91.0,91.0],\"type\":\"scatter\"},{\"legendgroup\":\"New Comers\",\"legendgrouptitle\":{\"text\":\"New Comers\"},\"line\":{\"color\":\"royalblue\",\"width\":3},\"mode\":\"lines\",\"name\":\"Apartment Size Q2\",\"x\":[\"2015 Q1\",\"2015 Q3\",\"2016 Q1\",\"2016 Q3\",\"2017 Q1\",\"2017 Q3\",\"2018 Q1\",\"2018 Q3\",\"2019 Q1\",\"2019 Q3\",\"2020 Q1\",\"2020 Q3\",\"2021 Q1\",\"2021 Q3\",\"2022 Q1\",\"2022 Q3\",\"2023 Q1\",\"2023 Q3\",\"2024 Q1\",\"2024 Q3\",\"2025 Q1\",\"2025 Q3\",\"2026 Q1\",\"2026 Q3\",\"2027 Q1\",\"2027 Q3\",\"2028 Q1\",\"2028 Q3\",\"2029 Q1\",\"2029 Q3\",\"2030 Q1\",\"2030 Q3\"],\"y\":[null,null,null,null,82.0,82.0,82.0,82.0,82.0,82.0,92.0,92.0,92.0,82.0,92.0,92.0,92.0,92.0,92.0,93.0,92.0,92.0,98.0,98.0,98.0,98.0,98.0,98.0,98.0,98.0,98.0,98.0],\"type\":\"scatter\"},{\"legendgroup\":\"New Comers\",\"legendgrouptitle\":{\"text\":\"New Comers\"},\"line\":{\"color\":\"royalblue\",\"width\":4},\"mode\":\"lines\",\"name\":\"Apartment Size Q3\",\"x\":[\"2015 Q1\",\"2015 Q3\",\"2016 Q1\",\"2016 Q3\",\"2017 Q1\",\"2017 Q3\",\"2018 Q1\",\"2018 Q3\",\"2019 Q1\",\"2019 Q3\",\"2020 Q1\",\"2020 Q3\",\"2021 Q1\",\"2021 Q3\",\"2022 Q1\",\"2022 Q3\",\"2023 Q1\",\"2023 Q3\",\"2024 Q1\",\"2024 Q3\",\"2025 Q1\",\"2025 Q3\",\"2026 Q1\",\"2026 Q3\",\"2027 Q1\",\"2027 Q3\",\"2028 Q1\",\"2028 Q3\",\"2029 Q1\",\"2029 Q3\",\"2030 Q1\",\"2030 Q3\"],\"y\":[null,null,null,null,82.0,82.0,92.0,92.0,102.0,102.0,102.0,102.0,102.0,102.0,115.0,115.0,108.0,108.0,108.0,108.0,108.0,108.0,108.0,108.0,108.0,112.0,112.0,112.0,112.0,112.0,112.0,112.0],\"type\":\"scatter\"},{\"legendgroup\":\"Staying\",\"legendgrouptitle\":{\"text\":\"Staying\"},\"line\":{\"color\":\"firebrick\",\"width\":1},\"mode\":\"lines\",\"name\":\"Apartment Size Q1\",\"x\":[\"2015 Q1\",\"2015 Q3\",\"2016 Q1\",\"2016 Q3\",\"2017 Q1\",\"2017 Q3\",\"2018 Q1\",\"2018 Q3\",\"2019 Q1\",\"2019 Q3\",\"2020 Q1\",\"2020 Q3\",\"2021 Q1\",\"2021 Q3\",\"2022 Q1\",\"2022 Q3\",\"2023 Q1\",\"2023 Q3\",\"2024 Q1\",\"2024 Q3\",\"2025 Q1\",\"2025 Q3\",\"2026 Q1\",\"2026 Q3\",\"2027 Q1\",\"2027 Q3\",\"2028 Q1\",\"2028 Q3\",\"2029 Q1\",\"2029 Q3\",\"2030 Q1\",\"2030 Q3\"],\"y\":[66.0,68.0,68.0,66.0,66.0,66.0,66.0,66.0,66.0,66.0,70.0,70.0,68.0,73.0,73.0,73.0,66.0,66.0,66.0,66.0,85.0,85.0,85.0,85.0,85.0,88.0,89.0,90.0,90.0,90.0,90.0,90.0],\"type\":\"scatter\"},{\"legendgroup\":\"Staying\",\"legendgrouptitle\":{\"text\":\"Staying\"},\"line\":{\"color\":\"firebrick\",\"width\":3},\"mode\":\"lines\",\"name\":\"Apartment Size Q2\",\"x\":[\"2015 Q1\",\"2015 Q3\",\"2016 Q1\",\"2016 Q3\",\"2017 Q1\",\"2017 Q3\",\"2018 Q1\",\"2018 Q3\",\"2019 Q1\",\"2019 Q3\",\"2020 Q1\",\"2020 Q3\",\"2021 Q1\",\"2021 Q3\",\"2022 Q1\",\"2022 Q3\",\"2023 Q1\",\"2023 Q3\",\"2024 Q1\",\"2024 Q3\",\"2025 Q1\",\"2025 Q3\",\"2026 Q1\",\"2026 Q3\",\"2027 Q1\",\"2027 Q3\",\"2028 Q1\",\"2028 Q3\",\"2029 Q1\",\"2029 Q3\",\"2030 Q1\",\"2030 Q3\"],\"y\":[73.0,73.0,73.0,73.0,73.0,73.0,73.0,73.0,73.0,73.0,73.0,73.0,73.0,73.0,73.0,73.0,87.0,87.0,87.0,83.5,92.0,92.0,98.0,98.0,98.0,98.0,93.0,98.0,98.0,98.0,98.0,98.0],\"type\":\"scatter\"},{\"legendgroup\":\"Staying\",\"legendgrouptitle\":{\"text\":\"Staying\"},\"line\":{\"color\":\"firebrick\",\"width\":4},\"mode\":\"lines\",\"name\":\"Apartment Size Q3\",\"x\":[\"2015 Q1\",\"2015 Q3\",\"2016 Q1\",\"2016 Q3\",\"2017 Q1\",\"2017 Q3\",\"2018 Q1\",\"2018 Q3\",\"2019 Q1\",\"2019 Q3\",\"2020 Q1\",\"2020 Q3\",\"2021 Q1\",\"2021 Q3\",\"2022 Q1\",\"2022 Q3\",\"2023 Q1\",\"2023 Q3\",\"2024 Q1\",\"2024 Q3\",\"2025 Q1\",\"2025 Q3\",\"2026 Q1\",\"2026 Q3\",\"2027 Q1\",\"2027 Q3\",\"2028 Q1\",\"2028 Q3\",\"2029 Q1\",\"2029 Q3\",\"2030 Q1\",\"2030 Q3\"],\"y\":[83.0,83.0,83.0,83.0,83.0,83.0,83.0,83.0,80.0,80.0,83.0,80.0,87.0,90.0,90.0,90.0,90.0,90.0,90.0,93.0,100.0,98.0,98.0,98.0,98.0,98.0,98.0,98.0,98.0,98.0,98.0,98.0],\"type\":\"scatter\"}],                        {\"template\":{\"data\":{\"barpolar\":[{\"marker\":{\"line\":{\"color\":\"white\",\"width\":0.5},\"pattern\":{\"fillmode\":\"overlay\",\"size\":10,\"solidity\":0.2}},\"type\":\"barpolar\"}],\"bar\":[{\"error_x\":{\"color\":\"#2a3f5f\"},\"error_y\":{\"color\":\"#2a3f5f\"},\"marker\":{\"line\":{\"color\":\"white\",\"width\":0.5},\"pattern\":{\"fillmode\":\"overlay\",\"size\":10,\"solidity\":0.2}},\"type\":\"bar\"}],\"carpet\":[{\"aaxis\":{\"endlinecolor\":\"#2a3f5f\",\"gridcolor\":\"#C8D4E3\",\"linecolor\":\"#C8D4E3\",\"minorgridcolor\":\"#C8D4E3\",\"startlinecolor\":\"#2a3f5f\"},\"baxis\":{\"endlinecolor\":\"#2a3f5f\",\"gridcolor\":\"#C8D4E3\",\"linecolor\":\"#C8D4E3\",\"minorgridcolor\":\"#C8D4E3\",\"startlinecolor\":\"#2a3f5f\"},\"type\":\"carpet\"}],\"choropleth\":[{\"colorbar\":{\"outlinewidth\":0,\"ticks\":\"\"},\"type\":\"choropleth\"}],\"contourcarpet\":[{\"colorbar\":{\"outlinewidth\":0,\"ticks\":\"\"},\"type\":\"contourcarpet\"}],\"contour\":[{\"colorbar\":{\"outlinewidth\":0,\"ticks\":\"\"},\"colorscale\":[[0.0,\"#0d0887\"],[0.1111111111111111,\"#46039f\"],[0.2222222222222222,\"#7201a8\"],[0.3333333333333333,\"#9c179e\"],[0.4444444444444444,\"#bd3786\"],[0.5555555555555556,\"#d8576b\"],[0.6666666666666666,\"#ed7953\"],[0.7777777777777778,\"#fb9f3a\"],[0.8888888888888888,\"#fdca26\"],[1.0,\"#f0f921\"]],\"type\":\"contour\"}],\"heatmapgl\":[{\"colorbar\":{\"outlinewidth\":0,\"ticks\":\"\"},\"colorscale\":[[0.0,\"#0d0887\"],[0.1111111111111111,\"#46039f\"],[0.2222222222222222,\"#7201a8\"],[0.3333333333333333,\"#9c179e\"],[0.4444444444444444,\"#bd3786\"],[0.5555555555555556,\"#d8576b\"],[0.6666666666666666,\"#ed7953\"],[0.7777777777777778,\"#fb9f3a\"],[0.8888888888888888,\"#fdca26\"],[1.0,\"#f0f921\"]],\"type\":\"heatmapgl\"}],\"heatmap\":[{\"colorbar\":{\"outlinewidth\":0,\"ticks\":\"\"},\"colorscale\":[[0.0,\"#0d0887\"],[0.1111111111111111,\"#46039f\"],[0.2222222222222222,\"#7201a8\"],[0.3333333333333333,\"#9c179e\"],[0.4444444444444444,\"#bd3786\"],[0.5555555555555556,\"#d8576b\"],[0.6666666666666666,\"#ed7953\"],[0.7777777777777778,\"#fb9f3a\"],[0.8888888888888888,\"#fdca26\"],[1.0,\"#f0f921\"]],\"type\":\"heatmap\"}],\"histogram2dcontour\":[{\"colorbar\":{\"outlinewidth\":0,\"ticks\":\"\"},\"colorscale\":[[0.0,\"#0d0887\"],[0.1111111111111111,\"#46039f\"],[0.2222222222222222,\"#7201a8\"],[0.3333333333333333,\"#9c179e\"],[0.4444444444444444,\"#bd3786\"],[0.5555555555555556,\"#d8576b\"],[0.6666666666666666,\"#ed7953\"],[0.7777777777777778,\"#fb9f3a\"],[0.8888888888888888,\"#fdca26\"],[1.0,\"#f0f921\"]],\"type\":\"histogram2dcontour\"}],\"histogram2d\":[{\"colorbar\":{\"outlinewidth\":0,\"ticks\":\"\"},\"colorscale\":[[0.0,\"#0d0887\"],[0.1111111111111111,\"#46039f\"],[0.2222222222222222,\"#7201a8\"],[0.3333333333333333,\"#9c179e\"],[0.4444444444444444,\"#bd3786\"],[0.5555555555555556,\"#d8576b\"],[0.6666666666666666,\"#ed7953\"],[0.7777777777777778,\"#fb9f3a\"],[0.8888888888888888,\"#fdca26\"],[1.0,\"#f0f921\"]],\"type\":\"histogram2d\"}],\"histogram\":[{\"marker\":{\"pattern\":{\"fillmode\":\"overlay\",\"size\":10,\"solidity\":0.2}},\"type\":\"histogram\"}],\"mesh3d\":[{\"colorbar\":{\"outlinewidth\":0,\"ticks\":\"\"},\"type\":\"mesh3d\"}],\"parcoords\":[{\"line\":{\"colorbar\":{\"outlinewidth\":0,\"ticks\":\"\"}},\"type\":\"parcoords\"}],\"pie\":[{\"automargin\":true,\"type\":\"pie\"}],\"scatter3d\":[{\"line\":{\"colorbar\":{\"outlinewidth\":0,\"ticks\":\"\"}},\"marker\":{\"colorbar\":{\"outlinewidth\":0,\"ticks\":\"\"}},\"type\":\"scatter3d\"}],\"scattercarpet\":[{\"marker\":{\"colorbar\":{\"outlinewidth\":0,\"ticks\":\"\"}},\"type\":\"scattercarpet\"}],\"scattergeo\":[{\"marker\":{\"colorbar\":{\"outlinewidth\":0,\"ticks\":\"\"}},\"type\":\"scattergeo\"}],\"scattergl\":[{\"marker\":{\"colorbar\":{\"outlinewidth\":0,\"ticks\":\"\"}},\"type\":\"scattergl\"}],\"scattermapbox\":[{\"marker\":{\"colorbar\":{\"outlinewidth\":0,\"ticks\":\"\"}},\"type\":\"scattermapbox\"}],\"scatterpolargl\":[{\"marker\":{\"colorbar\":{\"outlinewidth\":0,\"ticks\":\"\"}},\"type\":\"scatterpolargl\"}],\"scatterpolar\":[{\"marker\":{\"colorbar\":{\"outlinewidth\":0,\"ticks\":\"\"}},\"type\":\"scatterpolar\"}],\"scatter\":[{\"marker\":{\"colorbar\":{\"outlinewidth\":0,\"ticks\":\"\"}},\"type\":\"scatter\"}],\"scatterternary\":[{\"marker\":{\"colorbar\":{\"outlinewidth\":0,\"ticks\":\"\"}},\"type\":\"scatterternary\"}],\"surface\":[{\"colorbar\":{\"outlinewidth\":0,\"ticks\":\"\"},\"colorscale\":[[0.0,\"#0d0887\"],[0.1111111111111111,\"#46039f\"],[0.2222222222222222,\"#7201a8\"],[0.3333333333333333,\"#9c179e\"],[0.4444444444444444,\"#bd3786\"],[0.5555555555555556,\"#d8576b\"],[0.6666666666666666,\"#ed7953\"],[0.7777777777777778,\"#fb9f3a\"],[0.8888888888888888,\"#fdca26\"],[1.0,\"#f0f921\"]],\"type\":\"surface\"}],\"table\":[{\"cells\":{\"fill\":{\"color\":\"#EBF0F8\"},\"line\":{\"color\":\"white\"}},\"header\":{\"fill\":{\"color\":\"#C8D4E3\"},\"line\":{\"color\":\"white\"}},\"type\":\"table\"}]},\"layout\":{\"annotationdefaults\":{\"arrowcolor\":\"#2a3f5f\",\"arrowhead\":0,\"arrowwidth\":1},\"autotypenumbers\":\"strict\",\"coloraxis\":{\"colorbar\":{\"outlinewidth\":0,\"ticks\":\"\"}},\"colorscale\":{\"diverging\":[[0,\"#8e0152\"],[0.1,\"#c51b7d\"],[0.2,\"#de77ae\"],[0.3,\"#f1b6da\"],[0.4,\"#fde0ef\"],[0.5,\"#f7f7f7\"],[0.6,\"#e6f5d0\"],[0.7,\"#b8e186\"],[0.8,\"#7fbc41\"],[0.9,\"#4d9221\"],[1,\"#276419\"]],\"sequential\":[[0.0,\"#0d0887\"],[0.1111111111111111,\"#46039f\"],[0.2222222222222222,\"#7201a8\"],[0.3333333333333333,\"#9c179e\"],[0.4444444444444444,\"#bd3786\"],[0.5555555555555556,\"#d8576b\"],[0.6666666666666666,\"#ed7953\"],[0.7777777777777778,\"#fb9f3a\"],[0.8888888888888888,\"#fdca26\"],[1.0,\"#f0f921\"]],\"sequentialminus\":[[0.0,\"#0d0887\"],[0.1111111111111111,\"#46039f\"],[0.2222222222222222,\"#7201a8\"],[0.3333333333333333,\"#9c179e\"],[0.4444444444444444,\"#bd3786\"],[0.5555555555555556,\"#d8576b\"],[0.6666666666666666,\"#ed7953\"],[0.7777777777777778,\"#fb9f3a\"],[0.8888888888888888,\"#fdca26\"],[1.0,\"#f0f921\"]]},\"colorway\":[\"#636efa\",\"#EF553B\",\"#00cc96\",\"#ab63fa\",\"#FFA15A\",\"#19d3f3\",\"#FF6692\",\"#B6E880\",\"#FF97FF\",\"#FECB52\"],\"font\":{\"color\":\"#2a3f5f\"},\"geo\":{\"bgcolor\":\"white\",\"lakecolor\":\"white\",\"landcolor\":\"white\",\"showlakes\":true,\"showland\":true,\"subunitcolor\":\"#C8D4E3\"},\"hoverlabel\":{\"align\":\"left\"},\"hovermode\":\"closest\",\"mapbox\":{\"style\":\"light\"},\"paper_bgcolor\":\"white\",\"plot_bgcolor\":\"white\",\"polar\":{\"angularaxis\":{\"gridcolor\":\"#EBF0F8\",\"linecolor\":\"#EBF0F8\",\"ticks\":\"\"},\"bgcolor\":\"white\",\"radialaxis\":{\"gridcolor\":\"#EBF0F8\",\"linecolor\":\"#EBF0F8\",\"ticks\":\"\"}},\"scene\":{\"xaxis\":{\"backgroundcolor\":\"white\",\"gridcolor\":\"#DFE8F3\",\"gridwidth\":2,\"linecolor\":\"#EBF0F8\",\"showbackground\":true,\"ticks\":\"\",\"zerolinecolor\":\"#EBF0F8\"},\"yaxis\":{\"backgroundcolor\":\"white\",\"gridcolor\":\"#DFE8F3\",\"gridwidth\":2,\"linecolor\":\"#EBF0F8\",\"showbackground\":true,\"ticks\":\"\",\"zerolinecolor\":\"#EBF0F8\"},\"zaxis\":{\"backgroundcolor\":\"white\",\"gridcolor\":\"#DFE8F3\",\"gridwidth\":2,\"linecolor\":\"#EBF0F8\",\"showbackground\":true,\"ticks\":\"\",\"zerolinecolor\":\"#EBF0F8\"}},\"shapedefaults\":{\"line\":{\"color\":\"#2a3f5f\"}},\"ternary\":{\"aaxis\":{\"gridcolor\":\"#DFE8F3\",\"linecolor\":\"#A2B1C6\",\"ticks\":\"\"},\"baxis\":{\"gridcolor\":\"#DFE8F3\",\"linecolor\":\"#A2B1C6\",\"ticks\":\"\"},\"bgcolor\":\"white\",\"caxis\":{\"gridcolor\":\"#DFE8F3\",\"linecolor\":\"#A2B1C6\",\"ticks\":\"\"}},\"title\":{\"x\":0.05},\"xaxis\":{\"automargin\":true,\"gridcolor\":\"#EBF0F8\",\"linecolor\":\"#EBF0F8\",\"ticks\":\"\",\"title\":{\"standoff\":15},\"zerolinecolor\":\"#EBF0F8\",\"zerolinewidth\":2},\"yaxis\":{\"automargin\":true,\"gridcolor\":\"#EBF0F8\",\"linecolor\":\"#EBF0F8\",\"ticks\":\"\",\"title\":{\"standoff\":15},\"zerolinecolor\":\"#EBF0F8\",\"zerolinewidth\":2}}},\"title\":{\"text\":\"Apartment Size  (q1-q3) vs Staying or New Comers\"},\"yaxis\":{\"title\":{\"text\":\"m<sup>2</sup>\"}}},                        {\"responsive\": true}                    ).then(function(){\n",
              "                            \n",
              "var gd = document.getElementById('9ff2f366-03d1-4cdc-b54e-36aa5fba127b');\n",
              "var x = new MutationObserver(function (mutations, observer) {{\n",
              "        var display = window.getComputedStyle(gd).display;\n",
              "        if (!display || display === 'none') {{\n",
              "            console.log([gd, 'removed!']);\n",
              "            Plotly.purge(gd);\n",
              "            observer.disconnect();\n",
              "        }}\n",
              "}});\n",
              "\n",
              "// Listen for the removal of the full notebook cells\n",
              "var notebookContainer = gd.closest('#notebook-container');\n",
              "if (notebookContainer) {{\n",
              "    x.observe(notebookContainer, {childList: true});\n",
              "}}\n",
              "\n",
              "// Listen for the clearing of the current output cell\n",
              "var outputEl = gd.closest('.output');\n",
              "if (outputEl) {{\n",
              "    x.observe(outputEl, {childList: true});\n",
              "}}\n",
              "\n",
              "                        })                };                            </script>        </div>\n",
              "</body>\n",
              "</html>"
            ]
          },
          "metadata": {}
        }
      ]
    },
    {
      "cell_type": "code",
      "source": [
        "#fig = px.line(agents_stat_summary_by_year, x=\"year\"})\n",
        "import plotly.graph_objects as go\n",
        "\n",
        "fig = go.Figure()\n",
        "\n",
        "\n",
        "\n",
        "fig.add_trace(go.Scatter(\n",
        "    x=year_ranges,\n",
        "    y=agents_stat_summary_by_year['New Comers_age_q1'],\n",
        "    legendgroup=\"New Comers\",  # this can be any string, not just \"group\"\n",
        "    legendgrouptitle_text=\"New Comers\",\n",
        "    name=\"Age Q1\",\n",
        "    mode=\"lines\",\n",
        "    line=dict(color='royalblue', width=1)\n",
        "))\n",
        "\n",
        "\n",
        "fig.add_trace(go.Scatter(\n",
        "    x=year_ranges,\n",
        "    y=agents_stat_summary_by_year['New Comers_age_q2'],\n",
        "    legendgroup=\"New Comers\",  # this can be any string, not just \"group\"\n",
        "    legendgrouptitle_text=\"New Comers\",\n",
        "    name=\"Age Q2\",\n",
        "    mode=\"lines\",\n",
        "    line=dict(color='royalblue', width=3)\n",
        "))\n",
        "\n",
        "\n",
        "fig.add_trace(go.Scatter(\n",
        "    x=year_ranges,\n",
        "    y=agents_stat_summary_by_year['New Comers_age_q3'],\n",
        "    legendgroup=\"New Comers\",  # this can be any string, not just \"group\"\n",
        "    legendgrouptitle_text=\"New Comers\",\n",
        "    name=\"Age Q3\",\n",
        "    mode=\"lines\",\n",
        "    line=dict(color='royalblue', width=4)\n",
        "    \n",
        "))\n",
        "\n",
        "fig.add_trace(go.Scatter(\n",
        "    x=year_ranges,\n",
        "    y=agents_stat_summary_by_year['stay_age_q1'],\n",
        "    legendgroup=\"Staying\",  # this can be any string, not just \"group\"\n",
        "    legendgrouptitle_text=\"Staying\",\n",
        "    name=\"Age Q1\",\n",
        "    mode=\"lines\",\n",
        "    line=dict(color='firebrick', width=1)\n",
        "))\n",
        "\n",
        "\n",
        "fig.add_trace(go.Scatter(\n",
        "    x=year_ranges,\n",
        "    y=agents_stat_summary_by_year['stay_age_q2'],\n",
        "    legendgroup=\"Staying\",  # this can be any string, not just \"group\"\n",
        "    legendgrouptitle_text=\"Staying\",\n",
        "    name=\"Age Q2\",\n",
        "    mode=\"lines\",\n",
        "    line=dict(color='firebrick', width=3)\n",
        "))\n",
        "\n",
        "\n",
        "fig.add_trace(go.Scatter(\n",
        "    x=year_ranges,\n",
        "    y=agents_stat_summary_by_year['stay_age_q3'],\n",
        "    legendgroup=\"Staying\",  # this can be any string, not just \"group\"\n",
        "    legendgrouptitle_text=\"Staying\",\n",
        "    name=\"Age Q3\",\n",
        "    mode=\"lines\",\n",
        "    line=dict(color='firebrick', width=4)\n",
        "    \n",
        "))\n",
        "\n",
        "fig.update_layout(title=\"age (q1,q2,q3) of olderst person at household\",template='plotly_white',yaxis = {'title' : \"Average Age\"})\n",
        "\n",
        "fig.show()\n",
        "\n",
        "# set range"
      ],
      "metadata": {
        "id": "Ja96_X-8rZvF",
        "colab": {
          "base_uri": "https://localhost:8080/",
          "height": 542
        },
        "outputId": "680294d6-1491-41cb-b9e7-3b7564e870fa"
      },
      "execution_count": null,
      "outputs": [
        {
          "output_type": "display_data",
          "data": {
            "text/html": [
              "<html>\n",
              "<head><meta charset=\"utf-8\" /></head>\n",
              "<body>\n",
              "    <div>            <script src=\"https://cdnjs.cloudflare.com/ajax/libs/mathjax/2.7.5/MathJax.js?config=TeX-AMS-MML_SVG\"></script><script type=\"text/javascript\">if (window.MathJax) {MathJax.Hub.Config({SVG: {font: \"STIX-Web\"}});}</script>                <script type=\"text/javascript\">window.PlotlyConfig = {MathJaxConfig: 'local'};</script>\n",
              "        <script src=\"https://cdn.plot.ly/plotly-2.8.3.min.js\"></script>                <div id=\"b4b3e306-e3f4-4aba-846e-bc7485e9e154\" class=\"plotly-graph-div\" style=\"height:525px; width:100%;\"></div>            <script type=\"text/javascript\">                                    window.PLOTLYENV=window.PLOTLYENV || {};                                    if (document.getElementById(\"b4b3e306-e3f4-4aba-846e-bc7485e9e154\")) {                    Plotly.newPlot(                        \"b4b3e306-e3f4-4aba-846e-bc7485e9e154\",                        [{\"legendgroup\":\"New Comers\",\"legendgrouptitle\":{\"text\":\"New Comers\"},\"line\":{\"color\":\"royalblue\",\"width\":1},\"mode\":\"lines\",\"name\":\"Age Q1\",\"x\":[\"2015 Q1\",\"2015 Q3\",\"2016 Q1\",\"2016 Q3\",\"2017 Q1\",\"2017 Q3\",\"2018 Q1\",\"2018 Q3\",\"2019 Q1\",\"2019 Q3\",\"2020 Q1\",\"2020 Q3\",\"2021 Q1\",\"2021 Q3\",\"2022 Q1\",\"2022 Q3\",\"2023 Q1\",\"2023 Q3\",\"2024 Q1\",\"2024 Q3\",\"2025 Q1\",\"2025 Q3\",\"2026 Q1\",\"2026 Q3\",\"2027 Q1\",\"2027 Q3\",\"2028 Q1\",\"2028 Q3\",\"2029 Q1\",\"2029 Q3\",\"2030 Q1\",\"2030 Q3\"],\"y\":[null,null,null,null,32.0,32.0,31.75,31.0,32.0,32.0,33.5,33.5,34.5,34.0,35.0,34.0,34.0,34.0,35.0,35.0,36.0,36.0,36.0,36.0,36.0,36.0,37.0,37.0,38.0,38.0,39.0,39.0],\"type\":\"scatter\"},{\"legendgroup\":\"New Comers\",\"legendgrouptitle\":{\"text\":\"New Comers\"},\"line\":{\"color\":\"royalblue\",\"width\":3},\"mode\":\"lines\",\"name\":\"Age Q2\",\"x\":[\"2015 Q1\",\"2015 Q3\",\"2016 Q1\",\"2016 Q3\",\"2017 Q1\",\"2017 Q3\",\"2018 Q1\",\"2018 Q3\",\"2019 Q1\",\"2019 Q3\",\"2020 Q1\",\"2020 Q3\",\"2021 Q1\",\"2021 Q3\",\"2022 Q1\",\"2022 Q3\",\"2023 Q1\",\"2023 Q3\",\"2024 Q1\",\"2024 Q3\",\"2025 Q1\",\"2025 Q3\",\"2026 Q1\",\"2026 Q3\",\"2027 Q1\",\"2027 Q3\",\"2028 Q1\",\"2028 Q3\",\"2029 Q1\",\"2029 Q3\",\"2030 Q1\",\"2030 Q3\"],\"y\":[null,null,null,null,47.0,47.0,42.0,44.0,46.0,46.0,47.0,47.0,48.0,47.0,47.5,47.0,47.5,47.5,48.0,49.0,49.0,49.0,49.0,49.0,49.0,49.0,50.0,50.0,51.0,51.0,52.0,52.0],\"type\":\"scatter\"},{\"legendgroup\":\"New Comers\",\"legendgrouptitle\":{\"text\":\"New Comers\"},\"line\":{\"color\":\"royalblue\",\"width\":4},\"mode\":\"lines\",\"name\":\"Age Q3\",\"x\":[\"2015 Q1\",\"2015 Q3\",\"2016 Q1\",\"2016 Q3\",\"2017 Q1\",\"2017 Q3\",\"2018 Q1\",\"2018 Q3\",\"2019 Q1\",\"2019 Q3\",\"2020 Q1\",\"2020 Q3\",\"2021 Q1\",\"2021 Q3\",\"2022 Q1\",\"2022 Q3\",\"2023 Q1\",\"2023 Q3\",\"2024 Q1\",\"2024 Q3\",\"2025 Q1\",\"2025 Q3\",\"2026 Q1\",\"2026 Q3\",\"2027 Q1\",\"2027 Q3\",\"2028 Q1\",\"2028 Q3\",\"2029 Q1\",\"2029 Q3\",\"2030 Q1\",\"2030 Q3\"],\"y\":[null,null,null,null,60.0,60.0,60.25,59.0,62.0,62.0,64.5,64.5,65.5,64.0,64.0,64.0,65.0,65.0,65.0,65.0,66.0,66.0,65.0,65.0,66.0,66.0,66.0,66.0,67.0,67.0,68.0,68.0],\"type\":\"scatter\"},{\"legendgroup\":\"Staying\",\"legendgrouptitle\":{\"text\":\"Staying\"},\"line\":{\"color\":\"firebrick\",\"width\":1},\"mode\":\"lines\",\"name\":\"Age Q1\",\"x\":[\"2015 Q1\",\"2015 Q3\",\"2016 Q1\",\"2016 Q3\",\"2017 Q1\",\"2017 Q3\",\"2018 Q1\",\"2018 Q3\",\"2019 Q1\",\"2019 Q3\",\"2020 Q1\",\"2020 Q3\",\"2021 Q1\",\"2021 Q3\",\"2022 Q1\",\"2022 Q3\",\"2023 Q1\",\"2023 Q3\",\"2024 Q1\",\"2024 Q3\",\"2025 Q1\",\"2025 Q3\",\"2026 Q1\",\"2026 Q3\",\"2027 Q1\",\"2027 Q3\",\"2028 Q1\",\"2028 Q3\",\"2029 Q1\",\"2029 Q3\",\"2030 Q1\",\"2030 Q3\"],\"y\":[30.0,30.0,31.0,31.0,32.0,32.0,33.0,33.0,34.0,34.0,35.75,35.0,37.0,37.0,38.0,38.0,38.0,38.0,39.0,37.75,38.5,38.25,40.0,40.0,41.5,41.75,42.0,42.0,43.0,43.0,44.0,44.0],\"type\":\"scatter\"},{\"legendgroup\":\"Staying\",\"legendgrouptitle\":{\"text\":\"Staying\"},\"line\":{\"color\":\"firebrick\",\"width\":3},\"mode\":\"lines\",\"name\":\"Age Q2\",\"x\":[\"2015 Q1\",\"2015 Q3\",\"2016 Q1\",\"2016 Q3\",\"2017 Q1\",\"2017 Q3\",\"2018 Q1\",\"2018 Q3\",\"2019 Q1\",\"2019 Q3\",\"2020 Q1\",\"2020 Q3\",\"2021 Q1\",\"2021 Q3\",\"2022 Q1\",\"2022 Q3\",\"2023 Q1\",\"2023 Q3\",\"2024 Q1\",\"2024 Q3\",\"2025 Q1\",\"2025 Q3\",\"2026 Q1\",\"2026 Q3\",\"2027 Q1\",\"2027 Q3\",\"2028 Q1\",\"2028 Q3\",\"2029 Q1\",\"2029 Q3\",\"2030 Q1\",\"2030 Q3\"],\"y\":[42.0,42.0,43.0,43.0,44.0,44.0,45.0,45.0,46.5,46.5,48.0,48.0,48.0,49.0,50.0,50.0,50.0,50.0,51.0,49.0,47.0,48.0,49.5,49.5,52.0,52.0,53.0,53.0,54.0,54.0,55.0,55.0],\"type\":\"scatter\"},{\"legendgroup\":\"Staying\",\"legendgrouptitle\":{\"text\":\"Staying\"},\"line\":{\"color\":\"firebrick\",\"width\":4},\"mode\":\"lines\",\"name\":\"Age Q3\",\"x\":[\"2015 Q1\",\"2015 Q3\",\"2016 Q1\",\"2016 Q3\",\"2017 Q1\",\"2017 Q3\",\"2018 Q1\",\"2018 Q3\",\"2019 Q1\",\"2019 Q3\",\"2020 Q1\",\"2020 Q3\",\"2021 Q1\",\"2021 Q3\",\"2022 Q1\",\"2022 Q3\",\"2023 Q1\",\"2023 Q3\",\"2024 Q1\",\"2024 Q3\",\"2025 Q1\",\"2025 Q3\",\"2026 Q1\",\"2026 Q3\",\"2027 Q1\",\"2027 Q3\",\"2028 Q1\",\"2028 Q3\",\"2029 Q1\",\"2029 Q3\",\"2030 Q1\",\"2030 Q3\"],\"y\":[65.0,65.0,66.0,65.25,66.75,66.75,68.0,68.0,69.0,69.0,70.0,70.0,70.0,70.0,71.0,70.0,66.0,66.0,64.0,60.25,57.5,57.0,58.0,58.0,59.0,59.25,61.0,60.5,61.5,61.5,62.5,62.5],\"type\":\"scatter\"}],                        {\"template\":{\"data\":{\"barpolar\":[{\"marker\":{\"line\":{\"color\":\"white\",\"width\":0.5},\"pattern\":{\"fillmode\":\"overlay\",\"size\":10,\"solidity\":0.2}},\"type\":\"barpolar\"}],\"bar\":[{\"error_x\":{\"color\":\"#2a3f5f\"},\"error_y\":{\"color\":\"#2a3f5f\"},\"marker\":{\"line\":{\"color\":\"white\",\"width\":0.5},\"pattern\":{\"fillmode\":\"overlay\",\"size\":10,\"solidity\":0.2}},\"type\":\"bar\"}],\"carpet\":[{\"aaxis\":{\"endlinecolor\":\"#2a3f5f\",\"gridcolor\":\"#C8D4E3\",\"linecolor\":\"#C8D4E3\",\"minorgridcolor\":\"#C8D4E3\",\"startlinecolor\":\"#2a3f5f\"},\"baxis\":{\"endlinecolor\":\"#2a3f5f\",\"gridcolor\":\"#C8D4E3\",\"linecolor\":\"#C8D4E3\",\"minorgridcolor\":\"#C8D4E3\",\"startlinecolor\":\"#2a3f5f\"},\"type\":\"carpet\"}],\"choropleth\":[{\"colorbar\":{\"outlinewidth\":0,\"ticks\":\"\"},\"type\":\"choropleth\"}],\"contourcarpet\":[{\"colorbar\":{\"outlinewidth\":0,\"ticks\":\"\"},\"type\":\"contourcarpet\"}],\"contour\":[{\"colorbar\":{\"outlinewidth\":0,\"ticks\":\"\"},\"colorscale\":[[0.0,\"#0d0887\"],[0.1111111111111111,\"#46039f\"],[0.2222222222222222,\"#7201a8\"],[0.3333333333333333,\"#9c179e\"],[0.4444444444444444,\"#bd3786\"],[0.5555555555555556,\"#d8576b\"],[0.6666666666666666,\"#ed7953\"],[0.7777777777777778,\"#fb9f3a\"],[0.8888888888888888,\"#fdca26\"],[1.0,\"#f0f921\"]],\"type\":\"contour\"}],\"heatmapgl\":[{\"colorbar\":{\"outlinewidth\":0,\"ticks\":\"\"},\"colorscale\":[[0.0,\"#0d0887\"],[0.1111111111111111,\"#46039f\"],[0.2222222222222222,\"#7201a8\"],[0.3333333333333333,\"#9c179e\"],[0.4444444444444444,\"#bd3786\"],[0.5555555555555556,\"#d8576b\"],[0.6666666666666666,\"#ed7953\"],[0.7777777777777778,\"#fb9f3a\"],[0.8888888888888888,\"#fdca26\"],[1.0,\"#f0f921\"]],\"type\":\"heatmapgl\"}],\"heatmap\":[{\"colorbar\":{\"outlinewidth\":0,\"ticks\":\"\"},\"colorscale\":[[0.0,\"#0d0887\"],[0.1111111111111111,\"#46039f\"],[0.2222222222222222,\"#7201a8\"],[0.3333333333333333,\"#9c179e\"],[0.4444444444444444,\"#bd3786\"],[0.5555555555555556,\"#d8576b\"],[0.6666666666666666,\"#ed7953\"],[0.7777777777777778,\"#fb9f3a\"],[0.8888888888888888,\"#fdca26\"],[1.0,\"#f0f921\"]],\"type\":\"heatmap\"}],\"histogram2dcontour\":[{\"colorbar\":{\"outlinewidth\":0,\"ticks\":\"\"},\"colorscale\":[[0.0,\"#0d0887\"],[0.1111111111111111,\"#46039f\"],[0.2222222222222222,\"#7201a8\"],[0.3333333333333333,\"#9c179e\"],[0.4444444444444444,\"#bd3786\"],[0.5555555555555556,\"#d8576b\"],[0.6666666666666666,\"#ed7953\"],[0.7777777777777778,\"#fb9f3a\"],[0.8888888888888888,\"#fdca26\"],[1.0,\"#f0f921\"]],\"type\":\"histogram2dcontour\"}],\"histogram2d\":[{\"colorbar\":{\"outlinewidth\":0,\"ticks\":\"\"},\"colorscale\":[[0.0,\"#0d0887\"],[0.1111111111111111,\"#46039f\"],[0.2222222222222222,\"#7201a8\"],[0.3333333333333333,\"#9c179e\"],[0.4444444444444444,\"#bd3786\"],[0.5555555555555556,\"#d8576b\"],[0.6666666666666666,\"#ed7953\"],[0.7777777777777778,\"#fb9f3a\"],[0.8888888888888888,\"#fdca26\"],[1.0,\"#f0f921\"]],\"type\":\"histogram2d\"}],\"histogram\":[{\"marker\":{\"pattern\":{\"fillmode\":\"overlay\",\"size\":10,\"solidity\":0.2}},\"type\":\"histogram\"}],\"mesh3d\":[{\"colorbar\":{\"outlinewidth\":0,\"ticks\":\"\"},\"type\":\"mesh3d\"}],\"parcoords\":[{\"line\":{\"colorbar\":{\"outlinewidth\":0,\"ticks\":\"\"}},\"type\":\"parcoords\"}],\"pie\":[{\"automargin\":true,\"type\":\"pie\"}],\"scatter3d\":[{\"line\":{\"colorbar\":{\"outlinewidth\":0,\"ticks\":\"\"}},\"marker\":{\"colorbar\":{\"outlinewidth\":0,\"ticks\":\"\"}},\"type\":\"scatter3d\"}],\"scattercarpet\":[{\"marker\":{\"colorbar\":{\"outlinewidth\":0,\"ticks\":\"\"}},\"type\":\"scattercarpet\"}],\"scattergeo\":[{\"marker\":{\"colorbar\":{\"outlinewidth\":0,\"ticks\":\"\"}},\"type\":\"scattergeo\"}],\"scattergl\":[{\"marker\":{\"colorbar\":{\"outlinewidth\":0,\"ticks\":\"\"}},\"type\":\"scattergl\"}],\"scattermapbox\":[{\"marker\":{\"colorbar\":{\"outlinewidth\":0,\"ticks\":\"\"}},\"type\":\"scattermapbox\"}],\"scatterpolargl\":[{\"marker\":{\"colorbar\":{\"outlinewidth\":0,\"ticks\":\"\"}},\"type\":\"scatterpolargl\"}],\"scatterpolar\":[{\"marker\":{\"colorbar\":{\"outlinewidth\":0,\"ticks\":\"\"}},\"type\":\"scatterpolar\"}],\"scatter\":[{\"marker\":{\"colorbar\":{\"outlinewidth\":0,\"ticks\":\"\"}},\"type\":\"scatter\"}],\"scatterternary\":[{\"marker\":{\"colorbar\":{\"outlinewidth\":0,\"ticks\":\"\"}},\"type\":\"scatterternary\"}],\"surface\":[{\"colorbar\":{\"outlinewidth\":0,\"ticks\":\"\"},\"colorscale\":[[0.0,\"#0d0887\"],[0.1111111111111111,\"#46039f\"],[0.2222222222222222,\"#7201a8\"],[0.3333333333333333,\"#9c179e\"],[0.4444444444444444,\"#bd3786\"],[0.5555555555555556,\"#d8576b\"],[0.6666666666666666,\"#ed7953\"],[0.7777777777777778,\"#fb9f3a\"],[0.8888888888888888,\"#fdca26\"],[1.0,\"#f0f921\"]],\"type\":\"surface\"}],\"table\":[{\"cells\":{\"fill\":{\"color\":\"#EBF0F8\"},\"line\":{\"color\":\"white\"}},\"header\":{\"fill\":{\"color\":\"#C8D4E3\"},\"line\":{\"color\":\"white\"}},\"type\":\"table\"}]},\"layout\":{\"annotationdefaults\":{\"arrowcolor\":\"#2a3f5f\",\"arrowhead\":0,\"arrowwidth\":1},\"autotypenumbers\":\"strict\",\"coloraxis\":{\"colorbar\":{\"outlinewidth\":0,\"ticks\":\"\"}},\"colorscale\":{\"diverging\":[[0,\"#8e0152\"],[0.1,\"#c51b7d\"],[0.2,\"#de77ae\"],[0.3,\"#f1b6da\"],[0.4,\"#fde0ef\"],[0.5,\"#f7f7f7\"],[0.6,\"#e6f5d0\"],[0.7,\"#b8e186\"],[0.8,\"#7fbc41\"],[0.9,\"#4d9221\"],[1,\"#276419\"]],\"sequential\":[[0.0,\"#0d0887\"],[0.1111111111111111,\"#46039f\"],[0.2222222222222222,\"#7201a8\"],[0.3333333333333333,\"#9c179e\"],[0.4444444444444444,\"#bd3786\"],[0.5555555555555556,\"#d8576b\"],[0.6666666666666666,\"#ed7953\"],[0.7777777777777778,\"#fb9f3a\"],[0.8888888888888888,\"#fdca26\"],[1.0,\"#f0f921\"]],\"sequentialminus\":[[0.0,\"#0d0887\"],[0.1111111111111111,\"#46039f\"],[0.2222222222222222,\"#7201a8\"],[0.3333333333333333,\"#9c179e\"],[0.4444444444444444,\"#bd3786\"],[0.5555555555555556,\"#d8576b\"],[0.6666666666666666,\"#ed7953\"],[0.7777777777777778,\"#fb9f3a\"],[0.8888888888888888,\"#fdca26\"],[1.0,\"#f0f921\"]]},\"colorway\":[\"#636efa\",\"#EF553B\",\"#00cc96\",\"#ab63fa\",\"#FFA15A\",\"#19d3f3\",\"#FF6692\",\"#B6E880\",\"#FF97FF\",\"#FECB52\"],\"font\":{\"color\":\"#2a3f5f\"},\"geo\":{\"bgcolor\":\"white\",\"lakecolor\":\"white\",\"landcolor\":\"white\",\"showlakes\":true,\"showland\":true,\"subunitcolor\":\"#C8D4E3\"},\"hoverlabel\":{\"align\":\"left\"},\"hovermode\":\"closest\",\"mapbox\":{\"style\":\"light\"},\"paper_bgcolor\":\"white\",\"plot_bgcolor\":\"white\",\"polar\":{\"angularaxis\":{\"gridcolor\":\"#EBF0F8\",\"linecolor\":\"#EBF0F8\",\"ticks\":\"\"},\"bgcolor\":\"white\",\"radialaxis\":{\"gridcolor\":\"#EBF0F8\",\"linecolor\":\"#EBF0F8\",\"ticks\":\"\"}},\"scene\":{\"xaxis\":{\"backgroundcolor\":\"white\",\"gridcolor\":\"#DFE8F3\",\"gridwidth\":2,\"linecolor\":\"#EBF0F8\",\"showbackground\":true,\"ticks\":\"\",\"zerolinecolor\":\"#EBF0F8\"},\"yaxis\":{\"backgroundcolor\":\"white\",\"gridcolor\":\"#DFE8F3\",\"gridwidth\":2,\"linecolor\":\"#EBF0F8\",\"showbackground\":true,\"ticks\":\"\",\"zerolinecolor\":\"#EBF0F8\"},\"zaxis\":{\"backgroundcolor\":\"white\",\"gridcolor\":\"#DFE8F3\",\"gridwidth\":2,\"linecolor\":\"#EBF0F8\",\"showbackground\":true,\"ticks\":\"\",\"zerolinecolor\":\"#EBF0F8\"}},\"shapedefaults\":{\"line\":{\"color\":\"#2a3f5f\"}},\"ternary\":{\"aaxis\":{\"gridcolor\":\"#DFE8F3\",\"linecolor\":\"#A2B1C6\",\"ticks\":\"\"},\"baxis\":{\"gridcolor\":\"#DFE8F3\",\"linecolor\":\"#A2B1C6\",\"ticks\":\"\"},\"bgcolor\":\"white\",\"caxis\":{\"gridcolor\":\"#DFE8F3\",\"linecolor\":\"#A2B1C6\",\"ticks\":\"\"}},\"title\":{\"x\":0.05},\"xaxis\":{\"automargin\":true,\"gridcolor\":\"#EBF0F8\",\"linecolor\":\"#EBF0F8\",\"ticks\":\"\",\"title\":{\"standoff\":15},\"zerolinecolor\":\"#EBF0F8\",\"zerolinewidth\":2},\"yaxis\":{\"automargin\":true,\"gridcolor\":\"#EBF0F8\",\"linecolor\":\"#EBF0F8\",\"ticks\":\"\",\"title\":{\"standoff\":15},\"zerolinecolor\":\"#EBF0F8\",\"zerolinewidth\":2}}},\"title\":{\"text\":\"age (q1,q2,q3) of olderst person at household\"},\"yaxis\":{\"title\":{\"text\":\"Average Age\"}}},                        {\"responsive\": true}                    ).then(function(){\n",
              "                            \n",
              "var gd = document.getElementById('b4b3e306-e3f4-4aba-846e-bc7485e9e154');\n",
              "var x = new MutationObserver(function (mutations, observer) {{\n",
              "        var display = window.getComputedStyle(gd).display;\n",
              "        if (!display || display === 'none') {{\n",
              "            console.log([gd, 'removed!']);\n",
              "            Plotly.purge(gd);\n",
              "            observer.disconnect();\n",
              "        }}\n",
              "}});\n",
              "\n",
              "// Listen for the removal of the full notebook cells\n",
              "var notebookContainer = gd.closest('#notebook-container');\n",
              "if (notebookContainer) {{\n",
              "    x.observe(notebookContainer, {childList: true});\n",
              "}}\n",
              "\n",
              "// Listen for the clearing of the current output cell\n",
              "var outputEl = gd.closest('.output');\n",
              "if (outputEl) {{\n",
              "    x.observe(outputEl, {childList: true});\n",
              "}}\n",
              "\n",
              "                        })                };                            </script>        </div>\n",
              "</body>\n",
              "</html>"
            ]
          },
          "metadata": {}
        }
      ]
    },
    {
      "cell_type": "code",
      "source": [
        "#fig = px.line(agents_stat_summary_by_year, x=\"year\"})\n",
        "import plotly.graph_objects as go\n",
        "\n",
        "fig = go.Figure()\n",
        "\n",
        "\n",
        "\n",
        "fig.add_trace(go.Scatter(\n",
        "    x=year_ranges,\n",
        "    y=agents_stat_summary_by_year['New Comers_income_q1'],\n",
        "    legendgroup=\"New Comers\",  # this can be any string, not just \"group\"\n",
        "    legendgrouptitle_text=\"New Comers\",\n",
        "    name=\"Income Q1\",\n",
        "    mode=\"lines\",\n",
        "    line=dict(color='royalblue', width=1)\n",
        "))\n",
        "\n",
        "\n",
        "fig.add_trace(go.Scatter(\n",
        "    x=year_ranges,\n",
        "    y=agents_stat_summary_by_year['New Comers_income_q2'],\n",
        "    legendgroup=\"New Comers\",  # this can be any string, not just \"group\"\n",
        "    legendgrouptitle_text=\"New Comers\",\n",
        "    name=\"Income Q2\",\n",
        "    mode=\"lines\",\n",
        "    line=dict(color='royalblue', width=3)\n",
        "))\n",
        "\n",
        "\n",
        "fig.add_trace(go.Scatter(\n",
        "    x=year_ranges,\n",
        "    y=agents_stat_summary_by_year['New Comers_income_q3'],\n",
        "    legendgroup=\"New Comers\",  # this can be any string, not just \"group\"\n",
        "    legendgrouptitle_text=\"New Comers\",\n",
        "    name=\"Income Q3\",\n",
        "    mode=\"lines\",\n",
        "    line=dict(color='royalblue', width=4)\n",
        "    \n",
        "))\n",
        "\n",
        "fig.add_trace(go.Scatter(\n",
        "    x=year_ranges,\n",
        "    y=agents_stat_summary_by_year['stay_income_q1'],\n",
        "    legendgroup=\"Staying\",  # this can be any string, not just \"group\"\n",
        "    legendgrouptitle_text=\"Staying\",\n",
        "    name=\"Icome Q1\",\n",
        "    mode=\"lines\",\n",
        "    line=dict(color='firebrick', width=1)\n",
        "))\n",
        "\n",
        "\n",
        "fig.add_trace(go.Scatter(\n",
        "    x=year_ranges,\n",
        "    y=agents_stat_summary_by_year['stay_income_q2'],\n",
        "    legendgroup=\"Staying\",  # this can be any string, not just \"group\"\n",
        "    legendgrouptitle_text=\"Staying\",\n",
        "    name=\"Income Q2\",\n",
        "    mode=\"lines\",\n",
        "    line=dict(color='firebrick', width=3)\n",
        "))\n",
        "\n",
        "\n",
        "fig.add_trace(go.Scatter(\n",
        "    x=year_ranges,\n",
        "    y=agents_stat_summary_by_year['stay_income_q3'],\n",
        "    legendgroup=\"Staying\",  # this can be any string, not just \"group\"\n",
        "    legendgrouptitle_text=\"Staying\",\n",
        "    name=\"Income Q3\",\n",
        "    mode=\"lines\",\n",
        "    line=dict(color='firebrick', width=4)\n",
        "    \n",
        "))\n",
        "\n",
        "fig.update_layout(title=\"Income (q1-q3) of olderst person at household\",template='plotly_white',yaxis = {'title' : \"Inocme (New Israeli Shekels)\"})\n",
        "\n",
        "fig.show()\n",
        "\n",
        "# set range"
      ],
      "metadata": {
        "id": "bD5FmRCqrSFa",
        "colab": {
          "base_uri": "https://localhost:8080/",
          "height": 542
        },
        "outputId": "77029a82-339d-4aca-9d56-f1973c352558"
      },
      "execution_count": null,
      "outputs": [
        {
          "output_type": "display_data",
          "data": {
            "text/html": [
              "<html>\n",
              "<head><meta charset=\"utf-8\" /></head>\n",
              "<body>\n",
              "    <div>            <script src=\"https://cdnjs.cloudflare.com/ajax/libs/mathjax/2.7.5/MathJax.js?config=TeX-AMS-MML_SVG\"></script><script type=\"text/javascript\">if (window.MathJax) {MathJax.Hub.Config({SVG: {font: \"STIX-Web\"}});}</script>                <script type=\"text/javascript\">window.PlotlyConfig = {MathJaxConfig: 'local'};</script>\n",
              "        <script src=\"https://cdn.plot.ly/plotly-2.8.3.min.js\"></script>                <div id=\"b766c3a8-ead7-43a0-b57b-f8883a5e9330\" class=\"plotly-graph-div\" style=\"height:525px; width:100%;\"></div>            <script type=\"text/javascript\">                                    window.PLOTLYENV=window.PLOTLYENV || {};                                    if (document.getElementById(\"b766c3a8-ead7-43a0-b57b-f8883a5e9330\")) {                    Plotly.newPlot(                        \"b766c3a8-ead7-43a0-b57b-f8883a5e9330\",                        [{\"legendgroup\":\"New Comers\",\"legendgrouptitle\":{\"text\":\"New Comers\"},\"line\":{\"color\":\"royalblue\",\"width\":1},\"mode\":\"lines\",\"name\":\"Income Q1\",\"x\":[\"2015 Q1\",\"2015 Q3\",\"2016 Q1\",\"2016 Q3\",\"2017 Q1\",\"2017 Q3\",\"2018 Q1\",\"2018 Q3\",\"2019 Q1\",\"2019 Q3\",\"2020 Q1\",\"2020 Q3\",\"2021 Q1\",\"2021 Q3\",\"2022 Q1\",\"2022 Q3\",\"2023 Q1\",\"2023 Q3\",\"2024 Q1\",\"2024 Q3\",\"2025 Q1\",\"2025 Q3\",\"2026 Q1\",\"2026 Q3\",\"2027 Q1\",\"2027 Q3\",\"2028 Q1\",\"2028 Q3\",\"2029 Q1\",\"2029 Q3\",\"2030 Q1\",\"2030 Q3\"],\"y\":[null,null,null,null,18838.1052631579,18838.1052631579,19619.10526315789,18584.605263157893,19415.1052631579,19415.1052631579,19647.5,19647.5,19647.5,19106.513157894733,20189.19736842105,20163.289473684206,20239.059210526317,20239.059210526317,20541.66447368421,20689.427631578943,20607.381578947367,20607.381578947367,21203.35526315789,21203.35526315789,21519.26315789474,21648.565789473687,21614.21052631579,21655.31578947368,21655.31578947368,21655.31578947368,21655.31578947368,21655.31578947368],\"type\":\"scatter\"},{\"legendgroup\":\"New Comers\",\"legendgrouptitle\":{\"text\":\"New Comers\"},\"line\":{\"color\":\"royalblue\",\"width\":3},\"mode\":\"lines\",\"name\":\"Income Q2\",\"x\":[\"2015 Q1\",\"2015 Q3\",\"2016 Q1\",\"2016 Q3\",\"2017 Q1\",\"2017 Q3\",\"2018 Q1\",\"2018 Q3\",\"2019 Q1\",\"2019 Q3\",\"2020 Q1\",\"2020 Q3\",\"2021 Q1\",\"2021 Q3\",\"2022 Q1\",\"2022 Q3\",\"2023 Q1\",\"2023 Q3\",\"2024 Q1\",\"2024 Q3\",\"2025 Q1\",\"2025 Q3\",\"2026 Q1\",\"2026 Q3\",\"2027 Q1\",\"2027 Q3\",\"2028 Q1\",\"2028 Q3\",\"2029 Q1\",\"2029 Q3\",\"2030 Q1\",\"2030 Q3\"],\"y\":[null,null,null,null,21097.1052631579,21097.1052631579,21099.868421052637,20230.42105263158,21815.47368421052,21815.47368421052,21859.78947368421,21859.78947368421,21859.78947368421,21248.1052631579,23657.96052631579,23013.31578947368,22924.026315789477,22924.026315789477,23178.90789473684,23073.894736842107,22880.21052631579,22880.21052631579,23268.52631578947,23268.52631578947,23674.6052631579,23874.17105263158,23763.23684210526,23851.21052631579,23851.21052631579,23851.21052631579,23851.21052631579,23851.21052631579],\"type\":\"scatter\"},{\"legendgroup\":\"New Comers\",\"legendgrouptitle\":{\"text\":\"New Comers\"},\"line\":{\"color\":\"royalblue\",\"width\":4},\"mode\":\"lines\",\"name\":\"Income Q3\",\"x\":[\"2015 Q1\",\"2015 Q3\",\"2016 Q1\",\"2016 Q3\",\"2017 Q1\",\"2017 Q3\",\"2018 Q1\",\"2018 Q3\",\"2019 Q1\",\"2019 Q3\",\"2020 Q1\",\"2020 Q3\",\"2021 Q1\",\"2021 Q3\",\"2022 Q1\",\"2022 Q3\",\"2023 Q1\",\"2023 Q3\",\"2024 Q1\",\"2024 Q3\",\"2025 Q1\",\"2025 Q3\",\"2026 Q1\",\"2026 Q3\",\"2027 Q1\",\"2027 Q3\",\"2028 Q1\",\"2028 Q3\",\"2029 Q1\",\"2029 Q3\",\"2030 Q1\",\"2030 Q3\"],\"y\":[null,null,null,null,22033.94736842105,22033.94736842105,22017.44736842105,22263.842105263157,25173.13157894737,25173.13157894737,24520.42105263158,24520.42105263158,24520.42105263158,24477.65789473684,26538.34868421053,26325.611842105263,25811.611842105267,25811.611842105267,25911.526315789477,25555.763157894737,25270.32894736842,25270.32894736842,25387.65789473684,25387.65789473684,26065.05263157895,26217.782894736847,26014.89473684211,26217.21052631579,26217.21052631579,26217.21052631579,26217.21052631579,26217.21052631579],\"type\":\"scatter\"},{\"legendgroup\":\"Staying\",\"legendgrouptitle\":{\"text\":\"Staying\"},\"line\":{\"color\":\"firebrick\",\"width\":1},\"mode\":\"lines\",\"name\":\"Icome Q1\",\"x\":[\"2015 Q1\",\"2015 Q3\",\"2016 Q1\",\"2016 Q3\",\"2017 Q1\",\"2017 Q3\",\"2018 Q1\",\"2018 Q3\",\"2019 Q1\",\"2019 Q3\",\"2020 Q1\",\"2020 Q3\",\"2021 Q1\",\"2021 Q3\",\"2022 Q1\",\"2022 Q3\",\"2023 Q1\",\"2023 Q3\",\"2024 Q1\",\"2024 Q3\",\"2025 Q1\",\"2025 Q3\",\"2026 Q1\",\"2026 Q3\",\"2027 Q1\",\"2027 Q3\",\"2028 Q1\",\"2028 Q3\",\"2029 Q1\",\"2029 Q3\",\"2030 Q1\",\"2030 Q3\"],\"y\":[6403.0,6413.5,6413.5,6427.0,6496.0,6496.0,6497.0,6497.0,6503.75,6503.75,6559.75,6555.25,6657.5,6657.5,6674.0,6676.0,8092.5,8092.5,8090.0,8547.0,11098.0,11157.25,8837.25,8837.25,8828.5,8866.25,8543.0,8566.0,8566.0,8566.0,8566.0,8566.0],\"type\":\"scatter\"},{\"legendgroup\":\"Staying\",\"legendgrouptitle\":{\"text\":\"Staying\"},\"line\":{\"color\":\"firebrick\",\"width\":3},\"mode\":\"lines\",\"name\":\"Income Q2\",\"x\":[\"2015 Q1\",\"2015 Q3\",\"2016 Q1\",\"2016 Q3\",\"2017 Q1\",\"2017 Q3\",\"2018 Q1\",\"2018 Q3\",\"2019 Q1\",\"2019 Q3\",\"2020 Q1\",\"2020 Q3\",\"2021 Q1\",\"2021 Q3\",\"2022 Q1\",\"2022 Q3\",\"2023 Q1\",\"2023 Q3\",\"2024 Q1\",\"2024 Q3\",\"2025 Q1\",\"2025 Q3\",\"2026 Q1\",\"2026 Q3\",\"2027 Q1\",\"2027 Q3\",\"2028 Q1\",\"2028 Q3\",\"2029 Q1\",\"2029 Q3\",\"2030 Q1\",\"2030 Q3\"],\"y\":[8771.0,8804.0,8804.0,8833.5,8934.5,8934.5,8933.0,8933.0,8965.0,8965.0,9029.5,8934.5,8950.0,8856.5,8932.0,8930.0,10995.0,10995.0,10995.0,11499.5,12540.0,12568.0,11536.0,11536.0,11557.0,11666.0,11512.0,11515.0,11515.0,11515.0,11515.0,11515.0],\"type\":\"scatter\"},{\"legendgroup\":\"Staying\",\"legendgrouptitle\":{\"text\":\"Staying\"},\"line\":{\"color\":\"firebrick\",\"width\":4},\"mode\":\"lines\",\"name\":\"Income Q3\",\"x\":[\"2015 Q1\",\"2015 Q3\",\"2016 Q1\",\"2016 Q3\",\"2017 Q1\",\"2017 Q3\",\"2018 Q1\",\"2018 Q3\",\"2019 Q1\",\"2019 Q3\",\"2020 Q1\",\"2020 Q3\",\"2021 Q1\",\"2021 Q3\",\"2022 Q1\",\"2022 Q3\",\"2023 Q1\",\"2023 Q3\",\"2024 Q1\",\"2024 Q3\",\"2025 Q1\",\"2025 Q3\",\"2026 Q1\",\"2026 Q3\",\"2027 Q1\",\"2027 Q3\",\"2028 Q1\",\"2028 Q3\",\"2029 Q1\",\"2029 Q3\",\"2030 Q1\",\"2030 Q3\"],\"y\":[11667.0,11669.0,11669.0,11729.75,11806.25,11806.25,11867.5,11867.5,11886.75,11886.75,11914.5,11853.0,11787.75,11670.0,11741.5,11698.5,13069.5,13069.5,13071.0,13281.0,13866.0,13809.0,13119.25,13119.25,13255.5,13425.5,13356.0,13384.0,13384.0,13384.0,13384.0,13384.0],\"type\":\"scatter\"}],                        {\"template\":{\"data\":{\"barpolar\":[{\"marker\":{\"line\":{\"color\":\"white\",\"width\":0.5},\"pattern\":{\"fillmode\":\"overlay\",\"size\":10,\"solidity\":0.2}},\"type\":\"barpolar\"}],\"bar\":[{\"error_x\":{\"color\":\"#2a3f5f\"},\"error_y\":{\"color\":\"#2a3f5f\"},\"marker\":{\"line\":{\"color\":\"white\",\"width\":0.5},\"pattern\":{\"fillmode\":\"overlay\",\"size\":10,\"solidity\":0.2}},\"type\":\"bar\"}],\"carpet\":[{\"aaxis\":{\"endlinecolor\":\"#2a3f5f\",\"gridcolor\":\"#C8D4E3\",\"linecolor\":\"#C8D4E3\",\"minorgridcolor\":\"#C8D4E3\",\"startlinecolor\":\"#2a3f5f\"},\"baxis\":{\"endlinecolor\":\"#2a3f5f\",\"gridcolor\":\"#C8D4E3\",\"linecolor\":\"#C8D4E3\",\"minorgridcolor\":\"#C8D4E3\",\"startlinecolor\":\"#2a3f5f\"},\"type\":\"carpet\"}],\"choropleth\":[{\"colorbar\":{\"outlinewidth\":0,\"ticks\":\"\"},\"type\":\"choropleth\"}],\"contourcarpet\":[{\"colorbar\":{\"outlinewidth\":0,\"ticks\":\"\"},\"type\":\"contourcarpet\"}],\"contour\":[{\"colorbar\":{\"outlinewidth\":0,\"ticks\":\"\"},\"colorscale\":[[0.0,\"#0d0887\"],[0.1111111111111111,\"#46039f\"],[0.2222222222222222,\"#7201a8\"],[0.3333333333333333,\"#9c179e\"],[0.4444444444444444,\"#bd3786\"],[0.5555555555555556,\"#d8576b\"],[0.6666666666666666,\"#ed7953\"],[0.7777777777777778,\"#fb9f3a\"],[0.8888888888888888,\"#fdca26\"],[1.0,\"#f0f921\"]],\"type\":\"contour\"}],\"heatmapgl\":[{\"colorbar\":{\"outlinewidth\":0,\"ticks\":\"\"},\"colorscale\":[[0.0,\"#0d0887\"],[0.1111111111111111,\"#46039f\"],[0.2222222222222222,\"#7201a8\"],[0.3333333333333333,\"#9c179e\"],[0.4444444444444444,\"#bd3786\"],[0.5555555555555556,\"#d8576b\"],[0.6666666666666666,\"#ed7953\"],[0.7777777777777778,\"#fb9f3a\"],[0.8888888888888888,\"#fdca26\"],[1.0,\"#f0f921\"]],\"type\":\"heatmapgl\"}],\"heatmap\":[{\"colorbar\":{\"outlinewidth\":0,\"ticks\":\"\"},\"colorscale\":[[0.0,\"#0d0887\"],[0.1111111111111111,\"#46039f\"],[0.2222222222222222,\"#7201a8\"],[0.3333333333333333,\"#9c179e\"],[0.4444444444444444,\"#bd3786\"],[0.5555555555555556,\"#d8576b\"],[0.6666666666666666,\"#ed7953\"],[0.7777777777777778,\"#fb9f3a\"],[0.8888888888888888,\"#fdca26\"],[1.0,\"#f0f921\"]],\"type\":\"heatmap\"}],\"histogram2dcontour\":[{\"colorbar\":{\"outlinewidth\":0,\"ticks\":\"\"},\"colorscale\":[[0.0,\"#0d0887\"],[0.1111111111111111,\"#46039f\"],[0.2222222222222222,\"#7201a8\"],[0.3333333333333333,\"#9c179e\"],[0.4444444444444444,\"#bd3786\"],[0.5555555555555556,\"#d8576b\"],[0.6666666666666666,\"#ed7953\"],[0.7777777777777778,\"#fb9f3a\"],[0.8888888888888888,\"#fdca26\"],[1.0,\"#f0f921\"]],\"type\":\"histogram2dcontour\"}],\"histogram2d\":[{\"colorbar\":{\"outlinewidth\":0,\"ticks\":\"\"},\"colorscale\":[[0.0,\"#0d0887\"],[0.1111111111111111,\"#46039f\"],[0.2222222222222222,\"#7201a8\"],[0.3333333333333333,\"#9c179e\"],[0.4444444444444444,\"#bd3786\"],[0.5555555555555556,\"#d8576b\"],[0.6666666666666666,\"#ed7953\"],[0.7777777777777778,\"#fb9f3a\"],[0.8888888888888888,\"#fdca26\"],[1.0,\"#f0f921\"]],\"type\":\"histogram2d\"}],\"histogram\":[{\"marker\":{\"pattern\":{\"fillmode\":\"overlay\",\"size\":10,\"solidity\":0.2}},\"type\":\"histogram\"}],\"mesh3d\":[{\"colorbar\":{\"outlinewidth\":0,\"ticks\":\"\"},\"type\":\"mesh3d\"}],\"parcoords\":[{\"line\":{\"colorbar\":{\"outlinewidth\":0,\"ticks\":\"\"}},\"type\":\"parcoords\"}],\"pie\":[{\"automargin\":true,\"type\":\"pie\"}],\"scatter3d\":[{\"line\":{\"colorbar\":{\"outlinewidth\":0,\"ticks\":\"\"}},\"marker\":{\"colorbar\":{\"outlinewidth\":0,\"ticks\":\"\"}},\"type\":\"scatter3d\"}],\"scattercarpet\":[{\"marker\":{\"colorbar\":{\"outlinewidth\":0,\"ticks\":\"\"}},\"type\":\"scattercarpet\"}],\"scattergeo\":[{\"marker\":{\"colorbar\":{\"outlinewidth\":0,\"ticks\":\"\"}},\"type\":\"scattergeo\"}],\"scattergl\":[{\"marker\":{\"colorbar\":{\"outlinewidth\":0,\"ticks\":\"\"}},\"type\":\"scattergl\"}],\"scattermapbox\":[{\"marker\":{\"colorbar\":{\"outlinewidth\":0,\"ticks\":\"\"}},\"type\":\"scattermapbox\"}],\"scatterpolargl\":[{\"marker\":{\"colorbar\":{\"outlinewidth\":0,\"ticks\":\"\"}},\"type\":\"scatterpolargl\"}],\"scatterpolar\":[{\"marker\":{\"colorbar\":{\"outlinewidth\":0,\"ticks\":\"\"}},\"type\":\"scatterpolar\"}],\"scatter\":[{\"marker\":{\"colorbar\":{\"outlinewidth\":0,\"ticks\":\"\"}},\"type\":\"scatter\"}],\"scatterternary\":[{\"marker\":{\"colorbar\":{\"outlinewidth\":0,\"ticks\":\"\"}},\"type\":\"scatterternary\"}],\"surface\":[{\"colorbar\":{\"outlinewidth\":0,\"ticks\":\"\"},\"colorscale\":[[0.0,\"#0d0887\"],[0.1111111111111111,\"#46039f\"],[0.2222222222222222,\"#7201a8\"],[0.3333333333333333,\"#9c179e\"],[0.4444444444444444,\"#bd3786\"],[0.5555555555555556,\"#d8576b\"],[0.6666666666666666,\"#ed7953\"],[0.7777777777777778,\"#fb9f3a\"],[0.8888888888888888,\"#fdca26\"],[1.0,\"#f0f921\"]],\"type\":\"surface\"}],\"table\":[{\"cells\":{\"fill\":{\"color\":\"#EBF0F8\"},\"line\":{\"color\":\"white\"}},\"header\":{\"fill\":{\"color\":\"#C8D4E3\"},\"line\":{\"color\":\"white\"}},\"type\":\"table\"}]},\"layout\":{\"annotationdefaults\":{\"arrowcolor\":\"#2a3f5f\",\"arrowhead\":0,\"arrowwidth\":1},\"autotypenumbers\":\"strict\",\"coloraxis\":{\"colorbar\":{\"outlinewidth\":0,\"ticks\":\"\"}},\"colorscale\":{\"diverging\":[[0,\"#8e0152\"],[0.1,\"#c51b7d\"],[0.2,\"#de77ae\"],[0.3,\"#f1b6da\"],[0.4,\"#fde0ef\"],[0.5,\"#f7f7f7\"],[0.6,\"#e6f5d0\"],[0.7,\"#b8e186\"],[0.8,\"#7fbc41\"],[0.9,\"#4d9221\"],[1,\"#276419\"]],\"sequential\":[[0.0,\"#0d0887\"],[0.1111111111111111,\"#46039f\"],[0.2222222222222222,\"#7201a8\"],[0.3333333333333333,\"#9c179e\"],[0.4444444444444444,\"#bd3786\"],[0.5555555555555556,\"#d8576b\"],[0.6666666666666666,\"#ed7953\"],[0.7777777777777778,\"#fb9f3a\"],[0.8888888888888888,\"#fdca26\"],[1.0,\"#f0f921\"]],\"sequentialminus\":[[0.0,\"#0d0887\"],[0.1111111111111111,\"#46039f\"],[0.2222222222222222,\"#7201a8\"],[0.3333333333333333,\"#9c179e\"],[0.4444444444444444,\"#bd3786\"],[0.5555555555555556,\"#d8576b\"],[0.6666666666666666,\"#ed7953\"],[0.7777777777777778,\"#fb9f3a\"],[0.8888888888888888,\"#fdca26\"],[1.0,\"#f0f921\"]]},\"colorway\":[\"#636efa\",\"#EF553B\",\"#00cc96\",\"#ab63fa\",\"#FFA15A\",\"#19d3f3\",\"#FF6692\",\"#B6E880\",\"#FF97FF\",\"#FECB52\"],\"font\":{\"color\":\"#2a3f5f\"},\"geo\":{\"bgcolor\":\"white\",\"lakecolor\":\"white\",\"landcolor\":\"white\",\"showlakes\":true,\"showland\":true,\"subunitcolor\":\"#C8D4E3\"},\"hoverlabel\":{\"align\":\"left\"},\"hovermode\":\"closest\",\"mapbox\":{\"style\":\"light\"},\"paper_bgcolor\":\"white\",\"plot_bgcolor\":\"white\",\"polar\":{\"angularaxis\":{\"gridcolor\":\"#EBF0F8\",\"linecolor\":\"#EBF0F8\",\"ticks\":\"\"},\"bgcolor\":\"white\",\"radialaxis\":{\"gridcolor\":\"#EBF0F8\",\"linecolor\":\"#EBF0F8\",\"ticks\":\"\"}},\"scene\":{\"xaxis\":{\"backgroundcolor\":\"white\",\"gridcolor\":\"#DFE8F3\",\"gridwidth\":2,\"linecolor\":\"#EBF0F8\",\"showbackground\":true,\"ticks\":\"\",\"zerolinecolor\":\"#EBF0F8\"},\"yaxis\":{\"backgroundcolor\":\"white\",\"gridcolor\":\"#DFE8F3\",\"gridwidth\":2,\"linecolor\":\"#EBF0F8\",\"showbackground\":true,\"ticks\":\"\",\"zerolinecolor\":\"#EBF0F8\"},\"zaxis\":{\"backgroundcolor\":\"white\",\"gridcolor\":\"#DFE8F3\",\"gridwidth\":2,\"linecolor\":\"#EBF0F8\",\"showbackground\":true,\"ticks\":\"\",\"zerolinecolor\":\"#EBF0F8\"}},\"shapedefaults\":{\"line\":{\"color\":\"#2a3f5f\"}},\"ternary\":{\"aaxis\":{\"gridcolor\":\"#DFE8F3\",\"linecolor\":\"#A2B1C6\",\"ticks\":\"\"},\"baxis\":{\"gridcolor\":\"#DFE8F3\",\"linecolor\":\"#A2B1C6\",\"ticks\":\"\"},\"bgcolor\":\"white\",\"caxis\":{\"gridcolor\":\"#DFE8F3\",\"linecolor\":\"#A2B1C6\",\"ticks\":\"\"}},\"title\":{\"x\":0.05},\"xaxis\":{\"automargin\":true,\"gridcolor\":\"#EBF0F8\",\"linecolor\":\"#EBF0F8\",\"ticks\":\"\",\"title\":{\"standoff\":15},\"zerolinecolor\":\"#EBF0F8\",\"zerolinewidth\":2},\"yaxis\":{\"automargin\":true,\"gridcolor\":\"#EBF0F8\",\"linecolor\":\"#EBF0F8\",\"ticks\":\"\",\"title\":{\"standoff\":15},\"zerolinecolor\":\"#EBF0F8\",\"zerolinewidth\":2}}},\"title\":{\"text\":\"Income (q1-q3) of olderst person at household\"},\"yaxis\":{\"title\":{\"text\":\"Inocme (New Israeli Shekels)\"}}},                        {\"responsive\": true}                    ).then(function(){\n",
              "                            \n",
              "var gd = document.getElementById('b766c3a8-ead7-43a0-b57b-f8883a5e9330');\n",
              "var x = new MutationObserver(function (mutations, observer) {{\n",
              "        var display = window.getComputedStyle(gd).display;\n",
              "        if (!display || display === 'none') {{\n",
              "            console.log([gd, 'removed!']);\n",
              "            Plotly.purge(gd);\n",
              "            observer.disconnect();\n",
              "        }}\n",
              "}});\n",
              "\n",
              "// Listen for the removal of the full notebook cells\n",
              "var notebookContainer = gd.closest('#notebook-container');\n",
              "if (notebookContainer) {{\n",
              "    x.observe(notebookContainer, {childList: true});\n",
              "}}\n",
              "\n",
              "// Listen for the clearing of the current output cell\n",
              "var outputEl = gd.closest('.output');\n",
              "if (outputEl) {{\n",
              "    x.observe(outputEl, {childList: true});\n",
              "}}\n",
              "\n",
              "                        })                };                            </script>        </div>\n",
              "</body>\n",
              "</html>"
            ]
          },
          "metadata": {}
        }
      ]
    },
    {
      "cell_type": "code",
      "source": [
        "rent_own_new_stay = agents_stat_summary_by_year[['year','New Comers_rent','New Comers_own','stay_rent','stay_own']].copy().fillna(0)\n",
        "end_index = rent_own_new_stay[rent_own_new_stay['year']=='2019 Q1'].index.values[0]\n",
        "selected_indexes = range(0,end_index+1)\n",
        "rent_own_new_stayselected = rent_own_new_stay[rent_own_new_stay.index.isin(selected_indexes)]"
      ],
      "metadata": {
        "id": "c9jnYcBzzSJc"
      },
      "execution_count": null,
      "outputs": []
    },
    {
      "cell_type": "code",
      "source": [
        ""
      ],
      "metadata": {
        "id": "Uigb3tiV3-1P"
      },
      "execution_count": null,
      "outputs": []
    },
    {
      "cell_type": "code",
      "source": [
        ""
      ],
      "metadata": {
        "id": "150kINtM3Ujf"
      },
      "execution_count": null,
      "outputs": []
    },
    {
      "cell_type": "code",
      "source": [
        ""
      ],
      "metadata": {
        "id": "UujQTjsa3uR_"
      },
      "execution_count": null,
      "outputs": []
    },
    {
      "cell_type": "code",
      "source": [
        "rent_own_new_stayselected"
      ],
      "metadata": {
        "colab": {
          "base_uri": "https://localhost:8080/",
          "height": 332
        },
        "id": "Ea6YtkUD3sjP",
        "outputId": "114a2208-510b-4a88-a164-64754851fe9b"
      },
      "execution_count": null,
      "outputs": [
        {
          "output_type": "execute_result",
          "data": {
            "text/plain": [
              "      year  New Comers_rent  New Comers_own  stay_rent  stay_own\n",
              "0  2015 Q1              0.0             0.0        318       579\n",
              "1  2015 Q3              0.0             0.0        310       565\n",
              "2  2016 Q1              0.0             0.0        310       565\n",
              "3  2016 Q3              0.0             0.0        294       542\n",
              "4  2017 Q1             11.0            14.0        282       520\n",
              "5  2017 Q3             11.0            14.0        282       520\n",
              "6  2018 Q1             31.0            53.0        278       517\n",
              "7  2018 Q3             69.0           134.0        278       517\n",
              "8  2019 Q1             90.0           195.0        271       493"
            ],
            "text/html": [
              "\n",
              "  <div id=\"df-684e7aa1-c0af-4703-aeeb-f8c1c7bd120a\">\n",
              "    <div class=\"colab-df-container\">\n",
              "      <div>\n",
              "<style scoped>\n",
              "    .dataframe tbody tr th:only-of-type {\n",
              "        vertical-align: middle;\n",
              "    }\n",
              "\n",
              "    .dataframe tbody tr th {\n",
              "        vertical-align: top;\n",
              "    }\n",
              "\n",
              "    .dataframe thead th {\n",
              "        text-align: right;\n",
              "    }\n",
              "</style>\n",
              "<table border=\"1\" class=\"dataframe\">\n",
              "  <thead>\n",
              "    <tr style=\"text-align: right;\">\n",
              "      <th></th>\n",
              "      <th>year</th>\n",
              "      <th>New Comers_rent</th>\n",
              "      <th>New Comers_own</th>\n",
              "      <th>stay_rent</th>\n",
              "      <th>stay_own</th>\n",
              "    </tr>\n",
              "  </thead>\n",
              "  <tbody>\n",
              "    <tr>\n",
              "      <th>0</th>\n",
              "      <td>2015 Q1</td>\n",
              "      <td>0.0</td>\n",
              "      <td>0.0</td>\n",
              "      <td>318</td>\n",
              "      <td>579</td>\n",
              "    </tr>\n",
              "    <tr>\n",
              "      <th>1</th>\n",
              "      <td>2015 Q3</td>\n",
              "      <td>0.0</td>\n",
              "      <td>0.0</td>\n",
              "      <td>310</td>\n",
              "      <td>565</td>\n",
              "    </tr>\n",
              "    <tr>\n",
              "      <th>2</th>\n",
              "      <td>2016 Q1</td>\n",
              "      <td>0.0</td>\n",
              "      <td>0.0</td>\n",
              "      <td>310</td>\n",
              "      <td>565</td>\n",
              "    </tr>\n",
              "    <tr>\n",
              "      <th>3</th>\n",
              "      <td>2016 Q3</td>\n",
              "      <td>0.0</td>\n",
              "      <td>0.0</td>\n",
              "      <td>294</td>\n",
              "      <td>542</td>\n",
              "    </tr>\n",
              "    <tr>\n",
              "      <th>4</th>\n",
              "      <td>2017 Q1</td>\n",
              "      <td>11.0</td>\n",
              "      <td>14.0</td>\n",
              "      <td>282</td>\n",
              "      <td>520</td>\n",
              "    </tr>\n",
              "    <tr>\n",
              "      <th>5</th>\n",
              "      <td>2017 Q3</td>\n",
              "      <td>11.0</td>\n",
              "      <td>14.0</td>\n",
              "      <td>282</td>\n",
              "      <td>520</td>\n",
              "    </tr>\n",
              "    <tr>\n",
              "      <th>6</th>\n",
              "      <td>2018 Q1</td>\n",
              "      <td>31.0</td>\n",
              "      <td>53.0</td>\n",
              "      <td>278</td>\n",
              "      <td>517</td>\n",
              "    </tr>\n",
              "    <tr>\n",
              "      <th>7</th>\n",
              "      <td>2018 Q3</td>\n",
              "      <td>69.0</td>\n",
              "      <td>134.0</td>\n",
              "      <td>278</td>\n",
              "      <td>517</td>\n",
              "    </tr>\n",
              "    <tr>\n",
              "      <th>8</th>\n",
              "      <td>2019 Q1</td>\n",
              "      <td>90.0</td>\n",
              "      <td>195.0</td>\n",
              "      <td>271</td>\n",
              "      <td>493</td>\n",
              "    </tr>\n",
              "  </tbody>\n",
              "</table>\n",
              "</div>\n",
              "      <button class=\"colab-df-convert\" onclick=\"convertToInteractive('df-684e7aa1-c0af-4703-aeeb-f8c1c7bd120a')\"\n",
              "              title=\"Convert this dataframe to an interactive table.\"\n",
              "              style=\"display:none;\">\n",
              "        \n",
              "  <svg xmlns=\"http://www.w3.org/2000/svg\" height=\"24px\"viewBox=\"0 0 24 24\"\n",
              "       width=\"24px\">\n",
              "    <path d=\"M0 0h24v24H0V0z\" fill=\"none\"/>\n",
              "    <path d=\"M18.56 5.44l.94 2.06.94-2.06 2.06-.94-2.06-.94-.94-2.06-.94 2.06-2.06.94zm-11 1L8.5 8.5l.94-2.06 2.06-.94-2.06-.94L8.5 2.5l-.94 2.06-2.06.94zm10 10l.94 2.06.94-2.06 2.06-.94-2.06-.94-.94-2.06-.94 2.06-2.06.94z\"/><path d=\"M17.41 7.96l-1.37-1.37c-.4-.4-.92-.59-1.43-.59-.52 0-1.04.2-1.43.59L10.3 9.45l-7.72 7.72c-.78.78-.78 2.05 0 2.83L4 21.41c.39.39.9.59 1.41.59.51 0 1.02-.2 1.41-.59l7.78-7.78 2.81-2.81c.8-.78.8-2.07 0-2.86zM5.41 20L4 18.59l7.72-7.72 1.47 1.35L5.41 20z\"/>\n",
              "  </svg>\n",
              "      </button>\n",
              "      \n",
              "  <style>\n",
              "    .colab-df-container {\n",
              "      display:flex;\n",
              "      flex-wrap:wrap;\n",
              "      gap: 12px;\n",
              "    }\n",
              "\n",
              "    .colab-df-convert {\n",
              "      background-color: #E8F0FE;\n",
              "      border: none;\n",
              "      border-radius: 50%;\n",
              "      cursor: pointer;\n",
              "      display: none;\n",
              "      fill: #1967D2;\n",
              "      height: 32px;\n",
              "      padding: 0 0 0 0;\n",
              "      width: 32px;\n",
              "    }\n",
              "\n",
              "    .colab-df-convert:hover {\n",
              "      background-color: #E2EBFA;\n",
              "      box-shadow: 0px 1px 2px rgba(60, 64, 67, 0.3), 0px 1px 3px 1px rgba(60, 64, 67, 0.15);\n",
              "      fill: #174EA6;\n",
              "    }\n",
              "\n",
              "    [theme=dark] .colab-df-convert {\n",
              "      background-color: #3B4455;\n",
              "      fill: #D2E3FC;\n",
              "    }\n",
              "\n",
              "    [theme=dark] .colab-df-convert:hover {\n",
              "      background-color: #434B5C;\n",
              "      box-shadow: 0px 1px 3px 1px rgba(0, 0, 0, 0.15);\n",
              "      filter: drop-shadow(0px 1px 2px rgba(0, 0, 0, 0.3));\n",
              "      fill: #FFFFFF;\n",
              "    }\n",
              "  </style>\n",
              "\n",
              "      <script>\n",
              "        const buttonEl =\n",
              "          document.querySelector('#df-684e7aa1-c0af-4703-aeeb-f8c1c7bd120a button.colab-df-convert');\n",
              "        buttonEl.style.display =\n",
              "          google.colab.kernel.accessAllowed ? 'block' : 'none';\n",
              "\n",
              "        async function convertToInteractive(key) {\n",
              "          const element = document.querySelector('#df-684e7aa1-c0af-4703-aeeb-f8c1c7bd120a');\n",
              "          const dataTable =\n",
              "            await google.colab.kernel.invokeFunction('convertToInteractive',\n",
              "                                                     [key], {});\n",
              "          if (!dataTable) return;\n",
              "\n",
              "          const docLinkHtml = 'Like what you see? Visit the ' +\n",
              "            '<a target=\"_blank\" href=https://colab.research.google.com/notebooks/data_table.ipynb>data table notebook</a>'\n",
              "            + ' to learn more about interactive tables.';\n",
              "          element.innerHTML = '';\n",
              "          dataTable['output_type'] = 'display_data';\n",
              "          await google.colab.output.renderOutput(dataTable, element);\n",
              "          const docLink = document.createElement('div');\n",
              "          docLink.innerHTML = docLinkHtml;\n",
              "          element.appendChild(docLink);\n",
              "        }\n",
              "      </script>\n",
              "    </div>\n",
              "  </div>\n",
              "  "
            ]
          },
          "metadata": {},
          "execution_count": 23
        }
      ]
    },
    {
      "cell_type": "code",
      "source": [
        ""
      ],
      "metadata": {
        "id": "0u16mbcx4AKi"
      },
      "execution_count": null,
      "outputs": []
    },
    {
      "cell_type": "code",
      "source": [
        ""
      ],
      "metadata": {
        "id": "8TYo5Q4N3qh_"
      },
      "execution_count": null,
      "outputs": []
    },
    {
      "cell_type": "code",
      "source": [
        ""
      ],
      "metadata": {
        "id": "eBFohuU13pn-"
      },
      "execution_count": null,
      "outputs": []
    },
    {
      "cell_type": "code",
      "source": [
        ""
      ],
      "metadata": {
        "id": "himNt9Ac3NqU"
      },
      "execution_count": null,
      "outputs": []
    },
    {
      "cell_type": "code",
      "source": [
        "agents_stat_summary_by_yearæ"
      ],
      "metadata": {
        "colab": {
          "base_uri": "https://localhost:8080/",
          "height": 165
        },
        "id": "0m8RGoNm2RnL",
        "outputId": "9bea30b4-be28-4a62-aec3-64c25a37ac9d"
      },
      "execution_count": null,
      "outputs": [
        {
          "output_type": "error",
          "ename": "NameError",
          "evalue": "ignored",
          "traceback": [
            "\u001b[0;31m---------------------------------------------------------------------------\u001b[0m",
            "\u001b[0;31mNameError\u001b[0m                                 Traceback (most recent call last)",
            "\u001b[0;32m<ipython-input-24-09312bc2f402>\u001b[0m in \u001b[0;36m<module>\u001b[0;34m()\u001b[0m\n\u001b[0;32m----> 1\u001b[0;31m \u001b[0magents_stat_summary_by_yearæ\u001b[0m\u001b[0;34m\u001b[0m\u001b[0;34m\u001b[0m\u001b[0m\n\u001b[0m",
            "\u001b[0;31mNameError\u001b[0m: name 'agents_stat_summary_by_yearæ' is not defined"
          ]
        }
      ]
    },
    {
      "cell_type": "code",
      "source": [
        ""
      ],
      "metadata": {
        "id": "Q3zrFfKs2XE4"
      },
      "execution_count": null,
      "outputs": []
    },
    {
      "cell_type": "code",
      "source": [
        ""
      ],
      "metadata": {
        "id": "l4mQnzWh6kdB"
      },
      "execution_count": null,
      "outputs": []
    },
    {
      "cell_type": "code",
      "source": [
        ""
      ],
      "metadata": {
        "id": "SlaOK8r74TXs"
      },
      "execution_count": null,
      "outputs": []
    },
    {
      "cell_type": "code",
      "source": [
        "fig"
      ],
      "metadata": {
        "colab": {
          "base_uri": "https://localhost:8080/",
          "height": 542
        },
        "id": "i47rY5QC6saZ",
        "outputId": "98f9050c-58b5-47d4-8fd0-83889b60e9ba"
      },
      "execution_count": null,
      "outputs": [
        {
          "output_type": "display_data",
          "data": {
            "text/html": [
              "<html>\n",
              "<head><meta charset=\"utf-8\" /></head>\n",
              "<body>\n",
              "    <div>            <script src=\"https://cdnjs.cloudflare.com/ajax/libs/mathjax/2.7.5/MathJax.js?config=TeX-AMS-MML_SVG\"></script><script type=\"text/javascript\">if (window.MathJax) {MathJax.Hub.Config({SVG: {font: \"STIX-Web\"}});}</script>                <script type=\"text/javascript\">window.PlotlyConfig = {MathJaxConfig: 'local'};</script>\n",
              "        <script src=\"https://cdn.plot.ly/plotly-2.8.3.min.js\"></script>                <div id=\"ade99147-2327-491e-ac28-4da4745669e3\" class=\"plotly-graph-div\" style=\"height:525px; width:100%;\"></div>            <script type=\"text/javascript\">                                    window.PLOTLYENV=window.PLOTLYENV || {};                                    if (document.getElementById(\"ade99147-2327-491e-ac28-4da4745669e3\")) {                    Plotly.newPlot(                        \"ade99147-2327-491e-ac28-4da4745669e3\",                        [{\"legendgroup\":\"New Comers\",\"legendgrouptitle\":{\"text\":\"New Comers\"},\"line\":{\"color\":\"royalblue\",\"width\":1},\"mode\":\"lines\",\"name\":\"Income Q1\",\"x\":[\"2015 Q1\",\"2015 Q3\",\"2016 Q1\",\"2016 Q3\",\"2017 Q1\",\"2017 Q3\",\"2018 Q1\",\"2018 Q3\",\"2019 Q1\",\"2019 Q3\",\"2020 Q1\",\"2020 Q3\",\"2021 Q1\",\"2021 Q3\",\"2022 Q1\",\"2022 Q3\",\"2023 Q1\",\"2023 Q3\",\"2024 Q1\",\"2024 Q3\",\"2025 Q1\",\"2025 Q3\",\"2026 Q1\",\"2026 Q3\",\"2027 Q1\",\"2027 Q3\",\"2028 Q1\",\"2028 Q3\",\"2029 Q1\",\"2029 Q3\",\"2030 Q1\",\"2030 Q3\"],\"y\":[null,null,null,null,18838.1052631579,18838.1052631579,19619.10526315789,18584.605263157893,19415.1052631579,19415.1052631579,19647.5,19647.5,19647.5,19106.513157894733,20189.19736842105,20163.289473684206,20239.059210526317,20239.059210526317,20541.66447368421,20689.427631578943,20607.381578947367,20607.381578947367,21203.35526315789,21203.35526315789,21519.26315789474,21648.565789473687,21614.21052631579,21655.31578947368,21655.31578947368,21655.31578947368,21655.31578947368,21655.31578947368],\"type\":\"scatter\"},{\"legendgroup\":\"New Comers\",\"legendgrouptitle\":{\"text\":\"New Comers\"},\"line\":{\"color\":\"royalblue\",\"width\":3},\"mode\":\"lines\",\"name\":\"Income Q2\",\"x\":[\"2015 Q1\",\"2015 Q3\",\"2016 Q1\",\"2016 Q3\",\"2017 Q1\",\"2017 Q3\",\"2018 Q1\",\"2018 Q3\",\"2019 Q1\",\"2019 Q3\",\"2020 Q1\",\"2020 Q3\",\"2021 Q1\",\"2021 Q3\",\"2022 Q1\",\"2022 Q3\",\"2023 Q1\",\"2023 Q3\",\"2024 Q1\",\"2024 Q3\",\"2025 Q1\",\"2025 Q3\",\"2026 Q1\",\"2026 Q3\",\"2027 Q1\",\"2027 Q3\",\"2028 Q1\",\"2028 Q3\",\"2029 Q1\",\"2029 Q3\",\"2030 Q1\",\"2030 Q3\"],\"y\":[null,null,null,null,21097.1052631579,21097.1052631579,21099.868421052637,20230.42105263158,21815.47368421052,21815.47368421052,21859.78947368421,21859.78947368421,21859.78947368421,21248.1052631579,23657.96052631579,23013.31578947368,22924.026315789477,22924.026315789477,23178.90789473684,23073.894736842107,22880.21052631579,22880.21052631579,23268.52631578947,23268.52631578947,23674.6052631579,23874.17105263158,23763.23684210526,23851.21052631579,23851.21052631579,23851.21052631579,23851.21052631579,23851.21052631579],\"type\":\"scatter\"},{\"legendgroup\":\"New Comers\",\"legendgrouptitle\":{\"text\":\"New Comers\"},\"line\":{\"color\":\"royalblue\",\"width\":4},\"mode\":\"lines\",\"name\":\"Income Q3\",\"x\":[\"2015 Q1\",\"2015 Q3\",\"2016 Q1\",\"2016 Q3\",\"2017 Q1\",\"2017 Q3\",\"2018 Q1\",\"2018 Q3\",\"2019 Q1\",\"2019 Q3\",\"2020 Q1\",\"2020 Q3\",\"2021 Q1\",\"2021 Q3\",\"2022 Q1\",\"2022 Q3\",\"2023 Q1\",\"2023 Q3\",\"2024 Q1\",\"2024 Q3\",\"2025 Q1\",\"2025 Q3\",\"2026 Q1\",\"2026 Q3\",\"2027 Q1\",\"2027 Q3\",\"2028 Q1\",\"2028 Q3\",\"2029 Q1\",\"2029 Q3\",\"2030 Q1\",\"2030 Q3\"],\"y\":[null,null,null,null,22033.94736842105,22033.94736842105,22017.44736842105,22263.842105263157,25173.13157894737,25173.13157894737,24520.42105263158,24520.42105263158,24520.42105263158,24477.65789473684,26538.34868421053,26325.611842105263,25811.611842105267,25811.611842105267,25911.526315789477,25555.763157894737,25270.32894736842,25270.32894736842,25387.65789473684,25387.65789473684,26065.05263157895,26217.782894736847,26014.89473684211,26217.21052631579,26217.21052631579,26217.21052631579,26217.21052631579,26217.21052631579],\"type\":\"scatter\"},{\"legendgroup\":\"Staying\",\"legendgrouptitle\":{\"text\":\"Staying\"},\"line\":{\"color\":\"firebrick\",\"width\":1},\"mode\":\"lines\",\"name\":\"Icome Q1\",\"x\":[\"2015 Q1\",\"2015 Q3\",\"2016 Q1\",\"2016 Q3\",\"2017 Q1\",\"2017 Q3\",\"2018 Q1\",\"2018 Q3\",\"2019 Q1\",\"2019 Q3\",\"2020 Q1\",\"2020 Q3\",\"2021 Q1\",\"2021 Q3\",\"2022 Q1\",\"2022 Q3\",\"2023 Q1\",\"2023 Q3\",\"2024 Q1\",\"2024 Q3\",\"2025 Q1\",\"2025 Q3\",\"2026 Q1\",\"2026 Q3\",\"2027 Q1\",\"2027 Q3\",\"2028 Q1\",\"2028 Q3\",\"2029 Q1\",\"2029 Q3\",\"2030 Q1\",\"2030 Q3\"],\"y\":[6403.0,6413.5,6413.5,6427.0,6496.0,6496.0,6497.0,6497.0,6503.75,6503.75,6559.75,6555.25,6657.5,6657.5,6674.0,6676.0,8092.5,8092.5,8090.0,8547.0,11098.0,11157.25,8837.25,8837.25,8828.5,8866.25,8543.0,8566.0,8566.0,8566.0,8566.0,8566.0],\"type\":\"scatter\"},{\"legendgroup\":\"Staying\",\"legendgrouptitle\":{\"text\":\"Staying\"},\"line\":{\"color\":\"firebrick\",\"width\":3},\"mode\":\"lines\",\"name\":\"Income Q2\",\"x\":[\"2015 Q1\",\"2015 Q3\",\"2016 Q1\",\"2016 Q3\",\"2017 Q1\",\"2017 Q3\",\"2018 Q1\",\"2018 Q3\",\"2019 Q1\",\"2019 Q3\",\"2020 Q1\",\"2020 Q3\",\"2021 Q1\",\"2021 Q3\",\"2022 Q1\",\"2022 Q3\",\"2023 Q1\",\"2023 Q3\",\"2024 Q1\",\"2024 Q3\",\"2025 Q1\",\"2025 Q3\",\"2026 Q1\",\"2026 Q3\",\"2027 Q1\",\"2027 Q3\",\"2028 Q1\",\"2028 Q3\",\"2029 Q1\",\"2029 Q3\",\"2030 Q1\",\"2030 Q3\"],\"y\":[8771.0,8804.0,8804.0,8833.5,8934.5,8934.5,8933.0,8933.0,8965.0,8965.0,9029.5,8934.5,8950.0,8856.5,8932.0,8930.0,10995.0,10995.0,10995.0,11499.5,12540.0,12568.0,11536.0,11536.0,11557.0,11666.0,11512.0,11515.0,11515.0,11515.0,11515.0,11515.0],\"type\":\"scatter\"},{\"legendgroup\":\"Staying\",\"legendgrouptitle\":{\"text\":\"Staying\"},\"line\":{\"color\":\"firebrick\",\"width\":4},\"mode\":\"lines\",\"name\":\"Income Q3\",\"x\":[\"2015 Q1\",\"2015 Q3\",\"2016 Q1\",\"2016 Q3\",\"2017 Q1\",\"2017 Q3\",\"2018 Q1\",\"2018 Q3\",\"2019 Q1\",\"2019 Q3\",\"2020 Q1\",\"2020 Q3\",\"2021 Q1\",\"2021 Q3\",\"2022 Q1\",\"2022 Q3\",\"2023 Q1\",\"2023 Q3\",\"2024 Q1\",\"2024 Q3\",\"2025 Q1\",\"2025 Q3\",\"2026 Q1\",\"2026 Q3\",\"2027 Q1\",\"2027 Q3\",\"2028 Q1\",\"2028 Q3\",\"2029 Q1\",\"2029 Q3\",\"2030 Q1\",\"2030 Q3\"],\"y\":[11667.0,11669.0,11669.0,11729.75,11806.25,11806.25,11867.5,11867.5,11886.75,11886.75,11914.5,11853.0,11787.75,11670.0,11741.5,11698.5,13069.5,13069.5,13071.0,13281.0,13866.0,13809.0,13119.25,13119.25,13255.5,13425.5,13356.0,13384.0,13384.0,13384.0,13384.0,13384.0],\"type\":\"scatter\"}],                        {\"template\":{\"data\":{\"barpolar\":[{\"marker\":{\"line\":{\"color\":\"white\",\"width\":0.5},\"pattern\":{\"fillmode\":\"overlay\",\"size\":10,\"solidity\":0.2}},\"type\":\"barpolar\"}],\"bar\":[{\"error_x\":{\"color\":\"#2a3f5f\"},\"error_y\":{\"color\":\"#2a3f5f\"},\"marker\":{\"line\":{\"color\":\"white\",\"width\":0.5},\"pattern\":{\"fillmode\":\"overlay\",\"size\":10,\"solidity\":0.2}},\"type\":\"bar\"}],\"carpet\":[{\"aaxis\":{\"endlinecolor\":\"#2a3f5f\",\"gridcolor\":\"#C8D4E3\",\"linecolor\":\"#C8D4E3\",\"minorgridcolor\":\"#C8D4E3\",\"startlinecolor\":\"#2a3f5f\"},\"baxis\":{\"endlinecolor\":\"#2a3f5f\",\"gridcolor\":\"#C8D4E3\",\"linecolor\":\"#C8D4E3\",\"minorgridcolor\":\"#C8D4E3\",\"startlinecolor\":\"#2a3f5f\"},\"type\":\"carpet\"}],\"choropleth\":[{\"colorbar\":{\"outlinewidth\":0,\"ticks\":\"\"},\"type\":\"choropleth\"}],\"contourcarpet\":[{\"colorbar\":{\"outlinewidth\":0,\"ticks\":\"\"},\"type\":\"contourcarpet\"}],\"contour\":[{\"colorbar\":{\"outlinewidth\":0,\"ticks\":\"\"},\"colorscale\":[[0.0,\"#0d0887\"],[0.1111111111111111,\"#46039f\"],[0.2222222222222222,\"#7201a8\"],[0.3333333333333333,\"#9c179e\"],[0.4444444444444444,\"#bd3786\"],[0.5555555555555556,\"#d8576b\"],[0.6666666666666666,\"#ed7953\"],[0.7777777777777778,\"#fb9f3a\"],[0.8888888888888888,\"#fdca26\"],[1.0,\"#f0f921\"]],\"type\":\"contour\"}],\"heatmapgl\":[{\"colorbar\":{\"outlinewidth\":0,\"ticks\":\"\"},\"colorscale\":[[0.0,\"#0d0887\"],[0.1111111111111111,\"#46039f\"],[0.2222222222222222,\"#7201a8\"],[0.3333333333333333,\"#9c179e\"],[0.4444444444444444,\"#bd3786\"],[0.5555555555555556,\"#d8576b\"],[0.6666666666666666,\"#ed7953\"],[0.7777777777777778,\"#fb9f3a\"],[0.8888888888888888,\"#fdca26\"],[1.0,\"#f0f921\"]],\"type\":\"heatmapgl\"}],\"heatmap\":[{\"colorbar\":{\"outlinewidth\":0,\"ticks\":\"\"},\"colorscale\":[[0.0,\"#0d0887\"],[0.1111111111111111,\"#46039f\"],[0.2222222222222222,\"#7201a8\"],[0.3333333333333333,\"#9c179e\"],[0.4444444444444444,\"#bd3786\"],[0.5555555555555556,\"#d8576b\"],[0.6666666666666666,\"#ed7953\"],[0.7777777777777778,\"#fb9f3a\"],[0.8888888888888888,\"#fdca26\"],[1.0,\"#f0f921\"]],\"type\":\"heatmap\"}],\"histogram2dcontour\":[{\"colorbar\":{\"outlinewidth\":0,\"ticks\":\"\"},\"colorscale\":[[0.0,\"#0d0887\"],[0.1111111111111111,\"#46039f\"],[0.2222222222222222,\"#7201a8\"],[0.3333333333333333,\"#9c179e\"],[0.4444444444444444,\"#bd3786\"],[0.5555555555555556,\"#d8576b\"],[0.6666666666666666,\"#ed7953\"],[0.7777777777777778,\"#fb9f3a\"],[0.8888888888888888,\"#fdca26\"],[1.0,\"#f0f921\"]],\"type\":\"histogram2dcontour\"}],\"histogram2d\":[{\"colorbar\":{\"outlinewidth\":0,\"ticks\":\"\"},\"colorscale\":[[0.0,\"#0d0887\"],[0.1111111111111111,\"#46039f\"],[0.2222222222222222,\"#7201a8\"],[0.3333333333333333,\"#9c179e\"],[0.4444444444444444,\"#bd3786\"],[0.5555555555555556,\"#d8576b\"],[0.6666666666666666,\"#ed7953\"],[0.7777777777777778,\"#fb9f3a\"],[0.8888888888888888,\"#fdca26\"],[1.0,\"#f0f921\"]],\"type\":\"histogram2d\"}],\"histogram\":[{\"marker\":{\"pattern\":{\"fillmode\":\"overlay\",\"size\":10,\"solidity\":0.2}},\"type\":\"histogram\"}],\"mesh3d\":[{\"colorbar\":{\"outlinewidth\":0,\"ticks\":\"\"},\"type\":\"mesh3d\"}],\"parcoords\":[{\"line\":{\"colorbar\":{\"outlinewidth\":0,\"ticks\":\"\"}},\"type\":\"parcoords\"}],\"pie\":[{\"automargin\":true,\"type\":\"pie\"}],\"scatter3d\":[{\"line\":{\"colorbar\":{\"outlinewidth\":0,\"ticks\":\"\"}},\"marker\":{\"colorbar\":{\"outlinewidth\":0,\"ticks\":\"\"}},\"type\":\"scatter3d\"}],\"scattercarpet\":[{\"marker\":{\"colorbar\":{\"outlinewidth\":0,\"ticks\":\"\"}},\"type\":\"scattercarpet\"}],\"scattergeo\":[{\"marker\":{\"colorbar\":{\"outlinewidth\":0,\"ticks\":\"\"}},\"type\":\"scattergeo\"}],\"scattergl\":[{\"marker\":{\"colorbar\":{\"outlinewidth\":0,\"ticks\":\"\"}},\"type\":\"scattergl\"}],\"scattermapbox\":[{\"marker\":{\"colorbar\":{\"outlinewidth\":0,\"ticks\":\"\"}},\"type\":\"scattermapbox\"}],\"scatterpolargl\":[{\"marker\":{\"colorbar\":{\"outlinewidth\":0,\"ticks\":\"\"}},\"type\":\"scatterpolargl\"}],\"scatterpolar\":[{\"marker\":{\"colorbar\":{\"outlinewidth\":0,\"ticks\":\"\"}},\"type\":\"scatterpolar\"}],\"scatter\":[{\"marker\":{\"colorbar\":{\"outlinewidth\":0,\"ticks\":\"\"}},\"type\":\"scatter\"}],\"scatterternary\":[{\"marker\":{\"colorbar\":{\"outlinewidth\":0,\"ticks\":\"\"}},\"type\":\"scatterternary\"}],\"surface\":[{\"colorbar\":{\"outlinewidth\":0,\"ticks\":\"\"},\"colorscale\":[[0.0,\"#0d0887\"],[0.1111111111111111,\"#46039f\"],[0.2222222222222222,\"#7201a8\"],[0.3333333333333333,\"#9c179e\"],[0.4444444444444444,\"#bd3786\"],[0.5555555555555556,\"#d8576b\"],[0.6666666666666666,\"#ed7953\"],[0.7777777777777778,\"#fb9f3a\"],[0.8888888888888888,\"#fdca26\"],[1.0,\"#f0f921\"]],\"type\":\"surface\"}],\"table\":[{\"cells\":{\"fill\":{\"color\":\"#EBF0F8\"},\"line\":{\"color\":\"white\"}},\"header\":{\"fill\":{\"color\":\"#C8D4E3\"},\"line\":{\"color\":\"white\"}},\"type\":\"table\"}]},\"layout\":{\"annotationdefaults\":{\"arrowcolor\":\"#2a3f5f\",\"arrowhead\":0,\"arrowwidth\":1},\"autotypenumbers\":\"strict\",\"coloraxis\":{\"colorbar\":{\"outlinewidth\":0,\"ticks\":\"\"}},\"colorscale\":{\"diverging\":[[0,\"#8e0152\"],[0.1,\"#c51b7d\"],[0.2,\"#de77ae\"],[0.3,\"#f1b6da\"],[0.4,\"#fde0ef\"],[0.5,\"#f7f7f7\"],[0.6,\"#e6f5d0\"],[0.7,\"#b8e186\"],[0.8,\"#7fbc41\"],[0.9,\"#4d9221\"],[1,\"#276419\"]],\"sequential\":[[0.0,\"#0d0887\"],[0.1111111111111111,\"#46039f\"],[0.2222222222222222,\"#7201a8\"],[0.3333333333333333,\"#9c179e\"],[0.4444444444444444,\"#bd3786\"],[0.5555555555555556,\"#d8576b\"],[0.6666666666666666,\"#ed7953\"],[0.7777777777777778,\"#fb9f3a\"],[0.8888888888888888,\"#fdca26\"],[1.0,\"#f0f921\"]],\"sequentialminus\":[[0.0,\"#0d0887\"],[0.1111111111111111,\"#46039f\"],[0.2222222222222222,\"#7201a8\"],[0.3333333333333333,\"#9c179e\"],[0.4444444444444444,\"#bd3786\"],[0.5555555555555556,\"#d8576b\"],[0.6666666666666666,\"#ed7953\"],[0.7777777777777778,\"#fb9f3a\"],[0.8888888888888888,\"#fdca26\"],[1.0,\"#f0f921\"]]},\"colorway\":[\"#636efa\",\"#EF553B\",\"#00cc96\",\"#ab63fa\",\"#FFA15A\",\"#19d3f3\",\"#FF6692\",\"#B6E880\",\"#FF97FF\",\"#FECB52\"],\"font\":{\"color\":\"#2a3f5f\"},\"geo\":{\"bgcolor\":\"white\",\"lakecolor\":\"white\",\"landcolor\":\"white\",\"showlakes\":true,\"showland\":true,\"subunitcolor\":\"#C8D4E3\"},\"hoverlabel\":{\"align\":\"left\"},\"hovermode\":\"closest\",\"mapbox\":{\"style\":\"light\"},\"paper_bgcolor\":\"white\",\"plot_bgcolor\":\"white\",\"polar\":{\"angularaxis\":{\"gridcolor\":\"#EBF0F8\",\"linecolor\":\"#EBF0F8\",\"ticks\":\"\"},\"bgcolor\":\"white\",\"radialaxis\":{\"gridcolor\":\"#EBF0F8\",\"linecolor\":\"#EBF0F8\",\"ticks\":\"\"}},\"scene\":{\"xaxis\":{\"backgroundcolor\":\"white\",\"gridcolor\":\"#DFE8F3\",\"gridwidth\":2,\"linecolor\":\"#EBF0F8\",\"showbackground\":true,\"ticks\":\"\",\"zerolinecolor\":\"#EBF0F8\"},\"yaxis\":{\"backgroundcolor\":\"white\",\"gridcolor\":\"#DFE8F3\",\"gridwidth\":2,\"linecolor\":\"#EBF0F8\",\"showbackground\":true,\"ticks\":\"\",\"zerolinecolor\":\"#EBF0F8\"},\"zaxis\":{\"backgroundcolor\":\"white\",\"gridcolor\":\"#DFE8F3\",\"gridwidth\":2,\"linecolor\":\"#EBF0F8\",\"showbackground\":true,\"ticks\":\"\",\"zerolinecolor\":\"#EBF0F8\"}},\"shapedefaults\":{\"line\":{\"color\":\"#2a3f5f\"}},\"ternary\":{\"aaxis\":{\"gridcolor\":\"#DFE8F3\",\"linecolor\":\"#A2B1C6\",\"ticks\":\"\"},\"baxis\":{\"gridcolor\":\"#DFE8F3\",\"linecolor\":\"#A2B1C6\",\"ticks\":\"\"},\"bgcolor\":\"white\",\"caxis\":{\"gridcolor\":\"#DFE8F3\",\"linecolor\":\"#A2B1C6\",\"ticks\":\"\"}},\"title\":{\"x\":0.05},\"xaxis\":{\"automargin\":true,\"gridcolor\":\"#EBF0F8\",\"linecolor\":\"#EBF0F8\",\"ticks\":\"\",\"title\":{\"standoff\":15},\"zerolinecolor\":\"#EBF0F8\",\"zerolinewidth\":2},\"yaxis\":{\"automargin\":true,\"gridcolor\":\"#EBF0F8\",\"linecolor\":\"#EBF0F8\",\"ticks\":\"\",\"title\":{\"standoff\":15},\"zerolinecolor\":\"#EBF0F8\",\"zerolinewidth\":2}}},\"title\":{\"text\":\"Income (q1-q3) of olderst person at household\"},\"yaxis\":{\"title\":{\"text\":\"Inocme (New Israeli Shekels)\"}}},                        {\"responsive\": true}                    ).then(function(){\n",
              "                            \n",
              "var gd = document.getElementById('ade99147-2327-491e-ac28-4da4745669e3');\n",
              "var x = new MutationObserver(function (mutations, observer) {{\n",
              "        var display = window.getComputedStyle(gd).display;\n",
              "        if (!display || display === 'none') {{\n",
              "            console.log([gd, 'removed!']);\n",
              "            Plotly.purge(gd);\n",
              "            observer.disconnect();\n",
              "        }}\n",
              "}});\n",
              "\n",
              "// Listen for the removal of the full notebook cells\n",
              "var notebookContainer = gd.closest('#notebook-container');\n",
              "if (notebookContainer) {{\n",
              "    x.observe(notebookContainer, {childList: true});\n",
              "}}\n",
              "\n",
              "// Listen for the clearing of the current output cell\n",
              "var outputEl = gd.closest('.output');\n",
              "if (outputEl) {{\n",
              "    x.observe(outputEl, {childList: true});\n",
              "}}\n",
              "\n",
              "                        })                };                            </script>        </div>\n",
              "</body>\n",
              "</html>"
            ]
          },
          "metadata": {}
        }
      ]
    },
    {
      "cell_type": "code",
      "source": [
        ""
      ],
      "metadata": {
        "id": "Wy8G0AMF7C5r"
      },
      "execution_count": null,
      "outputs": []
    },
    {
      "cell_type": "code",
      "source": [
        ""
      ],
      "metadata": {
        "id": "VcO7JaYt64Zb"
      },
      "execution_count": null,
      "outputs": []
    },
    {
      "cell_type": "code",
      "source": [
        ""
      ],
      "metadata": {
        "id": "DHHJ_zRl63CS"
      },
      "execution_count": null,
      "outputs": []
    },
    {
      "cell_type": "code",
      "source": [
        ""
      ],
      "metadata": {
        "id": "hSD82YhL60yR"
      },
      "execution_count": null,
      "outputs": []
    },
    {
      "cell_type": "code",
      "source": [
        ""
      ],
      "metadata": {
        "id": "MNvP3M7b6yvI"
      },
      "execution_count": null,
      "outputs": []
    },
    {
      "cell_type": "code",
      "source": [
        ""
      ],
      "metadata": {
        "id": "oDMFM_ld6wA0"
      },
      "execution_count": null,
      "outputs": []
    },
    {
      "cell_type": "code",
      "source": [
        ""
      ],
      "metadata": {
        "id": "wm7tW1uq6umB"
      },
      "execution_count": null,
      "outputs": []
    },
    {
      "cell_type": "code",
      "source": [
        ""
      ],
      "metadata": {
        "id": "FDed8XO16BkD"
      },
      "execution_count": null,
      "outputs": []
    },
    {
      "cell_type": "markdown",
      "source": [
        "Their is a lot of ownown regrading how the population will look like because this is a complex matter"
      ],
      "metadata": {
        "id": "359JgYsb0hxZ"
      }
    },
    {
      "cell_type": "code",
      "source": [
        "\n",
        "agents_stat_summary_by_year['New Comers'] = agents_stat_summary_by_year['New Comers_income_low'] + agents_stat_summary_by_year['New Comers_income_medium'] +  + agents_stat_summary_by_year['New Comers_income_high']\n",
        "agents_stat_summary_by_year['stay'] = agents_stat_summary_by_year['stay_income_low'] + agents_stat_summary_by_year['stay_income_medium'] +  + agents_stat_summary_by_year['stay_income_high']\n",
        "agents_stat_summary_by_year['total_pop'] = agents_stat_summary_by_year['New Comers'] + agents_stat_summary_by_year['stay']\n",
        "agents_stat_summary_by_year['New Comers_income_low_ratio'] = agents_stat_summary_by_year['New Comers_income_low']/agents_stat_summary_by_year['total_pop']\n",
        "agents_stat_summary_by_year['New Comers_income_medium_ratio'] = agents_stat_summary_by_year['New Comers_income_medium']/agents_stat_summary_by_year['total_pop']\n",
        "agents_stat_summary_by_year['New Comers_income_high_ratio'] = agents_stat_summary_by_year['New Comers_income_high']/agents_stat_summary_by_year['total_pop']\n",
        "\n",
        "agents_stat_summary_by_year['stay_income_low_ratio'] = agents_stat_summary_by_year['stay_income_low']/agents_stat_summary_by_year['total_pop']\n",
        "agents_stat_summary_by_year['stay_income_medium_ratio'] = agents_stat_summary_by_year['stay_income_medium']/agents_stat_summary_by_year['total_pop']\n",
        "agents_stat_summary_by_year['stay_income_high_ratio'] = agents_stat_summary_by_year['stay_income_high']/agents_stat_summary_by_year['total_pop']\n"
      ],
      "metadata": {
        "id": "eWFLNhpH4InE"
      },
      "execution_count": null,
      "outputs": []
    },
    {
      "cell_type": "code",
      "source": [
        ""
      ],
      "metadata": {
        "id": "7NOkJM-b4iWq"
      },
      "execution_count": null,
      "outputs": []
    },
    {
      "cell_type": "code",
      "source": [
        "#fig = px.line(agents_stat_summary_by_year, x=\"year\"})\n",
        "import plotly.graph_objects as go\n",
        "\n",
        "fig = go.Figure()\n",
        "\n",
        "\n",
        "fig.add_trace(go.Scatter(\n",
        "    x=year_ranges,\n",
        "    y=agents_stat_summary_by_year['New Comers_income_low_ratio'],\n",
        "    legendgroup=\"New Comers\",  # this can be any string, not just \"group\"\n",
        "    legendgrouptitle_text=\"New Comers\",\n",
        "    name=\"Low Inocme\",\n",
        "    mode=\"lines\",\n",
        "    line=dict(color='royalblue', width=1)\n",
        "))\n",
        "\n",
        "\n",
        "fig.add_trace(go.Scatter(\n",
        "    x=year_ranges,\n",
        "    y=agents_stat_summary_by_year['New Comers_income_medium_ratio'],\n",
        "    legendgroup=\"New Comers\",  # this can be any string, not just \"group\"\n",
        "    legendgrouptitle_text=\"New Comers\",\n",
        "    name=\"Medium Income\",\n",
        "    mode=\"lines\",\n",
        "    line=dict(color='royalblue', width=3)\n",
        "))\n",
        "\n",
        "fig.add_trace(go.Scatter(\n",
        "    x=year_ranges,\n",
        "    y=agents_stat_summary_by_year['New Comers_income_high_ratio'],\n",
        "    legendgroup=\"New Comers\",  # this can be any string, not just \"group\"\n",
        "    legendgrouptitle_text=\"New Comers\",\n",
        "    name=\"High Income\",\n",
        "    mode=\"lines\",\n",
        "    line=dict(color='royalblue', width=5)\n",
        "))\n",
        "\n",
        "\n",
        "fig.add_trace(go.Scatter(\n",
        "    x=year_ranges,\n",
        "    y=agents_stat_summary_by_year['stay_income_low_ratio'],\n",
        "    legendgroup=\"Staying\",  # this can be any string, not just \"group\"\n",
        "    legendgrouptitle_text=\"Staying\",\n",
        "    name=\"Renters\",\n",
        "    mode=\"lines\",\n",
        "    line=dict(color='firebrick', width=1)\n",
        "))\n",
        "\n",
        "\n",
        "fig.add_trace(go.Scatter(\n",
        "    x=year_ranges,\n",
        "    y=agents_stat_summary_by_year['stay_income_medium_ratio'],\n",
        "    legendgroup=\"Staying\",  # this can be any string, not just \"group\"\n",
        "    legendgrouptitle_text=\"Staying\",\n",
        "    name=\"Medium\",\n",
        "    mode=\"lines\",\n",
        "    line=dict(color='firebrick', width=3)\n",
        "))\n",
        "\n",
        "\n",
        "fig.add_trace(go.Scatter(\n",
        "    x=year_ranges,\n",
        "    y=agents_stat_summary_by_year['stay_income_high_ratio'],\n",
        "    legendgroup=\"Staying\",  # this can be any string, not just \"group\"\n",
        "    legendgrouptitle_text=\"Staying\",\n",
        "    name=\"High\",\n",
        "    mode=\"lines\",\n",
        "    line=dict(color='firebrick', width=5)\n",
        "))\n",
        "\n",
        "\n",
        "fig.update_layout(title=\"Income by class\",template='plotly_white',yaxis = {'title' : \"ratio\"})\n",
        "\n",
        "fig.show()\n",
        "\n",
        "# set range"
      ],
      "metadata": {
        "colab": {
          "base_uri": "https://localhost:8080/",
          "height": 542
        },
        "id": "GMZYtx4L0cQG",
        "outputId": "068804e2-ebe1-44a6-f9bb-8ee51d778076"
      },
      "execution_count": null,
      "outputs": [
        {
          "output_type": "display_data",
          "data": {
            "text/html": [
              "<html>\n",
              "<head><meta charset=\"utf-8\" /></head>\n",
              "<body>\n",
              "    <div>            <script src=\"https://cdnjs.cloudflare.com/ajax/libs/mathjax/2.7.5/MathJax.js?config=TeX-AMS-MML_SVG\"></script><script type=\"text/javascript\">if (window.MathJax) {MathJax.Hub.Config({SVG: {font: \"STIX-Web\"}});}</script>                <script type=\"text/javascript\">window.PlotlyConfig = {MathJaxConfig: 'local'};</script>\n",
              "        <script src=\"https://cdn.plot.ly/plotly-2.8.3.min.js\"></script>                <div id=\"4f0f689a-eeeb-40f8-9f7b-3a2422ca638b\" class=\"plotly-graph-div\" style=\"height:525px; width:100%;\"></div>            <script type=\"text/javascript\">                                    window.PLOTLYENV=window.PLOTLYENV || {};                                    if (document.getElementById(\"4f0f689a-eeeb-40f8-9f7b-3a2422ca638b\")) {                    Plotly.newPlot(                        \"4f0f689a-eeeb-40f8-9f7b-3a2422ca638b\",                        [{\"legendgroup\":\"New Comers\",\"legendgrouptitle\":{\"text\":\"New Comers\"},\"line\":{\"color\":\"royalblue\",\"width\":1},\"mode\":\"lines\",\"name\":\"Low Inocme\",\"x\":[\"2015 Q1\",\"2015 Q3\",\"2016 Q1\",\"2016 Q3\",\"2017 Q1\",\"2017 Q3\",\"2018 Q1\",\"2018 Q3\",\"2019 Q1\",\"2019 Q3\",\"2020 Q1\",\"2020 Q3\",\"2021 Q1\",\"2021 Q3\",\"2022 Q1\",\"2022 Q3\",\"2023 Q1\",\"2023 Q3\",\"2024 Q1\",\"2024 Q3\",\"2025 Q1\",\"2025 Q3\",\"2026 Q1\",\"2026 Q3\",\"2027 Q1\",\"2027 Q3\",\"2028 Q1\",\"2028 Q3\",\"2029 Q1\",\"2029 Q3\",\"2030 Q1\",\"2030 Q3\"],\"y\":[null,null,null,null,0.0,0.0,0.0,0.0,0.0,0.0,0.0,0.0,0.0,0.0,0.0,0.0,0.0,0.0,0.0,0.0,0.0,0.0,0.0,0.0,0.0,0.0,0.0,0.0,0.0,0.0,0.0,0.0],\"type\":\"scatter\"},{\"legendgroup\":\"New Comers\",\"legendgrouptitle\":{\"text\":\"New Comers\"},\"line\":{\"color\":\"royalblue\",\"width\":3},\"mode\":\"lines\",\"name\":\"Medium Income\",\"x\":[\"2015 Q1\",\"2015 Q3\",\"2016 Q1\",\"2016 Q3\",\"2017 Q1\",\"2017 Q3\",\"2018 Q1\",\"2018 Q3\",\"2019 Q1\",\"2019 Q3\",\"2020 Q1\",\"2020 Q3\",\"2021 Q1\",\"2021 Q3\",\"2022 Q1\",\"2022 Q3\",\"2023 Q1\",\"2023 Q3\",\"2024 Q1\",\"2024 Q3\",\"2025 Q1\",\"2025 Q3\",\"2026 Q1\",\"2026 Q3\",\"2027 Q1\",\"2027 Q3\",\"2028 Q1\",\"2028 Q3\",\"2029 Q1\",\"2029 Q3\",\"2030 Q1\",\"2030 Q3\"],\"y\":[null,null,null,null,0.013301088270858524,0.013301088270858524,0.022753128555176336,0.07515030060120241,0.07149666348903717,0.07149666348903717,0.07700101317122594,0.0794148380355277,0.08826945412311266,0.14834578441835647,0.11506622516556292,0.11902897415818324,0.1437308868501529,0.1437308868501529,0.13544668587896252,0.130939226519337,0.12668743509865005,0.12728221178925403,0.09579897919120534,0.09579897919120534,0.08615819209039548,0.08237677245104659,0.07793840351979887,0.07626076260762607,0.07626076260762607,0.07626076260762607,0.07626076260762607,0.07626076260762607],\"type\":\"scatter\"},{\"legendgroup\":\"New Comers\",\"legendgrouptitle\":{\"text\":\"New Comers\"},\"line\":{\"color\":\"royalblue\",\"width\":5},\"mode\":\"lines\",\"name\":\"High Income\",\"x\":[\"2015 Q1\",\"2015 Q3\",\"2016 Q1\",\"2016 Q3\",\"2017 Q1\",\"2017 Q3\",\"2018 Q1\",\"2018 Q3\",\"2019 Q1\",\"2019 Q3\",\"2020 Q1\",\"2020 Q3\",\"2021 Q1\",\"2021 Q3\",\"2022 Q1\",\"2022 Q3\",\"2023 Q1\",\"2023 Q3\",\"2024 Q1\",\"2024 Q3\",\"2025 Q1\",\"2025 Q3\",\"2026 Q1\",\"2026 Q3\",\"2027 Q1\",\"2027 Q3\",\"2028 Q1\",\"2028 Q3\",\"2029 Q1\",\"2029 Q3\",\"2030 Q1\",\"2030 Q3\"],\"y\":[null,null,null,null,0.016928657799274487,0.016928657799274487,0.07281001137656427,0.1282565130260521,0.2001906577693041,0.2001906577693041,0.2502532928064843,0.258098223615465,0.2868757259001161,0.35005336179295626,0.4908940397350993,0.5309318715740016,0.690519877675841,0.690519877675841,0.7072046109510086,0.7651933701657458,0.8094496365524403,0.8132498695878978,0.839811542991755,0.839811542991755,0.8534604519774012,0.8582039162727887,0.8614079195474544,0.8637761377613776,0.8637761377613776,0.8637761377613776,0.8637761377613776,0.8637761377613776],\"type\":\"scatter\"},{\"legendgroup\":\"Staying\",\"legendgrouptitle\":{\"text\":\"Staying\"},\"line\":{\"color\":\"firebrick\",\"width\":1},\"mode\":\"lines\",\"name\":\"Renters\",\"x\":[\"2015 Q1\",\"2015 Q3\",\"2016 Q1\",\"2016 Q3\",\"2017 Q1\",\"2017 Q3\",\"2018 Q1\",\"2018 Q3\",\"2019 Q1\",\"2019 Q3\",\"2020 Q1\",\"2020 Q3\",\"2021 Q1\",\"2021 Q3\",\"2022 Q1\",\"2022 Q3\",\"2023 Q1\",\"2023 Q3\",\"2024 Q1\",\"2024 Q3\",\"2025 Q1\",\"2025 Q3\",\"2026 Q1\",\"2026 Q3\",\"2027 Q1\",\"2027 Q3\",\"2028 Q1\",\"2028 Q3\",\"2029 Q1\",\"2029 Q3\",\"2030 Q1\",\"2030 Q3\"],\"y\":[null,null,null,null,0.48972188633615477,0.48972188633615477,0.45733788395904434,0.4028056112224449,0.36606291706387034,0.36606291706387034,0.3353596757852077,0.3343782654127482,0.3147502903600465,0.25827107790821774,0.20033112582781457,0.1793265465935787,0.05137614678899083,0.05137614678899083,0.04899135446685879,0.03038674033149171,0.008826583592938734,0.007303077725612937,0.01963093835885355,0.01963093835885355,0.018361581920903956,0.017555705604321403,0.019798868636077938,0.01937269372693727,0.01937269372693727,0.01937269372693727,0.01937269372693727,0.01937269372693727],\"type\":\"scatter\"},{\"legendgroup\":\"Staying\",\"legendgrouptitle\":{\"text\":\"Staying\"},\"line\":{\"color\":\"firebrick\",\"width\":3},\"mode\":\"lines\",\"name\":\"Medium\",\"x\":[\"2015 Q1\",\"2015 Q3\",\"2016 Q1\",\"2016 Q3\",\"2017 Q1\",\"2017 Q3\",\"2018 Q1\",\"2018 Q3\",\"2019 Q1\",\"2019 Q3\",\"2020 Q1\",\"2020 Q3\",\"2021 Q1\",\"2021 Q3\",\"2022 Q1\",\"2022 Q3\",\"2023 Q1\",\"2023 Q3\",\"2024 Q1\",\"2024 Q3\",\"2025 Q1\",\"2025 Q3\",\"2026 Q1\",\"2026 Q3\",\"2027 Q1\",\"2027 Q3\",\"2028 Q1\",\"2028 Q3\",\"2029 Q1\",\"2029 Q3\",\"2030 Q1\",\"2030 Q3\"],\"y\":[null,null,null,null,0.4800483675937122,0.4800483675937122,0.447098976109215,0.3937875751503006,0.3622497616777884,0.3622497616777884,0.3373860182370821,0.3281086729362591,0.31010452961672474,0.24332977588046958,0.19370860927152317,0.1707126076742365,0.11437308868501529,0.11437308868501529,0.10835734870317003,0.07348066298342541,0.055036344755970926,0.05216484089723526,0.0447585394581861,0.0447585394581861,0.042019774011299436,0.04186360567184335,0.04085480829666876,0.04059040590405904,0.04059040590405904,0.04059040590405904,0.04059040590405904,0.04059040590405904],\"type\":\"scatter\"},{\"legendgroup\":\"Staying\",\"legendgrouptitle\":{\"text\":\"Staying\"},\"line\":{\"color\":\"firebrick\",\"width\":5},\"mode\":\"lines\",\"name\":\"High\",\"x\":[\"2015 Q1\",\"2015 Q3\",\"2016 Q1\",\"2016 Q3\",\"2017 Q1\",\"2017 Q3\",\"2018 Q1\",\"2018 Q3\",\"2019 Q1\",\"2019 Q3\",\"2020 Q1\",\"2020 Q3\",\"2021 Q1\",\"2021 Q3\",\"2022 Q1\",\"2022 Q3\",\"2023 Q1\",\"2023 Q3\",\"2024 Q1\",\"2024 Q3\",\"2025 Q1\",\"2025 Q3\",\"2026 Q1\",\"2026 Q3\",\"2027 Q1\",\"2027 Q3\",\"2028 Q1\",\"2028 Q3\",\"2029 Q1\",\"2029 Q3\",\"2030 Q1\",\"2030 Q3\"],\"y\":[null,null,null,null,0.0,0.0,0.0,0.0,0.0,0.0,0.0,0.0,0.0,0.0,0.0,0.0,0.0,0.0,0.0,0.0,0.0,0.0,0.0,0.0,0.0,0.0,0.0,0.0,0.0,0.0,0.0,0.0],\"type\":\"scatter\"}],                        {\"template\":{\"data\":{\"barpolar\":[{\"marker\":{\"line\":{\"color\":\"white\",\"width\":0.5},\"pattern\":{\"fillmode\":\"overlay\",\"size\":10,\"solidity\":0.2}},\"type\":\"barpolar\"}],\"bar\":[{\"error_x\":{\"color\":\"#2a3f5f\"},\"error_y\":{\"color\":\"#2a3f5f\"},\"marker\":{\"line\":{\"color\":\"white\",\"width\":0.5},\"pattern\":{\"fillmode\":\"overlay\",\"size\":10,\"solidity\":0.2}},\"type\":\"bar\"}],\"carpet\":[{\"aaxis\":{\"endlinecolor\":\"#2a3f5f\",\"gridcolor\":\"#C8D4E3\",\"linecolor\":\"#C8D4E3\",\"minorgridcolor\":\"#C8D4E3\",\"startlinecolor\":\"#2a3f5f\"},\"baxis\":{\"endlinecolor\":\"#2a3f5f\",\"gridcolor\":\"#C8D4E3\",\"linecolor\":\"#C8D4E3\",\"minorgridcolor\":\"#C8D4E3\",\"startlinecolor\":\"#2a3f5f\"},\"type\":\"carpet\"}],\"choropleth\":[{\"colorbar\":{\"outlinewidth\":0,\"ticks\":\"\"},\"type\":\"choropleth\"}],\"contourcarpet\":[{\"colorbar\":{\"outlinewidth\":0,\"ticks\":\"\"},\"type\":\"contourcarpet\"}],\"contour\":[{\"colorbar\":{\"outlinewidth\":0,\"ticks\":\"\"},\"colorscale\":[[0.0,\"#0d0887\"],[0.1111111111111111,\"#46039f\"],[0.2222222222222222,\"#7201a8\"],[0.3333333333333333,\"#9c179e\"],[0.4444444444444444,\"#bd3786\"],[0.5555555555555556,\"#d8576b\"],[0.6666666666666666,\"#ed7953\"],[0.7777777777777778,\"#fb9f3a\"],[0.8888888888888888,\"#fdca26\"],[1.0,\"#f0f921\"]],\"type\":\"contour\"}],\"heatmapgl\":[{\"colorbar\":{\"outlinewidth\":0,\"ticks\":\"\"},\"colorscale\":[[0.0,\"#0d0887\"],[0.1111111111111111,\"#46039f\"],[0.2222222222222222,\"#7201a8\"],[0.3333333333333333,\"#9c179e\"],[0.4444444444444444,\"#bd3786\"],[0.5555555555555556,\"#d8576b\"],[0.6666666666666666,\"#ed7953\"],[0.7777777777777778,\"#fb9f3a\"],[0.8888888888888888,\"#fdca26\"],[1.0,\"#f0f921\"]],\"type\":\"heatmapgl\"}],\"heatmap\":[{\"colorbar\":{\"outlinewidth\":0,\"ticks\":\"\"},\"colorscale\":[[0.0,\"#0d0887\"],[0.1111111111111111,\"#46039f\"],[0.2222222222222222,\"#7201a8\"],[0.3333333333333333,\"#9c179e\"],[0.4444444444444444,\"#bd3786\"],[0.5555555555555556,\"#d8576b\"],[0.6666666666666666,\"#ed7953\"],[0.7777777777777778,\"#fb9f3a\"],[0.8888888888888888,\"#fdca26\"],[1.0,\"#f0f921\"]],\"type\":\"heatmap\"}],\"histogram2dcontour\":[{\"colorbar\":{\"outlinewidth\":0,\"ticks\":\"\"},\"colorscale\":[[0.0,\"#0d0887\"],[0.1111111111111111,\"#46039f\"],[0.2222222222222222,\"#7201a8\"],[0.3333333333333333,\"#9c179e\"],[0.4444444444444444,\"#bd3786\"],[0.5555555555555556,\"#d8576b\"],[0.6666666666666666,\"#ed7953\"],[0.7777777777777778,\"#fb9f3a\"],[0.8888888888888888,\"#fdca26\"],[1.0,\"#f0f921\"]],\"type\":\"histogram2dcontour\"}],\"histogram2d\":[{\"colorbar\":{\"outlinewidth\":0,\"ticks\":\"\"},\"colorscale\":[[0.0,\"#0d0887\"],[0.1111111111111111,\"#46039f\"],[0.2222222222222222,\"#7201a8\"],[0.3333333333333333,\"#9c179e\"],[0.4444444444444444,\"#bd3786\"],[0.5555555555555556,\"#d8576b\"],[0.6666666666666666,\"#ed7953\"],[0.7777777777777778,\"#fb9f3a\"],[0.8888888888888888,\"#fdca26\"],[1.0,\"#f0f921\"]],\"type\":\"histogram2d\"}],\"histogram\":[{\"marker\":{\"pattern\":{\"fillmode\":\"overlay\",\"size\":10,\"solidity\":0.2}},\"type\":\"histogram\"}],\"mesh3d\":[{\"colorbar\":{\"outlinewidth\":0,\"ticks\":\"\"},\"type\":\"mesh3d\"}],\"parcoords\":[{\"line\":{\"colorbar\":{\"outlinewidth\":0,\"ticks\":\"\"}},\"type\":\"parcoords\"}],\"pie\":[{\"automargin\":true,\"type\":\"pie\"}],\"scatter3d\":[{\"line\":{\"colorbar\":{\"outlinewidth\":0,\"ticks\":\"\"}},\"marker\":{\"colorbar\":{\"outlinewidth\":0,\"ticks\":\"\"}},\"type\":\"scatter3d\"}],\"scattercarpet\":[{\"marker\":{\"colorbar\":{\"outlinewidth\":0,\"ticks\":\"\"}},\"type\":\"scattercarpet\"}],\"scattergeo\":[{\"marker\":{\"colorbar\":{\"outlinewidth\":0,\"ticks\":\"\"}},\"type\":\"scattergeo\"}],\"scattergl\":[{\"marker\":{\"colorbar\":{\"outlinewidth\":0,\"ticks\":\"\"}},\"type\":\"scattergl\"}],\"scattermapbox\":[{\"marker\":{\"colorbar\":{\"outlinewidth\":0,\"ticks\":\"\"}},\"type\":\"scattermapbox\"}],\"scatterpolargl\":[{\"marker\":{\"colorbar\":{\"outlinewidth\":0,\"ticks\":\"\"}},\"type\":\"scatterpolargl\"}],\"scatterpolar\":[{\"marker\":{\"colorbar\":{\"outlinewidth\":0,\"ticks\":\"\"}},\"type\":\"scatterpolar\"}],\"scatter\":[{\"marker\":{\"colorbar\":{\"outlinewidth\":0,\"ticks\":\"\"}},\"type\":\"scatter\"}],\"scatterternary\":[{\"marker\":{\"colorbar\":{\"outlinewidth\":0,\"ticks\":\"\"}},\"type\":\"scatterternary\"}],\"surface\":[{\"colorbar\":{\"outlinewidth\":0,\"ticks\":\"\"},\"colorscale\":[[0.0,\"#0d0887\"],[0.1111111111111111,\"#46039f\"],[0.2222222222222222,\"#7201a8\"],[0.3333333333333333,\"#9c179e\"],[0.4444444444444444,\"#bd3786\"],[0.5555555555555556,\"#d8576b\"],[0.6666666666666666,\"#ed7953\"],[0.7777777777777778,\"#fb9f3a\"],[0.8888888888888888,\"#fdca26\"],[1.0,\"#f0f921\"]],\"type\":\"surface\"}],\"table\":[{\"cells\":{\"fill\":{\"color\":\"#EBF0F8\"},\"line\":{\"color\":\"white\"}},\"header\":{\"fill\":{\"color\":\"#C8D4E3\"},\"line\":{\"color\":\"white\"}},\"type\":\"table\"}]},\"layout\":{\"annotationdefaults\":{\"arrowcolor\":\"#2a3f5f\",\"arrowhead\":0,\"arrowwidth\":1},\"autotypenumbers\":\"strict\",\"coloraxis\":{\"colorbar\":{\"outlinewidth\":0,\"ticks\":\"\"}},\"colorscale\":{\"diverging\":[[0,\"#8e0152\"],[0.1,\"#c51b7d\"],[0.2,\"#de77ae\"],[0.3,\"#f1b6da\"],[0.4,\"#fde0ef\"],[0.5,\"#f7f7f7\"],[0.6,\"#e6f5d0\"],[0.7,\"#b8e186\"],[0.8,\"#7fbc41\"],[0.9,\"#4d9221\"],[1,\"#276419\"]],\"sequential\":[[0.0,\"#0d0887\"],[0.1111111111111111,\"#46039f\"],[0.2222222222222222,\"#7201a8\"],[0.3333333333333333,\"#9c179e\"],[0.4444444444444444,\"#bd3786\"],[0.5555555555555556,\"#d8576b\"],[0.6666666666666666,\"#ed7953\"],[0.7777777777777778,\"#fb9f3a\"],[0.8888888888888888,\"#fdca26\"],[1.0,\"#f0f921\"]],\"sequentialminus\":[[0.0,\"#0d0887\"],[0.1111111111111111,\"#46039f\"],[0.2222222222222222,\"#7201a8\"],[0.3333333333333333,\"#9c179e\"],[0.4444444444444444,\"#bd3786\"],[0.5555555555555556,\"#d8576b\"],[0.6666666666666666,\"#ed7953\"],[0.7777777777777778,\"#fb9f3a\"],[0.8888888888888888,\"#fdca26\"],[1.0,\"#f0f921\"]]},\"colorway\":[\"#636efa\",\"#EF553B\",\"#00cc96\",\"#ab63fa\",\"#FFA15A\",\"#19d3f3\",\"#FF6692\",\"#B6E880\",\"#FF97FF\",\"#FECB52\"],\"font\":{\"color\":\"#2a3f5f\"},\"geo\":{\"bgcolor\":\"white\",\"lakecolor\":\"white\",\"landcolor\":\"white\",\"showlakes\":true,\"showland\":true,\"subunitcolor\":\"#C8D4E3\"},\"hoverlabel\":{\"align\":\"left\"},\"hovermode\":\"closest\",\"mapbox\":{\"style\":\"light\"},\"paper_bgcolor\":\"white\",\"plot_bgcolor\":\"white\",\"polar\":{\"angularaxis\":{\"gridcolor\":\"#EBF0F8\",\"linecolor\":\"#EBF0F8\",\"ticks\":\"\"},\"bgcolor\":\"white\",\"radialaxis\":{\"gridcolor\":\"#EBF0F8\",\"linecolor\":\"#EBF0F8\",\"ticks\":\"\"}},\"scene\":{\"xaxis\":{\"backgroundcolor\":\"white\",\"gridcolor\":\"#DFE8F3\",\"gridwidth\":2,\"linecolor\":\"#EBF0F8\",\"showbackground\":true,\"ticks\":\"\",\"zerolinecolor\":\"#EBF0F8\"},\"yaxis\":{\"backgroundcolor\":\"white\",\"gridcolor\":\"#DFE8F3\",\"gridwidth\":2,\"linecolor\":\"#EBF0F8\",\"showbackground\":true,\"ticks\":\"\",\"zerolinecolor\":\"#EBF0F8\"},\"zaxis\":{\"backgroundcolor\":\"white\",\"gridcolor\":\"#DFE8F3\",\"gridwidth\":2,\"linecolor\":\"#EBF0F8\",\"showbackground\":true,\"ticks\":\"\",\"zerolinecolor\":\"#EBF0F8\"}},\"shapedefaults\":{\"line\":{\"color\":\"#2a3f5f\"}},\"ternary\":{\"aaxis\":{\"gridcolor\":\"#DFE8F3\",\"linecolor\":\"#A2B1C6\",\"ticks\":\"\"},\"baxis\":{\"gridcolor\":\"#DFE8F3\",\"linecolor\":\"#A2B1C6\",\"ticks\":\"\"},\"bgcolor\":\"white\",\"caxis\":{\"gridcolor\":\"#DFE8F3\",\"linecolor\":\"#A2B1C6\",\"ticks\":\"\"}},\"title\":{\"x\":0.05},\"xaxis\":{\"automargin\":true,\"gridcolor\":\"#EBF0F8\",\"linecolor\":\"#EBF0F8\",\"ticks\":\"\",\"title\":{\"standoff\":15},\"zerolinecolor\":\"#EBF0F8\",\"zerolinewidth\":2},\"yaxis\":{\"automargin\":true,\"gridcolor\":\"#EBF0F8\",\"linecolor\":\"#EBF0F8\",\"ticks\":\"\",\"title\":{\"standoff\":15},\"zerolinecolor\":\"#EBF0F8\",\"zerolinewidth\":2}}},\"title\":{\"text\":\"Income by class\"},\"yaxis\":{\"title\":{\"text\":\"ratio\"}}},                        {\"responsive\": true}                    ).then(function(){\n",
              "                            \n",
              "var gd = document.getElementById('4f0f689a-eeeb-40f8-9f7b-3a2422ca638b');\n",
              "var x = new MutationObserver(function (mutations, observer) {{\n",
              "        var display = window.getComputedStyle(gd).display;\n",
              "        if (!display || display === 'none') {{\n",
              "            console.log([gd, 'removed!']);\n",
              "            Plotly.purge(gd);\n",
              "            observer.disconnect();\n",
              "        }}\n",
              "}});\n",
              "\n",
              "// Listen for the removal of the full notebook cells\n",
              "var notebookContainer = gd.closest('#notebook-container');\n",
              "if (notebookContainer) {{\n",
              "    x.observe(notebookContainer, {childList: true});\n",
              "}}\n",
              "\n",
              "// Listen for the clearing of the current output cell\n",
              "var outputEl = gd.closest('.output');\n",
              "if (outputEl) {{\n",
              "    x.observe(outputEl, {childList: true});\n",
              "}}\n",
              "\n",
              "                        })                };                            </script>        </div>\n",
              "</body>\n",
              "</html>"
            ]
          },
          "metadata": {}
        }
      ]
    },
    {
      "cell_type": "code",
      "source": [
        "#fig = px.line(agents_stat_summary_by_year, x=\"year\"})\n",
        "import plotly.graph_objects as go\n",
        "\n",
        "fig = go.Figure()\n",
        "\n",
        "\n",
        "fig.add_trace(go.Scatter(\n",
        "    x=year_ranges,\n",
        "    y=agents_stat_summary_by_year['New Comers'],\n",
        "    legendgroup=\"New Comers\",  # this can be any string, not just \"group\"\n",
        "    legendgrouptitle_text=\"New Comers\",\n",
        "    name=\"New comers\",\n",
        "    mode=\"lines\",\n",
        "    line=dict(color='royalblue', width=1)\n",
        "))\n",
        "\n",
        "\n",
        "fig.add_trace(go.Scatter(\n",
        "    x=year_ranges,\n",
        "    y=agents_stat_summary_by_year['stay'],\n",
        "    legendgroup=\"Staying\",  # this can be any string, not just \"group\"\n",
        "    legendgrouptitle_text=\"Staying\",\n",
        "    name=\"Staying\",\n",
        "    mode=\"lines\",\n",
        "    line=dict(color='firebrick', width=1)\n",
        "))\n",
        "\n",
        "\n",
        "fig.update_layout(title=\"Number of People\",template='plotly_white',yaxis = {'title' : \"Absolute\"})\n",
        "\n",
        "fig.show()\n",
        "\n",
        "# set range"
      ],
      "metadata": {
        "colab": {
          "base_uri": "https://localhost:8080/",
          "height": 542
        },
        "id": "8s7bJ2yT37V1",
        "outputId": "bbcf3789-3b4d-4b36-e601-ce10d726922b"
      },
      "execution_count": null,
      "outputs": [
        {
          "output_type": "display_data",
          "data": {
            "text/html": [
              "<html>\n",
              "<head><meta charset=\"utf-8\" /></head>\n",
              "<body>\n",
              "    <div>            <script src=\"https://cdnjs.cloudflare.com/ajax/libs/mathjax/2.7.5/MathJax.js?config=TeX-AMS-MML_SVG\"></script><script type=\"text/javascript\">if (window.MathJax) {MathJax.Hub.Config({SVG: {font: \"STIX-Web\"}});}</script>                <script type=\"text/javascript\">window.PlotlyConfig = {MathJaxConfig: 'local'};</script>\n",
              "        <script src=\"https://cdn.plot.ly/plotly-2.8.3.min.js\"></script>                <div id=\"f42f1120-8a05-4a25-8346-b8a60ddaa0f5\" class=\"plotly-graph-div\" style=\"height:525px; width:100%;\"></div>            <script type=\"text/javascript\">                                    window.PLOTLYENV=window.PLOTLYENV || {};                                    if (document.getElementById(\"f42f1120-8a05-4a25-8346-b8a60ddaa0f5\")) {                    Plotly.newPlot(                        \"f42f1120-8a05-4a25-8346-b8a60ddaa0f5\",                        [{\"legendgroup\":\"New Comers\",\"legendgrouptitle\":{\"text\":\"New Comers\"},\"line\":{\"color\":\"royalblue\",\"width\":1},\"mode\":\"lines\",\"name\":\"New comers\",\"x\":[\"2015 Q1\",\"2015 Q3\",\"2016 Q1\",\"2016 Q3\",\"2017 Q1\",\"2017 Q3\",\"2018 Q1\",\"2018 Q3\",\"2019 Q1\",\"2019 Q3\",\"2020 Q1\",\"2020 Q3\",\"2021 Q1\",\"2021 Q3\",\"2022 Q1\",\"2022 Q3\",\"2023 Q1\",\"2023 Q3\",\"2024 Q1\",\"2024 Q3\",\"2025 Q1\",\"2025 Q3\",\"2026 Q1\",\"2026 Q3\",\"2027 Q1\",\"2027 Q3\",\"2028 Q1\",\"2028 Q3\",\"2029 Q1\",\"2029 Q3\",\"2030 Q1\",\"2030 Q3\"],\"y\":[null,null,null,null,25.0,25.0,84.0,203.0,285.0,285.0,323.0,323.0,323.0,467.0,732.0,830.0,1364.0,1364.0,1462.0,1622.0,1803.0,1803.0,2383.0,2383.0,2661.0,2786.0,2989.0,3057.0,3057.0,3057.0,3057.0,3057.0],\"type\":\"scatter\"},{\"legendgroup\":\"Staying\",\"legendgrouptitle\":{\"text\":\"Staying\"},\"line\":{\"color\":\"firebrick\",\"width\":1},\"mode\":\"lines\",\"name\":\"Staying\",\"x\":[\"2015 Q1\",\"2015 Q3\",\"2016 Q1\",\"2016 Q3\",\"2017 Q1\",\"2017 Q3\",\"2018 Q1\",\"2018 Q3\",\"2019 Q1\",\"2019 Q3\",\"2020 Q1\",\"2020 Q3\",\"2021 Q1\",\"2021 Q3\",\"2022 Q1\",\"2022 Q3\",\"2023 Q1\",\"2023 Q3\",\"2024 Q1\",\"2024 Q3\",\"2025 Q1\",\"2025 Q3\",\"2026 Q1\",\"2026 Q3\",\"2027 Q1\",\"2027 Q3\",\"2028 Q1\",\"2028 Q3\",\"2029 Q1\",\"2029 Q3\",\"2030 Q1\",\"2030 Q3\"],\"y\":[897.0,875.0,875.0,836.0,802.0,802.0,795.0,795.0,764.0,764.0,664.0,634.0,538.0,470.0,476.0,447.0,271.0,271.0,273.0,188.0,123.0,114.0,164.0,164.0,171.0,176.0,193.0,195.0,195.0,195.0,195.0,195.0],\"type\":\"scatter\"}],                        {\"template\":{\"data\":{\"barpolar\":[{\"marker\":{\"line\":{\"color\":\"white\",\"width\":0.5},\"pattern\":{\"fillmode\":\"overlay\",\"size\":10,\"solidity\":0.2}},\"type\":\"barpolar\"}],\"bar\":[{\"error_x\":{\"color\":\"#2a3f5f\"},\"error_y\":{\"color\":\"#2a3f5f\"},\"marker\":{\"line\":{\"color\":\"white\",\"width\":0.5},\"pattern\":{\"fillmode\":\"overlay\",\"size\":10,\"solidity\":0.2}},\"type\":\"bar\"}],\"carpet\":[{\"aaxis\":{\"endlinecolor\":\"#2a3f5f\",\"gridcolor\":\"#C8D4E3\",\"linecolor\":\"#C8D4E3\",\"minorgridcolor\":\"#C8D4E3\",\"startlinecolor\":\"#2a3f5f\"},\"baxis\":{\"endlinecolor\":\"#2a3f5f\",\"gridcolor\":\"#C8D4E3\",\"linecolor\":\"#C8D4E3\",\"minorgridcolor\":\"#C8D4E3\",\"startlinecolor\":\"#2a3f5f\"},\"type\":\"carpet\"}],\"choropleth\":[{\"colorbar\":{\"outlinewidth\":0,\"ticks\":\"\"},\"type\":\"choropleth\"}],\"contourcarpet\":[{\"colorbar\":{\"outlinewidth\":0,\"ticks\":\"\"},\"type\":\"contourcarpet\"}],\"contour\":[{\"colorbar\":{\"outlinewidth\":0,\"ticks\":\"\"},\"colorscale\":[[0.0,\"#0d0887\"],[0.1111111111111111,\"#46039f\"],[0.2222222222222222,\"#7201a8\"],[0.3333333333333333,\"#9c179e\"],[0.4444444444444444,\"#bd3786\"],[0.5555555555555556,\"#d8576b\"],[0.6666666666666666,\"#ed7953\"],[0.7777777777777778,\"#fb9f3a\"],[0.8888888888888888,\"#fdca26\"],[1.0,\"#f0f921\"]],\"type\":\"contour\"}],\"heatmapgl\":[{\"colorbar\":{\"outlinewidth\":0,\"ticks\":\"\"},\"colorscale\":[[0.0,\"#0d0887\"],[0.1111111111111111,\"#46039f\"],[0.2222222222222222,\"#7201a8\"],[0.3333333333333333,\"#9c179e\"],[0.4444444444444444,\"#bd3786\"],[0.5555555555555556,\"#d8576b\"],[0.6666666666666666,\"#ed7953\"],[0.7777777777777778,\"#fb9f3a\"],[0.8888888888888888,\"#fdca26\"],[1.0,\"#f0f921\"]],\"type\":\"heatmapgl\"}],\"heatmap\":[{\"colorbar\":{\"outlinewidth\":0,\"ticks\":\"\"},\"colorscale\":[[0.0,\"#0d0887\"],[0.1111111111111111,\"#46039f\"],[0.2222222222222222,\"#7201a8\"],[0.3333333333333333,\"#9c179e\"],[0.4444444444444444,\"#bd3786\"],[0.5555555555555556,\"#d8576b\"],[0.6666666666666666,\"#ed7953\"],[0.7777777777777778,\"#fb9f3a\"],[0.8888888888888888,\"#fdca26\"],[1.0,\"#f0f921\"]],\"type\":\"heatmap\"}],\"histogram2dcontour\":[{\"colorbar\":{\"outlinewidth\":0,\"ticks\":\"\"},\"colorscale\":[[0.0,\"#0d0887\"],[0.1111111111111111,\"#46039f\"],[0.2222222222222222,\"#7201a8\"],[0.3333333333333333,\"#9c179e\"],[0.4444444444444444,\"#bd3786\"],[0.5555555555555556,\"#d8576b\"],[0.6666666666666666,\"#ed7953\"],[0.7777777777777778,\"#fb9f3a\"],[0.8888888888888888,\"#fdca26\"],[1.0,\"#f0f921\"]],\"type\":\"histogram2dcontour\"}],\"histogram2d\":[{\"colorbar\":{\"outlinewidth\":0,\"ticks\":\"\"},\"colorscale\":[[0.0,\"#0d0887\"],[0.1111111111111111,\"#46039f\"],[0.2222222222222222,\"#7201a8\"],[0.3333333333333333,\"#9c179e\"],[0.4444444444444444,\"#bd3786\"],[0.5555555555555556,\"#d8576b\"],[0.6666666666666666,\"#ed7953\"],[0.7777777777777778,\"#fb9f3a\"],[0.8888888888888888,\"#fdca26\"],[1.0,\"#f0f921\"]],\"type\":\"histogram2d\"}],\"histogram\":[{\"marker\":{\"pattern\":{\"fillmode\":\"overlay\",\"size\":10,\"solidity\":0.2}},\"type\":\"histogram\"}],\"mesh3d\":[{\"colorbar\":{\"outlinewidth\":0,\"ticks\":\"\"},\"type\":\"mesh3d\"}],\"parcoords\":[{\"line\":{\"colorbar\":{\"outlinewidth\":0,\"ticks\":\"\"}},\"type\":\"parcoords\"}],\"pie\":[{\"automargin\":true,\"type\":\"pie\"}],\"scatter3d\":[{\"line\":{\"colorbar\":{\"outlinewidth\":0,\"ticks\":\"\"}},\"marker\":{\"colorbar\":{\"outlinewidth\":0,\"ticks\":\"\"}},\"type\":\"scatter3d\"}],\"scattercarpet\":[{\"marker\":{\"colorbar\":{\"outlinewidth\":0,\"ticks\":\"\"}},\"type\":\"scattercarpet\"}],\"scattergeo\":[{\"marker\":{\"colorbar\":{\"outlinewidth\":0,\"ticks\":\"\"}},\"type\":\"scattergeo\"}],\"scattergl\":[{\"marker\":{\"colorbar\":{\"outlinewidth\":0,\"ticks\":\"\"}},\"type\":\"scattergl\"}],\"scattermapbox\":[{\"marker\":{\"colorbar\":{\"outlinewidth\":0,\"ticks\":\"\"}},\"type\":\"scattermapbox\"}],\"scatterpolargl\":[{\"marker\":{\"colorbar\":{\"outlinewidth\":0,\"ticks\":\"\"}},\"type\":\"scatterpolargl\"}],\"scatterpolar\":[{\"marker\":{\"colorbar\":{\"outlinewidth\":0,\"ticks\":\"\"}},\"type\":\"scatterpolar\"}],\"scatter\":[{\"marker\":{\"colorbar\":{\"outlinewidth\":0,\"ticks\":\"\"}},\"type\":\"scatter\"}],\"scatterternary\":[{\"marker\":{\"colorbar\":{\"outlinewidth\":0,\"ticks\":\"\"}},\"type\":\"scatterternary\"}],\"surface\":[{\"colorbar\":{\"outlinewidth\":0,\"ticks\":\"\"},\"colorscale\":[[0.0,\"#0d0887\"],[0.1111111111111111,\"#46039f\"],[0.2222222222222222,\"#7201a8\"],[0.3333333333333333,\"#9c179e\"],[0.4444444444444444,\"#bd3786\"],[0.5555555555555556,\"#d8576b\"],[0.6666666666666666,\"#ed7953\"],[0.7777777777777778,\"#fb9f3a\"],[0.8888888888888888,\"#fdca26\"],[1.0,\"#f0f921\"]],\"type\":\"surface\"}],\"table\":[{\"cells\":{\"fill\":{\"color\":\"#EBF0F8\"},\"line\":{\"color\":\"white\"}},\"header\":{\"fill\":{\"color\":\"#C8D4E3\"},\"line\":{\"color\":\"white\"}},\"type\":\"table\"}]},\"layout\":{\"annotationdefaults\":{\"arrowcolor\":\"#2a3f5f\",\"arrowhead\":0,\"arrowwidth\":1},\"autotypenumbers\":\"strict\",\"coloraxis\":{\"colorbar\":{\"outlinewidth\":0,\"ticks\":\"\"}},\"colorscale\":{\"diverging\":[[0,\"#8e0152\"],[0.1,\"#c51b7d\"],[0.2,\"#de77ae\"],[0.3,\"#f1b6da\"],[0.4,\"#fde0ef\"],[0.5,\"#f7f7f7\"],[0.6,\"#e6f5d0\"],[0.7,\"#b8e186\"],[0.8,\"#7fbc41\"],[0.9,\"#4d9221\"],[1,\"#276419\"]],\"sequential\":[[0.0,\"#0d0887\"],[0.1111111111111111,\"#46039f\"],[0.2222222222222222,\"#7201a8\"],[0.3333333333333333,\"#9c179e\"],[0.4444444444444444,\"#bd3786\"],[0.5555555555555556,\"#d8576b\"],[0.6666666666666666,\"#ed7953\"],[0.7777777777777778,\"#fb9f3a\"],[0.8888888888888888,\"#fdca26\"],[1.0,\"#f0f921\"]],\"sequentialminus\":[[0.0,\"#0d0887\"],[0.1111111111111111,\"#46039f\"],[0.2222222222222222,\"#7201a8\"],[0.3333333333333333,\"#9c179e\"],[0.4444444444444444,\"#bd3786\"],[0.5555555555555556,\"#d8576b\"],[0.6666666666666666,\"#ed7953\"],[0.7777777777777778,\"#fb9f3a\"],[0.8888888888888888,\"#fdca26\"],[1.0,\"#f0f921\"]]},\"colorway\":[\"#636efa\",\"#EF553B\",\"#00cc96\",\"#ab63fa\",\"#FFA15A\",\"#19d3f3\",\"#FF6692\",\"#B6E880\",\"#FF97FF\",\"#FECB52\"],\"font\":{\"color\":\"#2a3f5f\"},\"geo\":{\"bgcolor\":\"white\",\"lakecolor\":\"white\",\"landcolor\":\"white\",\"showlakes\":true,\"showland\":true,\"subunitcolor\":\"#C8D4E3\"},\"hoverlabel\":{\"align\":\"left\"},\"hovermode\":\"closest\",\"mapbox\":{\"style\":\"light\"},\"paper_bgcolor\":\"white\",\"plot_bgcolor\":\"white\",\"polar\":{\"angularaxis\":{\"gridcolor\":\"#EBF0F8\",\"linecolor\":\"#EBF0F8\",\"ticks\":\"\"},\"bgcolor\":\"white\",\"radialaxis\":{\"gridcolor\":\"#EBF0F8\",\"linecolor\":\"#EBF0F8\",\"ticks\":\"\"}},\"scene\":{\"xaxis\":{\"backgroundcolor\":\"white\",\"gridcolor\":\"#DFE8F3\",\"gridwidth\":2,\"linecolor\":\"#EBF0F8\",\"showbackground\":true,\"ticks\":\"\",\"zerolinecolor\":\"#EBF0F8\"},\"yaxis\":{\"backgroundcolor\":\"white\",\"gridcolor\":\"#DFE8F3\",\"gridwidth\":2,\"linecolor\":\"#EBF0F8\",\"showbackground\":true,\"ticks\":\"\",\"zerolinecolor\":\"#EBF0F8\"},\"zaxis\":{\"backgroundcolor\":\"white\",\"gridcolor\":\"#DFE8F3\",\"gridwidth\":2,\"linecolor\":\"#EBF0F8\",\"showbackground\":true,\"ticks\":\"\",\"zerolinecolor\":\"#EBF0F8\"}},\"shapedefaults\":{\"line\":{\"color\":\"#2a3f5f\"}},\"ternary\":{\"aaxis\":{\"gridcolor\":\"#DFE8F3\",\"linecolor\":\"#A2B1C6\",\"ticks\":\"\"},\"baxis\":{\"gridcolor\":\"#DFE8F3\",\"linecolor\":\"#A2B1C6\",\"ticks\":\"\"},\"bgcolor\":\"white\",\"caxis\":{\"gridcolor\":\"#DFE8F3\",\"linecolor\":\"#A2B1C6\",\"ticks\":\"\"}},\"title\":{\"x\":0.05},\"xaxis\":{\"automargin\":true,\"gridcolor\":\"#EBF0F8\",\"linecolor\":\"#EBF0F8\",\"ticks\":\"\",\"title\":{\"standoff\":15},\"zerolinecolor\":\"#EBF0F8\",\"zerolinewidth\":2},\"yaxis\":{\"automargin\":true,\"gridcolor\":\"#EBF0F8\",\"linecolor\":\"#EBF0F8\",\"ticks\":\"\",\"title\":{\"standoff\":15},\"zerolinecolor\":\"#EBF0F8\",\"zerolinewidth\":2}}},\"title\":{\"text\":\"Number of People\"},\"yaxis\":{\"title\":{\"text\":\"Absolute\"}}},                        {\"responsive\": true}                    ).then(function(){\n",
              "                            \n",
              "var gd = document.getElementById('f42f1120-8a05-4a25-8346-b8a60ddaa0f5');\n",
              "var x = new MutationObserver(function (mutations, observer) {{\n",
              "        var display = window.getComputedStyle(gd).display;\n",
              "        if (!display || display === 'none') {{\n",
              "            console.log([gd, 'removed!']);\n",
              "            Plotly.purge(gd);\n",
              "            observer.disconnect();\n",
              "        }}\n",
              "}});\n",
              "\n",
              "// Listen for the removal of the full notebook cells\n",
              "var notebookContainer = gd.closest('#notebook-container');\n",
              "if (notebookContainer) {{\n",
              "    x.observe(notebookContainer, {childList: true});\n",
              "}}\n",
              "\n",
              "// Listen for the clearing of the current output cell\n",
              "var outputEl = gd.closest('.output');\n",
              "if (outputEl) {{\n",
              "    x.observe(outputEl, {childList: true});\n",
              "}}\n",
              "\n",
              "                        })                };                            </script>        </div>\n",
              "</body>\n",
              "</html>"
            ]
          },
          "metadata": {}
        }
      ]
    },
    {
      "cell_type": "code",
      "source": [
        ""
      ],
      "metadata": {
        "id": "LjutOqskcXs5"
      },
      "execution_count": null,
      "outputs": []
    },
    {
      "cell_type": "markdown",
      "source": [
        "# Building Typology"
      ],
      "metadata": {
        "id": "En-aDtZ4q4fa"
      }
    },
    {
      "cell_type": "code",
      "source": [
        "# Generate count status graph\n",
        "def get_construction_typo_graph(construction_typo):\n",
        "  fig = px.bar(bldg_status, x=\"status\", y=\"count\",width=500,height=200,template='plotly_white',title=\"Current Building Status\",category_orders={'status':['Building before', 'Construction', 'Building after']})\n",
        "  fig.update_layout(margin={\"r\":0,\"t\":35,\"l\":0,\"b\":0,\"pad\":0},\n",
        "  showlegend=True,\n",
        "\n",
        "  # font=dict(\n",
        "  #     size=15,\n",
        "  # )\n",
        "  )\n",
        "  fig.update_yaxes(automargin=True)\n",
        "  fig.update_yaxes(range=[0, 70])\n",
        "  return fig"
      ],
      "metadata": {
        "id": "r5mBH7UCrREO"
      },
      "execution_count": null,
      "outputs": []
    },
    {
      "cell_type": "code",
      "source": [
        "d1 = pd.to_datetime('2022-01-01')\n",
        "d2 = d1 - datetime.timedelta(days=180)\n",
        "bldgs1 = simulatedBldgsGdf[(simulatedBldgsGdf['start_date']< d1 ) & (simulatedBldgsGdf['end_date']> d1 )].copy().reset_index(drop=True)\n",
        "construction_typo_v = bldgs1['project_ty'].value_counts().to_frame().reset_index()\n",
        "construction_typo_v.rename(columns={'index':'project_ty','project_ty':'count'},inplace=True)\n",
        "bldgs1 = simulatedBldgsGdf[(simulatedBldgsGdf['start_date']< d2 ) & (simulatedBldgsGdf['end_date']> d2 )].copy().reset_index(drop=True)\n",
        "construction_typo_d = bldgs1['project_ty'].value_counts().to_frame().reset_index()\n",
        "construction_typo_d.rename(columns={'index':'project_ty','project_ty':'count'},inplace=True)\n",
        "#bldg_status_count = get_status_graph(bldg_status)"
      ],
      "metadata": {
        "id": "kSBBsHjJ-x4K"
      },
      "execution_count": null,
      "outputs": []
    },
    {
      "cell_type": "code",
      "source": [
        "construction_typo"
      ],
      "metadata": {
        "colab": {
          "base_uri": "https://localhost:8080/",
          "height": 165
        },
        "id": "UUOsG1PCrIJy",
        "outputId": "2e6e73d3-1745-44ea-b9da-14c6a6c9d7e0"
      },
      "execution_count": null,
      "outputs": [
        {
          "output_type": "error",
          "ename": "NameError",
          "evalue": "ignored",
          "traceback": [
            "\u001b[0;31m---------------------------------------------------------------------------\u001b[0m",
            "\u001b[0;31mNameError\u001b[0m                                 Traceback (most recent call last)",
            "\u001b[0;32m<ipython-input-31-f30ebc213572>\u001b[0m in \u001b[0;36m<module>\u001b[0;34m()\u001b[0m\n\u001b[0;32m----> 1\u001b[0;31m \u001b[0mconstruction_typo\u001b[0m\u001b[0;34m\u001b[0m\u001b[0;34m\u001b[0m\u001b[0m\n\u001b[0m",
            "\u001b[0;31mNameError\u001b[0m: name 'construction_typo' is not defined"
          ]
        }
      ]
    },
    {
      "cell_type": "code",
      "source": [
        "v_a = construction_typo[construction_typo['project_ty']==1]['count'].values[0]\n",
        "v_r = construction_typo[construction_typo['project_ty']==2]['count'].values[0]\n",
        "v_rr = construction_typo[construction_typo['project_ty']==2]['count'].values[0]"
      ],
      "metadata": {
        "id": "BC1fbxiUyrCW"
      },
      "execution_count": null,
      "outputs": []
    },
    {
      "cell_type": "code",
      "source": [
        "d = pd.to_datetime('2025-01-01')\n",
        "bldgs  = simulatedBldgsGdf[(simulatedBldgsGdf['start_date']< d ) & (simulatedBldgsGdf['end_date']> d )].copy().reset_index(drop=True)\n",
        "bldgs1 = bldgs.copy()\n",
        "agents_synced_buildings_to_date = pd.merge(agents_track_status,bldgs1[['project_nu','status','start_date']],left_on=['ProjNumber','bld_status'], right_on=['project_nu','status'])\n",
        "agents_synced_buildings_to_date_stay_new = agents_synced_buildings_to_date[agents_synced_buildings_to_date['status_x']!='Leave'].drop_duplicates().reset_index(drop=True)"
      ],
      "metadata": {
        "id": "Vt2WpDVQwmbL"
      },
      "execution_count": null,
      "outputs": []
    },
    {
      "cell_type": "code",
      "source": [
        "agents_synced_buildings_to_date_stay_new['status_x']"
      ],
      "metadata": {
        "colab": {
          "base_uri": "https://localhost:8080/"
        },
        "id": "bcCVejE_xPER",
        "outputId": "8bffcb46-af7f-43f6-df4d-5365756512e0"
      },
      "execution_count": null,
      "outputs": [
        {
          "output_type": "execute_result",
          "data": {
            "text/plain": [
              "0             stay\n",
              "1             stay\n",
              "2             stay\n",
              "3             stay\n",
              "4             stay\n",
              "           ...    \n",
              "1921    New Comers\n",
              "1922    New Comers\n",
              "1923    New Comers\n",
              "1924    New Comers\n",
              "1925    New Comers\n",
              "Name: status_x, Length: 1926, dtype: object"
            ]
          },
          "metadata": {},
          "execution_count": 33
        }
      ]
    },
    {
      "cell_type": "code",
      "source": [
        "year_makrs = [year for year in np.arange(2015,2031,0.5)]\n",
        "years_with_q2_makrs = []\n",
        "for year in year_makrs:\n",
        "    d = pd.to_datetime(f'{int(year)}-07-01')\n",
        "    if year % 1 == 0:\n",
        "        d = pd.to_datetime(f'{int(year)}-01-01')\n",
        "    years_with_q2_makrs.append(d)"
      ],
      "metadata": {
        "id": "Hb-7QCH5w2pQ"
      },
      "execution_count": null,
      "outputs": []
    },
    {
      "cell_type": "code",
      "source": [
        "age_grown1 = d.year-years_with_q2_makrs[0].year\n",
        "agents_synced_buildings_to_date_stay_new.loc[agents_synced_buildings_to_date_stay_new['status_x']=='stay','age'] = agents_synced_buildings_to_date_stay_new.loc[agents_synced_buildings_to_date_stay_new['status_x']=='stay','age'] + age_grown1\n",
        "agents_synced_buildings_to_date_stay_new.loc[agents_synced_buildings_to_date_stay_new['status_x']=='New Comers','age'] = agents_synced_buildings_to_date_stay_new.loc[agents_synced_buildings_to_date_stay_new['status_x']=='New Comers'].apply(lambda p: p['age'] + (d.year - p['start_date'].year),axis=1)\n",
        "\n",
        "agents_synced_buildings_to_date_stay_new['age_group'] = pd.cut(agents_synced_buildings_to_date_stay_new['age'], [0,44,64,84,130],right=True, labels=[\"18-44\", \"45-64\", \"65-84\", \"85+\"],ordered=True)\n",
        "agents_stay_age_income =agents_synced_buildings_to_date_stay_new[['status_x','age_group','income_cat']].reset_index(drop=True).rename(columns={'status_x':'Stay or leave','age_group':'Age group','income_cat':'Income category'})"
      ],
      "metadata": {
        "id": "Tzi9BG1WxP_G"
      },
      "execution_count": null,
      "outputs": []
    },
    {
      "cell_type": "code",
      "source": [
        ""
      ],
      "metadata": {
        "id": "fgJ1CveP8s1s"
      },
      "execution_count": null,
      "outputs": []
    },
    {
      "cell_type": "code",
      "source": [
        ""
      ],
      "metadata": {
        "id": "_NVk1tD89db2"
      },
      "execution_count": null,
      "outputs": []
    },
    {
      "cell_type": "code",
      "source": [
        "agents_synced_buildings_to_date_stay_new[['status_x','age_group','income_cat']]"
      ],
      "metadata": {
        "colab": {
          "base_uri": "https://localhost:8080/",
          "height": 424
        },
        "id": "fEEvWw-36CWU",
        "outputId": "d4ec916e-c92d-46d9-8809-1d44d7722313"
      },
      "execution_count": null,
      "outputs": [
        {
          "output_type": "execute_result",
          "data": {
            "text/plain": [
              "        status_x age_group income_cat\n",
              "0           stay     45-64     Medium\n",
              "1           stay     45-64     Medium\n",
              "2           stay     45-64     Medium\n",
              "3           stay     45-64     Medium\n",
              "4           stay     45-64     Medium\n",
              "...          ...       ...        ...\n",
              "1921  New Comers     45-64       High\n",
              "1922  New Comers     45-64       High\n",
              "1923  New Comers     45-64       High\n",
              "1924  New Comers       85+       High\n",
              "1925  New Comers     18-44       High\n",
              "\n",
              "[1926 rows x 3 columns]"
            ],
            "text/html": [
              "\n",
              "  <div id=\"df-252b9664-e25a-4c6c-bcba-50f30f4c2d81\">\n",
              "    <div class=\"colab-df-container\">\n",
              "      <div>\n",
              "<style scoped>\n",
              "    .dataframe tbody tr th:only-of-type {\n",
              "        vertical-align: middle;\n",
              "    }\n",
              "\n",
              "    .dataframe tbody tr th {\n",
              "        vertical-align: top;\n",
              "    }\n",
              "\n",
              "    .dataframe thead th {\n",
              "        text-align: right;\n",
              "    }\n",
              "</style>\n",
              "<table border=\"1\" class=\"dataframe\">\n",
              "  <thead>\n",
              "    <tr style=\"text-align: right;\">\n",
              "      <th></th>\n",
              "      <th>status_x</th>\n",
              "      <th>age_group</th>\n",
              "      <th>income_cat</th>\n",
              "    </tr>\n",
              "  </thead>\n",
              "  <tbody>\n",
              "    <tr>\n",
              "      <th>0</th>\n",
              "      <td>stay</td>\n",
              "      <td>45-64</td>\n",
              "      <td>Medium</td>\n",
              "    </tr>\n",
              "    <tr>\n",
              "      <th>1</th>\n",
              "      <td>stay</td>\n",
              "      <td>45-64</td>\n",
              "      <td>Medium</td>\n",
              "    </tr>\n",
              "    <tr>\n",
              "      <th>2</th>\n",
              "      <td>stay</td>\n",
              "      <td>45-64</td>\n",
              "      <td>Medium</td>\n",
              "    </tr>\n",
              "    <tr>\n",
              "      <th>3</th>\n",
              "      <td>stay</td>\n",
              "      <td>45-64</td>\n",
              "      <td>Medium</td>\n",
              "    </tr>\n",
              "    <tr>\n",
              "      <th>4</th>\n",
              "      <td>stay</td>\n",
              "      <td>45-64</td>\n",
              "      <td>Medium</td>\n",
              "    </tr>\n",
              "    <tr>\n",
              "      <th>...</th>\n",
              "      <td>...</td>\n",
              "      <td>...</td>\n",
              "      <td>...</td>\n",
              "    </tr>\n",
              "    <tr>\n",
              "      <th>1921</th>\n",
              "      <td>New Comers</td>\n",
              "      <td>45-64</td>\n",
              "      <td>High</td>\n",
              "    </tr>\n",
              "    <tr>\n",
              "      <th>1922</th>\n",
              "      <td>New Comers</td>\n",
              "      <td>45-64</td>\n",
              "      <td>High</td>\n",
              "    </tr>\n",
              "    <tr>\n",
              "      <th>1923</th>\n",
              "      <td>New Comers</td>\n",
              "      <td>45-64</td>\n",
              "      <td>High</td>\n",
              "    </tr>\n",
              "    <tr>\n",
              "      <th>1924</th>\n",
              "      <td>New Comers</td>\n",
              "      <td>85+</td>\n",
              "      <td>High</td>\n",
              "    </tr>\n",
              "    <tr>\n",
              "      <th>1925</th>\n",
              "      <td>New Comers</td>\n",
              "      <td>18-44</td>\n",
              "      <td>High</td>\n",
              "    </tr>\n",
              "  </tbody>\n",
              "</table>\n",
              "<p>1926 rows × 3 columns</p>\n",
              "</div>\n",
              "      <button class=\"colab-df-convert\" onclick=\"convertToInteractive('df-252b9664-e25a-4c6c-bcba-50f30f4c2d81')\"\n",
              "              title=\"Convert this dataframe to an interactive table.\"\n",
              "              style=\"display:none;\">\n",
              "        \n",
              "  <svg xmlns=\"http://www.w3.org/2000/svg\" height=\"24px\"viewBox=\"0 0 24 24\"\n",
              "       width=\"24px\">\n",
              "    <path d=\"M0 0h24v24H0V0z\" fill=\"none\"/>\n",
              "    <path d=\"M18.56 5.44l.94 2.06.94-2.06 2.06-.94-2.06-.94-.94-2.06-.94 2.06-2.06.94zm-11 1L8.5 8.5l.94-2.06 2.06-.94-2.06-.94L8.5 2.5l-.94 2.06-2.06.94zm10 10l.94 2.06.94-2.06 2.06-.94-2.06-.94-.94-2.06-.94 2.06-2.06.94z\"/><path d=\"M17.41 7.96l-1.37-1.37c-.4-.4-.92-.59-1.43-.59-.52 0-1.04.2-1.43.59L10.3 9.45l-7.72 7.72c-.78.78-.78 2.05 0 2.83L4 21.41c.39.39.9.59 1.41.59.51 0 1.02-.2 1.41-.59l7.78-7.78 2.81-2.81c.8-.78.8-2.07 0-2.86zM5.41 20L4 18.59l7.72-7.72 1.47 1.35L5.41 20z\"/>\n",
              "  </svg>\n",
              "      </button>\n",
              "      \n",
              "  <style>\n",
              "    .colab-df-container {\n",
              "      display:flex;\n",
              "      flex-wrap:wrap;\n",
              "      gap: 12px;\n",
              "    }\n",
              "\n",
              "    .colab-df-convert {\n",
              "      background-color: #E8F0FE;\n",
              "      border: none;\n",
              "      border-radius: 50%;\n",
              "      cursor: pointer;\n",
              "      display: none;\n",
              "      fill: #1967D2;\n",
              "      height: 32px;\n",
              "      padding: 0 0 0 0;\n",
              "      width: 32px;\n",
              "    }\n",
              "\n",
              "    .colab-df-convert:hover {\n",
              "      background-color: #E2EBFA;\n",
              "      box-shadow: 0px 1px 2px rgba(60, 64, 67, 0.3), 0px 1px 3px 1px rgba(60, 64, 67, 0.15);\n",
              "      fill: #174EA6;\n",
              "    }\n",
              "\n",
              "    [theme=dark] .colab-df-convert {\n",
              "      background-color: #3B4455;\n",
              "      fill: #D2E3FC;\n",
              "    }\n",
              "\n",
              "    [theme=dark] .colab-df-convert:hover {\n",
              "      background-color: #434B5C;\n",
              "      box-shadow: 0px 1px 3px 1px rgba(0, 0, 0, 0.15);\n",
              "      filter: drop-shadow(0px 1px 2px rgba(0, 0, 0, 0.3));\n",
              "      fill: #FFFFFF;\n",
              "    }\n",
              "  </style>\n",
              "\n",
              "      <script>\n",
              "        const buttonEl =\n",
              "          document.querySelector('#df-252b9664-e25a-4c6c-bcba-50f30f4c2d81 button.colab-df-convert');\n",
              "        buttonEl.style.display =\n",
              "          google.colab.kernel.accessAllowed ? 'block' : 'none';\n",
              "\n",
              "        async function convertToInteractive(key) {\n",
              "          const element = document.querySelector('#df-252b9664-e25a-4c6c-bcba-50f30f4c2d81');\n",
              "          const dataTable =\n",
              "            await google.colab.kernel.invokeFunction('convertToInteractive',\n",
              "                                                     [key], {});\n",
              "          if (!dataTable) return;\n",
              "\n",
              "          const docLinkHtml = 'Like what you see? Visit the ' +\n",
              "            '<a target=\"_blank\" href=https://colab.research.google.com/notebooks/data_table.ipynb>data table notebook</a>'\n",
              "            + ' to learn more about interactive tables.';\n",
              "          element.innerHTML = '';\n",
              "          dataTable['output_type'] = 'display_data';\n",
              "          await google.colab.output.renderOutput(dataTable, element);\n",
              "          const docLink = document.createElement('div');\n",
              "          docLink.innerHTML = docLinkHtml;\n",
              "          element.appendChild(docLink);\n",
              "        }\n",
              "      </script>\n",
              "    </div>\n",
              "  </div>\n",
              "  "
            ]
          },
          "metadata": {},
          "execution_count": 36
        }
      ]
    },
    {
      "cell_type": "code",
      "source": [
        ""
      ],
      "metadata": {
        "id": "5W8hCEgh9miK"
      },
      "execution_count": null,
      "outputs": []
    },
    {
      "cell_type": "code",
      "source": [
        "fig = px.sunburst(agents_stay_age_income, path=['Stay or leave','Age group','Income category'])"
      ],
      "metadata": {
        "id": "8Jf8ojBc7-vz"
      },
      "execution_count": null,
      "outputs": []
    },
    {
      "cell_type": "code",
      "source": [
        "fig"
      ],
      "metadata": {
        "colab": {
          "base_uri": "https://localhost:8080/",
          "height": 542
        },
        "id": "4grwKuH3uOzJ",
        "outputId": "891d68cc-f73c-4af3-94f1-0ee5c6033eed"
      },
      "execution_count": null,
      "outputs": [
        {
          "output_type": "display_data",
          "data": {
            "text/html": [
              "<html>\n",
              "<head><meta charset=\"utf-8\" /></head>\n",
              "<body>\n",
              "    <div>            <script src=\"https://cdnjs.cloudflare.com/ajax/libs/mathjax/2.7.5/MathJax.js?config=TeX-AMS-MML_SVG\"></script><script type=\"text/javascript\">if (window.MathJax) {MathJax.Hub.Config({SVG: {font: \"STIX-Web\"}});}</script>                <script type=\"text/javascript\">window.PlotlyConfig = {MathJaxConfig: 'local'};</script>\n",
              "        <script src=\"https://cdn.plot.ly/plotly-2.8.3.min.js\"></script>                <div id=\"6e3ffa8a-b9a0-4bf8-8cbf-e29aa29f48c0\" class=\"plotly-graph-div\" style=\"height:525px; width:100%;\"></div>            <script type=\"text/javascript\">                                    window.PLOTLYENV=window.PLOTLYENV || {};                                    if (document.getElementById(\"6e3ffa8a-b9a0-4bf8-8cbf-e29aa29f48c0\")) {                    Plotly.newPlot(                        \"6e3ffa8a-b9a0-4bf8-8cbf-e29aa29f48c0\",                        [{\"branchvalues\":\"total\",\"domain\":{\"x\":[0.0,1.0],\"y\":[0.0,1.0]},\"hovertemplate\":\"labels=%{label}<br>count=%{value}<br>parent=%{parent}<br>id=%{id}<extra></extra>\",\"ids\":[\"New Comers/18-44/Low\",\"stay/18-44/Low\",\"New Comers/45-64/Low\",\"stay/45-64/Low\",\"New Comers/65-84/Low\",\"stay/65-84/Low\",\"New Comers/85+/Low\",\"stay/85+/Low\",\"New Comers/18-44/Medium\",\"stay/18-44/Medium\",\"New Comers/45-64/Medium\",\"stay/45-64/Medium\",\"New Comers/65-84/Medium\",\"stay/65-84/Medium\",\"New Comers/85+/Medium\",\"stay/85+/Medium\",\"New Comers/18-44/High\",\"stay/18-44/High\",\"New Comers/45-64/High\",\"stay/45-64/High\",\"New Comers/65-84/High\",\"stay/65-84/High\",\"New Comers/85+/High\",\"stay/85+/High\",\"New Comers/18-44\",\"stay/18-44\",\"New Comers/45-64\",\"stay/45-64\",\"New Comers/65-84\",\"stay/65-84\",\"New Comers/85+\",\"stay/85+\",\"New Comers\",\"stay\"],\"labels\":[\"Low\",\"Low\",\"Low\",\"Low\",\"Low\",\"Low\",\"Low\",\"Low\",\"Medium\",\"Medium\",\"Medium\",\"Medium\",\"Medium\",\"Medium\",\"Medium\",\"Medium\",\"High\",\"High\",\"High\",\"High\",\"High\",\"High\",\"High\",\"High\",\"18-44\",\"18-44\",\"45-64\",\"45-64\",\"65-84\",\"65-84\",\"85+\",\"85+\",\"New Comers\",\"stay\"],\"name\":\"\",\"parents\":[\"New Comers/18-44\",\"stay/18-44\",\"New Comers/45-64\",\"stay/45-64\",\"New Comers/65-84\",\"stay/65-84\",\"New Comers/85+\",\"stay/85+\",\"New Comers/18-44\",\"stay/18-44\",\"New Comers/45-64\",\"stay/45-64\",\"New Comers/65-84\",\"stay/65-84\",\"New Comers/85+\",\"stay/85+\",\"New Comers/18-44\",\"stay/18-44\",\"New Comers/45-64\",\"stay/45-64\",\"New Comers/65-84\",\"stay/65-84\",\"New Comers/85+\",\"stay/85+\",\"New Comers\",\"stay\",\"New Comers\",\"stay\",\"New Comers\",\"stay\",\"New Comers\",\"stay\",\"\",\"\"],\"values\":[0,5,0,8,0,4,0,0,79,28,67,54,79,22,19,2,509,0,549,0,374,0,127,0,588,33,616,62,453,26,146,2,1803,123],\"type\":\"sunburst\"}],                        {\"template\":{\"data\":{\"bar\":[{\"error_x\":{\"color\":\"#2a3f5f\"},\"error_y\":{\"color\":\"#2a3f5f\"},\"marker\":{\"line\":{\"color\":\"#E5ECF6\",\"width\":0.5},\"pattern\":{\"fillmode\":\"overlay\",\"size\":10,\"solidity\":0.2}},\"type\":\"bar\"}],\"barpolar\":[{\"marker\":{\"line\":{\"color\":\"#E5ECF6\",\"width\":0.5},\"pattern\":{\"fillmode\":\"overlay\",\"size\":10,\"solidity\":0.2}},\"type\":\"barpolar\"}],\"carpet\":[{\"aaxis\":{\"endlinecolor\":\"#2a3f5f\",\"gridcolor\":\"white\",\"linecolor\":\"white\",\"minorgridcolor\":\"white\",\"startlinecolor\":\"#2a3f5f\"},\"baxis\":{\"endlinecolor\":\"#2a3f5f\",\"gridcolor\":\"white\",\"linecolor\":\"white\",\"minorgridcolor\":\"white\",\"startlinecolor\":\"#2a3f5f\"},\"type\":\"carpet\"}],\"choropleth\":[{\"colorbar\":{\"outlinewidth\":0,\"ticks\":\"\"},\"type\":\"choropleth\"}],\"contour\":[{\"colorbar\":{\"outlinewidth\":0,\"ticks\":\"\"},\"colorscale\":[[0.0,\"#0d0887\"],[0.1111111111111111,\"#46039f\"],[0.2222222222222222,\"#7201a8\"],[0.3333333333333333,\"#9c179e\"],[0.4444444444444444,\"#bd3786\"],[0.5555555555555556,\"#d8576b\"],[0.6666666666666666,\"#ed7953\"],[0.7777777777777778,\"#fb9f3a\"],[0.8888888888888888,\"#fdca26\"],[1.0,\"#f0f921\"]],\"type\":\"contour\"}],\"contourcarpet\":[{\"colorbar\":{\"outlinewidth\":0,\"ticks\":\"\"},\"type\":\"contourcarpet\"}],\"heatmap\":[{\"colorbar\":{\"outlinewidth\":0,\"ticks\":\"\"},\"colorscale\":[[0.0,\"#0d0887\"],[0.1111111111111111,\"#46039f\"],[0.2222222222222222,\"#7201a8\"],[0.3333333333333333,\"#9c179e\"],[0.4444444444444444,\"#bd3786\"],[0.5555555555555556,\"#d8576b\"],[0.6666666666666666,\"#ed7953\"],[0.7777777777777778,\"#fb9f3a\"],[0.8888888888888888,\"#fdca26\"],[1.0,\"#f0f921\"]],\"type\":\"heatmap\"}],\"heatmapgl\":[{\"colorbar\":{\"outlinewidth\":0,\"ticks\":\"\"},\"colorscale\":[[0.0,\"#0d0887\"],[0.1111111111111111,\"#46039f\"],[0.2222222222222222,\"#7201a8\"],[0.3333333333333333,\"#9c179e\"],[0.4444444444444444,\"#bd3786\"],[0.5555555555555556,\"#d8576b\"],[0.6666666666666666,\"#ed7953\"],[0.7777777777777778,\"#fb9f3a\"],[0.8888888888888888,\"#fdca26\"],[1.0,\"#f0f921\"]],\"type\":\"heatmapgl\"}],\"histogram\":[{\"marker\":{\"pattern\":{\"fillmode\":\"overlay\",\"size\":10,\"solidity\":0.2}},\"type\":\"histogram\"}],\"histogram2d\":[{\"colorbar\":{\"outlinewidth\":0,\"ticks\":\"\"},\"colorscale\":[[0.0,\"#0d0887\"],[0.1111111111111111,\"#46039f\"],[0.2222222222222222,\"#7201a8\"],[0.3333333333333333,\"#9c179e\"],[0.4444444444444444,\"#bd3786\"],[0.5555555555555556,\"#d8576b\"],[0.6666666666666666,\"#ed7953\"],[0.7777777777777778,\"#fb9f3a\"],[0.8888888888888888,\"#fdca26\"],[1.0,\"#f0f921\"]],\"type\":\"histogram2d\"}],\"histogram2dcontour\":[{\"colorbar\":{\"outlinewidth\":0,\"ticks\":\"\"},\"colorscale\":[[0.0,\"#0d0887\"],[0.1111111111111111,\"#46039f\"],[0.2222222222222222,\"#7201a8\"],[0.3333333333333333,\"#9c179e\"],[0.4444444444444444,\"#bd3786\"],[0.5555555555555556,\"#d8576b\"],[0.6666666666666666,\"#ed7953\"],[0.7777777777777778,\"#fb9f3a\"],[0.8888888888888888,\"#fdca26\"],[1.0,\"#f0f921\"]],\"type\":\"histogram2dcontour\"}],\"mesh3d\":[{\"colorbar\":{\"outlinewidth\":0,\"ticks\":\"\"},\"type\":\"mesh3d\"}],\"parcoords\":[{\"line\":{\"colorbar\":{\"outlinewidth\":0,\"ticks\":\"\"}},\"type\":\"parcoords\"}],\"pie\":[{\"automargin\":true,\"type\":\"pie\"}],\"scatter\":[{\"marker\":{\"colorbar\":{\"outlinewidth\":0,\"ticks\":\"\"}},\"type\":\"scatter\"}],\"scatter3d\":[{\"line\":{\"colorbar\":{\"outlinewidth\":0,\"ticks\":\"\"}},\"marker\":{\"colorbar\":{\"outlinewidth\":0,\"ticks\":\"\"}},\"type\":\"scatter3d\"}],\"scattercarpet\":[{\"marker\":{\"colorbar\":{\"outlinewidth\":0,\"ticks\":\"\"}},\"type\":\"scattercarpet\"}],\"scattergeo\":[{\"marker\":{\"colorbar\":{\"outlinewidth\":0,\"ticks\":\"\"}},\"type\":\"scattergeo\"}],\"scattergl\":[{\"marker\":{\"colorbar\":{\"outlinewidth\":0,\"ticks\":\"\"}},\"type\":\"scattergl\"}],\"scattermapbox\":[{\"marker\":{\"colorbar\":{\"outlinewidth\":0,\"ticks\":\"\"}},\"type\":\"scattermapbox\"}],\"scatterpolar\":[{\"marker\":{\"colorbar\":{\"outlinewidth\":0,\"ticks\":\"\"}},\"type\":\"scatterpolar\"}],\"scatterpolargl\":[{\"marker\":{\"colorbar\":{\"outlinewidth\":0,\"ticks\":\"\"}},\"type\":\"scatterpolargl\"}],\"scatterternary\":[{\"marker\":{\"colorbar\":{\"outlinewidth\":0,\"ticks\":\"\"}},\"type\":\"scatterternary\"}],\"surface\":[{\"colorbar\":{\"outlinewidth\":0,\"ticks\":\"\"},\"colorscale\":[[0.0,\"#0d0887\"],[0.1111111111111111,\"#46039f\"],[0.2222222222222222,\"#7201a8\"],[0.3333333333333333,\"#9c179e\"],[0.4444444444444444,\"#bd3786\"],[0.5555555555555556,\"#d8576b\"],[0.6666666666666666,\"#ed7953\"],[0.7777777777777778,\"#fb9f3a\"],[0.8888888888888888,\"#fdca26\"],[1.0,\"#f0f921\"]],\"type\":\"surface\"}],\"table\":[{\"cells\":{\"fill\":{\"color\":\"#EBF0F8\"},\"line\":{\"color\":\"white\"}},\"header\":{\"fill\":{\"color\":\"#C8D4E3\"},\"line\":{\"color\":\"white\"}},\"type\":\"table\"}]},\"layout\":{\"annotationdefaults\":{\"arrowcolor\":\"#2a3f5f\",\"arrowhead\":0,\"arrowwidth\":1},\"autotypenumbers\":\"strict\",\"coloraxis\":{\"colorbar\":{\"outlinewidth\":0,\"ticks\":\"\"}},\"colorscale\":{\"diverging\":[[0,\"#8e0152\"],[0.1,\"#c51b7d\"],[0.2,\"#de77ae\"],[0.3,\"#f1b6da\"],[0.4,\"#fde0ef\"],[0.5,\"#f7f7f7\"],[0.6,\"#e6f5d0\"],[0.7,\"#b8e186\"],[0.8,\"#7fbc41\"],[0.9,\"#4d9221\"],[1,\"#276419\"]],\"sequential\":[[0.0,\"#0d0887\"],[0.1111111111111111,\"#46039f\"],[0.2222222222222222,\"#7201a8\"],[0.3333333333333333,\"#9c179e\"],[0.4444444444444444,\"#bd3786\"],[0.5555555555555556,\"#d8576b\"],[0.6666666666666666,\"#ed7953\"],[0.7777777777777778,\"#fb9f3a\"],[0.8888888888888888,\"#fdca26\"],[1.0,\"#f0f921\"]],\"sequentialminus\":[[0.0,\"#0d0887\"],[0.1111111111111111,\"#46039f\"],[0.2222222222222222,\"#7201a8\"],[0.3333333333333333,\"#9c179e\"],[0.4444444444444444,\"#bd3786\"],[0.5555555555555556,\"#d8576b\"],[0.6666666666666666,\"#ed7953\"],[0.7777777777777778,\"#fb9f3a\"],[0.8888888888888888,\"#fdca26\"],[1.0,\"#f0f921\"]]},\"colorway\":[\"#636efa\",\"#EF553B\",\"#00cc96\",\"#ab63fa\",\"#FFA15A\",\"#19d3f3\",\"#FF6692\",\"#B6E880\",\"#FF97FF\",\"#FECB52\"],\"font\":{\"color\":\"#2a3f5f\"},\"geo\":{\"bgcolor\":\"white\",\"lakecolor\":\"white\",\"landcolor\":\"#E5ECF6\",\"showlakes\":true,\"showland\":true,\"subunitcolor\":\"white\"},\"hoverlabel\":{\"align\":\"left\"},\"hovermode\":\"closest\",\"mapbox\":{\"style\":\"light\"},\"paper_bgcolor\":\"white\",\"plot_bgcolor\":\"#E5ECF6\",\"polar\":{\"angularaxis\":{\"gridcolor\":\"white\",\"linecolor\":\"white\",\"ticks\":\"\"},\"bgcolor\":\"#E5ECF6\",\"radialaxis\":{\"gridcolor\":\"white\",\"linecolor\":\"white\",\"ticks\":\"\"}},\"scene\":{\"xaxis\":{\"backgroundcolor\":\"#E5ECF6\",\"gridcolor\":\"white\",\"gridwidth\":2,\"linecolor\":\"white\",\"showbackground\":true,\"ticks\":\"\",\"zerolinecolor\":\"white\"},\"yaxis\":{\"backgroundcolor\":\"#E5ECF6\",\"gridcolor\":\"white\",\"gridwidth\":2,\"linecolor\":\"white\",\"showbackground\":true,\"ticks\":\"\",\"zerolinecolor\":\"white\"},\"zaxis\":{\"backgroundcolor\":\"#E5ECF6\",\"gridcolor\":\"white\",\"gridwidth\":2,\"linecolor\":\"white\",\"showbackground\":true,\"ticks\":\"\",\"zerolinecolor\":\"white\"}},\"shapedefaults\":{\"line\":{\"color\":\"#2a3f5f\"}},\"ternary\":{\"aaxis\":{\"gridcolor\":\"white\",\"linecolor\":\"white\",\"ticks\":\"\"},\"baxis\":{\"gridcolor\":\"white\",\"linecolor\":\"white\",\"ticks\":\"\"},\"bgcolor\":\"#E5ECF6\",\"caxis\":{\"gridcolor\":\"white\",\"linecolor\":\"white\",\"ticks\":\"\"}},\"title\":{\"x\":0.05},\"xaxis\":{\"automargin\":true,\"gridcolor\":\"white\",\"linecolor\":\"white\",\"ticks\":\"\",\"title\":{\"standoff\":15},\"zerolinecolor\":\"white\",\"zerolinewidth\":2},\"yaxis\":{\"automargin\":true,\"gridcolor\":\"white\",\"linecolor\":\"white\",\"ticks\":\"\",\"title\":{\"standoff\":15},\"zerolinecolor\":\"white\",\"zerolinewidth\":2}}},\"legend\":{\"tracegroupgap\":0},\"margin\":{\"t\":60}},                        {\"responsive\": true}                    ).then(function(){\n",
              "                            \n",
              "var gd = document.getElementById('6e3ffa8a-b9a0-4bf8-8cbf-e29aa29f48c0');\n",
              "var x = new MutationObserver(function (mutations, observer) {{\n",
              "        var display = window.getComputedStyle(gd).display;\n",
              "        if (!display || display === 'none') {{\n",
              "            console.log([gd, 'removed!']);\n",
              "            Plotly.purge(gd);\n",
              "            observer.disconnect();\n",
              "        }}\n",
              "}});\n",
              "\n",
              "// Listen for the removal of the full notebook cells\n",
              "var notebookContainer = gd.closest('#notebook-container');\n",
              "if (notebookContainer) {{\n",
              "    x.observe(notebookContainer, {childList: true});\n",
              "}}\n",
              "\n",
              "// Listen for the clearing of the current output cell\n",
              "var outputEl = gd.closest('.output');\n",
              "if (outputEl) {{\n",
              "    x.observe(outputEl, {childList: true});\n",
              "}}\n",
              "\n",
              "                        })                };                            </script>        </div>\n",
              "</body>\n",
              "</html>"
            ]
          },
          "metadata": {}
        }
      ]
    },
    {
      "cell_type": "code",
      "source": [
        "#https://github.com/Shai2u/demographic_estimation_dashboard_article/blob/main/assets/color_labels.xlsx\n",
        "color_labels = pd.read_excel(\n",
        "    'https://raw.githubusercontent.com/Shai2u/demographic_estimation_dashboard_article/main/assets/color_labels.xlsx')\n",
        "colorDict = dict(zip(color_labels['label'], color_labels['colors_']))\n"
      ],
      "metadata": {
        "id": "kJcECM8BxCWb"
      },
      "execution_count": null,
      "outputs": []
    },
    {
      "cell_type": "code",
      "source": [
        "colorDict"
      ],
      "metadata": {
        "colab": {
          "base_uri": "https://localhost:8080/"
        },
        "id": "5ygnPKA2vLzt",
        "outputId": "4541b0cf-5655-40ec-f361-95889337f885"
      },
      "execution_count": null,
      "outputs": [
        {
          "output_type": "execute_result",
          "data": {
            "text/plain": [
              "{'18-44': 'hsv(205,80%,80%)',\n",
              " '45-64': 'hsv(205,60%,90%)',\n",
              " '65-84': 'hsv(205,30%,90%)',\n",
              " '85+': 'hsv(205,10%,90%)',\n",
              " 'High': 'hsv(350,90%,75%)',\n",
              " 'Low': 'hsv(350,25%,100%)',\n",
              " 'Medium': 'hsv(350,50%,95%)',\n",
              " 'New Comers': 'hsv(210,90%,50%)',\n",
              " 'stay': 'hsv(350,90%,50%)'}"
            ]
          },
          "metadata": {},
          "execution_count": 40
        }
      ]
    },
    {
      "cell_type": "code",
      "source": [
        ""
      ],
      "metadata": {
        "id": "JMFAEYPdvNnw"
      },
      "execution_count": null,
      "outputs": []
    },
    {
      "cell_type": "code",
      "source": [
        "d"
      ],
      "metadata": {
        "colab": {
          "base_uri": "https://localhost:8080/"
        },
        "id": "T0IghiTxw9fh",
        "outputId": "e94ba00d-ca2a-41f0-af17-227d6418f899"
      },
      "execution_count": null,
      "outputs": [
        {
          "output_type": "execute_result",
          "data": {
            "text/plain": [
              "Timestamp('2030-07-01 00:00:00')"
            ]
          },
          "metadata": {},
          "execution_count": 41
        }
      ]
    },
    {
      "cell_type": "code",
      "source": [
        "labels_text = fig.data[0].labels.tolist()"
      ],
      "metadata": {
        "id": "mF98MU9o4k9B"
      },
      "execution_count": null,
      "outputs": []
    },
    {
      "cell_type": "code",
      "source": [
        "labels_text"
      ],
      "metadata": {
        "colab": {
          "base_uri": "https://localhost:8080/"
        },
        "id": "J38HJNUfuq6P",
        "outputId": "4d8476bf-4a90-4352-a1aa-2193e2e85bc9"
      },
      "execution_count": null,
      "outputs": [
        {
          "output_type": "execute_result",
          "data": {
            "text/plain": [
              "['Low',\n",
              " 'Low',\n",
              " 'Low',\n",
              " 'Low',\n",
              " 'Low',\n",
              " 'Low',\n",
              " 'Low',\n",
              " 'Low',\n",
              " 'Medium',\n",
              " 'Medium',\n",
              " 'Medium',\n",
              " 'Medium',\n",
              " 'Medium',\n",
              " 'Medium',\n",
              " 'Medium',\n",
              " 'Medium',\n",
              " 'High',\n",
              " 'High',\n",
              " 'High',\n",
              " 'High',\n",
              " 'High',\n",
              " 'High',\n",
              " 'High',\n",
              " 'High',\n",
              " '18-44',\n",
              " '18-44',\n",
              " '45-64',\n",
              " '45-64',\n",
              " '65-84',\n",
              " '65-84',\n",
              " '85+',\n",
              " '85+',\n",
              " 'New Comers',\n",
              " 'stay']"
            ]
          },
          "metadata": {},
          "execution_count": 43
        }
      ]
    },
    {
      "cell_type": "code",
      "source": [
        "fig.data[0].marker.colors"
      ],
      "metadata": {
        "id": "ox90WNTjurrm"
      },
      "execution_count": null,
      "outputs": []
    },
    {
      "cell_type": "code",
      "source": [
        ""
      ],
      "metadata": {
        "id": "Z0QyL1Yv4KUC"
      },
      "execution_count": null,
      "outputs": []
    },
    {
      "cell_type": "code",
      "source": [
        ""
      ],
      "metadata": {
        "id": "PRDh9erC4Ntj"
      },
      "execution_count": null,
      "outputs": []
    },
    {
      "cell_type": "code",
      "source": [
        ""
      ],
      "metadata": {
        "id": "9cZ99yGxwnLi"
      },
      "execution_count": null,
      "outputs": []
    },
    {
      "cell_type": "markdown",
      "source": [
        "# Sunburst"
      ],
      "metadata": {
        "id": "da0Shpfat0LA"
      }
    },
    {
      "cell_type": "code",
      "source": [
        "    def sunburst_graph(r, year_, color_field='raw age', colorDict_=colorDict, group_color_dict=group_color_dict):\n",
        "        title_ = f'{year_} : Market Vs Affordable Units Age/Income in WIRE'\n",
        "        # color_discrete_map = color_group_map_\n",
        "        colors_ = group_color_dict['colors_age'].unique().tolist()\n",
        "        fig = px.sunburst(r, path=['ap_class', 'Age Group', 'Income'],\n",
        "                          color=color_field, color_continuous_scale=colors_, title=title_,)\n",
        "\n",
        "        labels_text = fig.data[0].labels.tolist()\n",
        "        colorLabels = tuple(colorDict_[item] for item in labels_text)\n",
        "        fig.data[0].marker.colors = colorLabels\n",
        "        fig.update_traces(textinfo=\"label+percent entry\")\n",
        "        fig.update_layout(showlegend=False, margin=dict(l=50, r=50, t=100, b=50), legend=dict(\n",
        "            yanchor=\"top\", y=1, xanchor=\"left\", x=1, orientation=\"h\"), width=sim_plot.cont_width, height=sim_plot.tl_height+50,font=dict(size=sim_plot.textSize_))\n",
        "        return fig"
      ],
      "metadata": {
        "colab": {
          "base_uri": "https://localhost:8080/",
          "height": 252
        },
        "id": "tayqzACvq7vN",
        "outputId": "a4aaca7b-80c7-45b1-e62c-0202bdf1af88"
      },
      "execution_count": null,
      "outputs": [
        {
          "output_type": "error",
          "ename": "NameError",
          "evalue": "ignored",
          "traceback": [
            "\u001b[0;31m---------------------------------------------------------------------------\u001b[0m",
            "\u001b[0;31mNameError\u001b[0m                                 Traceback (most recent call last)",
            "\u001b[0;32m<ipython-input-45-2adb31e2ba2a>\u001b[0m in \u001b[0;36m<module>\u001b[0;34m()\u001b[0m\n\u001b[0;32m----> 1\u001b[0;31m \u001b[0;32mdef\u001b[0m \u001b[0msunburst_graph\u001b[0m\u001b[0;34m(\u001b[0m\u001b[0mr\u001b[0m\u001b[0;34m,\u001b[0m \u001b[0myear_\u001b[0m\u001b[0;34m,\u001b[0m \u001b[0mcolor_field\u001b[0m\u001b[0;34m=\u001b[0m\u001b[0;34m'raw age'\u001b[0m\u001b[0;34m,\u001b[0m \u001b[0mcolorDict_\u001b[0m\u001b[0;34m=\u001b[0m\u001b[0mcolorDict\u001b[0m\u001b[0;34m,\u001b[0m \u001b[0mgroup_color_dict\u001b[0m\u001b[0;34m=\u001b[0m\u001b[0mgroup_color_dict\u001b[0m\u001b[0;34m)\u001b[0m\u001b[0;34m:\u001b[0m\u001b[0;34m\u001b[0m\u001b[0;34m\u001b[0m\u001b[0m\n\u001b[0m\u001b[1;32m      2\u001b[0m     \u001b[0mtitle_\u001b[0m \u001b[0;34m=\u001b[0m \u001b[0;34mf'{year_} : Market Vs Affordable Units Age/Income in WIRE'\u001b[0m\u001b[0;34m\u001b[0m\u001b[0;34m\u001b[0m\u001b[0m\n\u001b[1;32m      3\u001b[0m     \u001b[0;31m# color_discrete_map = color_group_map_\u001b[0m\u001b[0;34m\u001b[0m\u001b[0;34m\u001b[0m\u001b[0;34m\u001b[0m\u001b[0m\n\u001b[1;32m      4\u001b[0m     \u001b[0mcolors_\u001b[0m \u001b[0;34m=\u001b[0m \u001b[0mgroup_color_dict\u001b[0m\u001b[0;34m[\u001b[0m\u001b[0;34m'colors_age'\u001b[0m\u001b[0;34m]\u001b[0m\u001b[0;34m.\u001b[0m\u001b[0munique\u001b[0m\u001b[0;34m(\u001b[0m\u001b[0;34m)\u001b[0m\u001b[0;34m.\u001b[0m\u001b[0mtolist\u001b[0m\u001b[0;34m(\u001b[0m\u001b[0;34m)\u001b[0m\u001b[0;34m\u001b[0m\u001b[0;34m\u001b[0m\u001b[0m\n\u001b[1;32m      5\u001b[0m     fig = px.sunburst(r, path=['ap_class', 'Age Group', 'Income'],\n",
            "\u001b[0;31mNameError\u001b[0m: name 'group_color_dict' is not defined"
          ]
        }
      ]
    },
    {
      "cell_type": "code",
      "source": [
        ""
      ],
      "metadata": {
        "id": "fyoOKfNsq9pF"
      },
      "execution_count": null,
      "outputs": []
    },
    {
      "cell_type": "markdown",
      "source": [
        "# Bubble Figure"
      ],
      "metadata": {
        "id": "yy5lwRSTgdaU"
      }
    },
    {
      "cell_type": "code",
      "source": [
        "    def bubbleAgeIncomeClass(r, year_, titleText_):\n",
        "        r2 = r.groupby(['ap_class', 'group_name', 'Age Group', 'Income']).agg(\n",
        "            {'raw age': 'count'}).reset_index().rename(columns={'raw age': 'count', 'ap_class': 'Ap Type'})\n",
        "\n",
        "        title_ = str(year_)+' '+titleText_ + ' Age/Income'\n",
        "\n",
        "        fig = px.scatter(r2, x=\"Age Group\", y=\"Income\",\n",
        "                         size=\"count\", color=\"group_name\", color_discrete_map=colorDictMerge, facet_col='Ap Type', title=title_, size_max=30,\n",
        "                         category_orders={\"Age Group\": [\"18-44\", \"45-64\", \"65-84\", \"85+\"],\n",
        "                                          \"Income\": ['Upper', 'Middle', 'Moderate', 'Low']}, template='ggplot2')\n",
        "        fig.update_layout(showlegend=False, margin=dict(l=50, r=50, t=100, b=50), width=sim_plot.cont_width, height=sim_plot.tl_height,font=dict(size=sim_plot.textSize_))\n",
        "\n",
        "        return fig"
      ],
      "metadata": {
        "id": "eHwE6cNEgeV8"
      },
      "execution_count": 21,
      "outputs": []
    },
    {
      "cell_type": "code",
      "source": [
        "fig = make_subplots(rows=1, cols=2,subplot_titles=(\"Reference Date\", \"Current Date\"))\n",
        "\n",
        "fig.add_trace(\n",
        "    go.Scatter(x=[1, 2, 3], y=[4, 5, 6], mode=\"markers\",name='Reference Date',marker=dict(size=20,color='green')),\n",
        "    row=1, col=1)\n",
        "\n",
        "fig.add_trace(\n",
        "    go.Scatter(x=[20, 30, 40], y=[50, 60, 70], mode=\"markers\",name='Current Date'),\n",
        "    row=1, col=2\n",
        ")\n",
        "\n",
        "\n",
        "fig.update_layout(height=600, width=800, title_text=\"Side By Side Subplots\", margin=dict(l=0, r=0, t=50, b=0),legend=dict(orientation=\"h\", yanchor=\"top\",y=0.99,xanchor=\"left\",x=0.01),template='plotly_white')\n",
        "fig.show()"
      ],
      "metadata": {
        "colab": {
          "base_uri": "https://localhost:8080/",
          "height": 617
        },
        "id": "QbeDO9U7h-IZ",
        "outputId": "5fd4f0e5-eb07-48a6-a6b2-76cebbd71301"
      },
      "execution_count": 23,
      "outputs": [
        {
          "output_type": "display_data",
          "data": {
            "text/html": [
              "<html>\n",
              "<head><meta charset=\"utf-8\" /></head>\n",
              "<body>\n",
              "    <div>            <script src=\"https://cdnjs.cloudflare.com/ajax/libs/mathjax/2.7.5/MathJax.js?config=TeX-AMS-MML_SVG\"></script><script type=\"text/javascript\">if (window.MathJax) {MathJax.Hub.Config({SVG: {font: \"STIX-Web\"}});}</script>                <script type=\"text/javascript\">window.PlotlyConfig = {MathJaxConfig: 'local'};</script>\n",
              "        <script src=\"https://cdn.plot.ly/plotly-2.8.3.min.js\"></script>                <div id=\"ae470ed0-691a-4491-a0c7-d3f53c32d774\" class=\"plotly-graph-div\" style=\"height:600px; width:800px;\"></div>            <script type=\"text/javascript\">                                    window.PLOTLYENV=window.PLOTLYENV || {};                                    if (document.getElementById(\"ae470ed0-691a-4491-a0c7-d3f53c32d774\")) {                    Plotly.newPlot(                        \"ae470ed0-691a-4491-a0c7-d3f53c32d774\",                        [{\"marker\":{\"color\":\"green\",\"size\":20},\"mode\":\"markers\",\"name\":\"Reference Date\",\"x\":[1,2,3],\"y\":[4,5,6],\"type\":\"scatter\",\"xaxis\":\"x\",\"yaxis\":\"y\"},{\"mode\":\"markers\",\"name\":\"Current Date\",\"x\":[20,30,40],\"y\":[50,60,70],\"type\":\"scatter\",\"xaxis\":\"x2\",\"yaxis\":\"y2\"}],                        {\"template\":{\"data\":{\"barpolar\":[{\"marker\":{\"line\":{\"color\":\"white\",\"width\":0.5},\"pattern\":{\"fillmode\":\"overlay\",\"size\":10,\"solidity\":0.2}},\"type\":\"barpolar\"}],\"bar\":[{\"error_x\":{\"color\":\"#2a3f5f\"},\"error_y\":{\"color\":\"#2a3f5f\"},\"marker\":{\"line\":{\"color\":\"white\",\"width\":0.5},\"pattern\":{\"fillmode\":\"overlay\",\"size\":10,\"solidity\":0.2}},\"type\":\"bar\"}],\"carpet\":[{\"aaxis\":{\"endlinecolor\":\"#2a3f5f\",\"gridcolor\":\"#C8D4E3\",\"linecolor\":\"#C8D4E3\",\"minorgridcolor\":\"#C8D4E3\",\"startlinecolor\":\"#2a3f5f\"},\"baxis\":{\"endlinecolor\":\"#2a3f5f\",\"gridcolor\":\"#C8D4E3\",\"linecolor\":\"#C8D4E3\",\"minorgridcolor\":\"#C8D4E3\",\"startlinecolor\":\"#2a3f5f\"},\"type\":\"carpet\"}],\"choropleth\":[{\"colorbar\":{\"outlinewidth\":0,\"ticks\":\"\"},\"type\":\"choropleth\"}],\"contourcarpet\":[{\"colorbar\":{\"outlinewidth\":0,\"ticks\":\"\"},\"type\":\"contourcarpet\"}],\"contour\":[{\"colorbar\":{\"outlinewidth\":0,\"ticks\":\"\"},\"colorscale\":[[0.0,\"#0d0887\"],[0.1111111111111111,\"#46039f\"],[0.2222222222222222,\"#7201a8\"],[0.3333333333333333,\"#9c179e\"],[0.4444444444444444,\"#bd3786\"],[0.5555555555555556,\"#d8576b\"],[0.6666666666666666,\"#ed7953\"],[0.7777777777777778,\"#fb9f3a\"],[0.8888888888888888,\"#fdca26\"],[1.0,\"#f0f921\"]],\"type\":\"contour\"}],\"heatmapgl\":[{\"colorbar\":{\"outlinewidth\":0,\"ticks\":\"\"},\"colorscale\":[[0.0,\"#0d0887\"],[0.1111111111111111,\"#46039f\"],[0.2222222222222222,\"#7201a8\"],[0.3333333333333333,\"#9c179e\"],[0.4444444444444444,\"#bd3786\"],[0.5555555555555556,\"#d8576b\"],[0.6666666666666666,\"#ed7953\"],[0.7777777777777778,\"#fb9f3a\"],[0.8888888888888888,\"#fdca26\"],[1.0,\"#f0f921\"]],\"type\":\"heatmapgl\"}],\"heatmap\":[{\"colorbar\":{\"outlinewidth\":0,\"ticks\":\"\"},\"colorscale\":[[0.0,\"#0d0887\"],[0.1111111111111111,\"#46039f\"],[0.2222222222222222,\"#7201a8\"],[0.3333333333333333,\"#9c179e\"],[0.4444444444444444,\"#bd3786\"],[0.5555555555555556,\"#d8576b\"],[0.6666666666666666,\"#ed7953\"],[0.7777777777777778,\"#fb9f3a\"],[0.8888888888888888,\"#fdca26\"],[1.0,\"#f0f921\"]],\"type\":\"heatmap\"}],\"histogram2dcontour\":[{\"colorbar\":{\"outlinewidth\":0,\"ticks\":\"\"},\"colorscale\":[[0.0,\"#0d0887\"],[0.1111111111111111,\"#46039f\"],[0.2222222222222222,\"#7201a8\"],[0.3333333333333333,\"#9c179e\"],[0.4444444444444444,\"#bd3786\"],[0.5555555555555556,\"#d8576b\"],[0.6666666666666666,\"#ed7953\"],[0.7777777777777778,\"#fb9f3a\"],[0.8888888888888888,\"#fdca26\"],[1.0,\"#f0f921\"]],\"type\":\"histogram2dcontour\"}],\"histogram2d\":[{\"colorbar\":{\"outlinewidth\":0,\"ticks\":\"\"},\"colorscale\":[[0.0,\"#0d0887\"],[0.1111111111111111,\"#46039f\"],[0.2222222222222222,\"#7201a8\"],[0.3333333333333333,\"#9c179e\"],[0.4444444444444444,\"#bd3786\"],[0.5555555555555556,\"#d8576b\"],[0.6666666666666666,\"#ed7953\"],[0.7777777777777778,\"#fb9f3a\"],[0.8888888888888888,\"#fdca26\"],[1.0,\"#f0f921\"]],\"type\":\"histogram2d\"}],\"histogram\":[{\"marker\":{\"pattern\":{\"fillmode\":\"overlay\",\"size\":10,\"solidity\":0.2}},\"type\":\"histogram\"}],\"mesh3d\":[{\"colorbar\":{\"outlinewidth\":0,\"ticks\":\"\"},\"type\":\"mesh3d\"}],\"parcoords\":[{\"line\":{\"colorbar\":{\"outlinewidth\":0,\"ticks\":\"\"}},\"type\":\"parcoords\"}],\"pie\":[{\"automargin\":true,\"type\":\"pie\"}],\"scatter3d\":[{\"line\":{\"colorbar\":{\"outlinewidth\":0,\"ticks\":\"\"}},\"marker\":{\"colorbar\":{\"outlinewidth\":0,\"ticks\":\"\"}},\"type\":\"scatter3d\"}],\"scattercarpet\":[{\"marker\":{\"colorbar\":{\"outlinewidth\":0,\"ticks\":\"\"}},\"type\":\"scattercarpet\"}],\"scattergeo\":[{\"marker\":{\"colorbar\":{\"outlinewidth\":0,\"ticks\":\"\"}},\"type\":\"scattergeo\"}],\"scattergl\":[{\"marker\":{\"colorbar\":{\"outlinewidth\":0,\"ticks\":\"\"}},\"type\":\"scattergl\"}],\"scattermapbox\":[{\"marker\":{\"colorbar\":{\"outlinewidth\":0,\"ticks\":\"\"}},\"type\":\"scattermapbox\"}],\"scatterpolargl\":[{\"marker\":{\"colorbar\":{\"outlinewidth\":0,\"ticks\":\"\"}},\"type\":\"scatterpolargl\"}],\"scatterpolar\":[{\"marker\":{\"colorbar\":{\"outlinewidth\":0,\"ticks\":\"\"}},\"type\":\"scatterpolar\"}],\"scatter\":[{\"marker\":{\"colorbar\":{\"outlinewidth\":0,\"ticks\":\"\"}},\"type\":\"scatter\"}],\"scatterternary\":[{\"marker\":{\"colorbar\":{\"outlinewidth\":0,\"ticks\":\"\"}},\"type\":\"scatterternary\"}],\"surface\":[{\"colorbar\":{\"outlinewidth\":0,\"ticks\":\"\"},\"colorscale\":[[0.0,\"#0d0887\"],[0.1111111111111111,\"#46039f\"],[0.2222222222222222,\"#7201a8\"],[0.3333333333333333,\"#9c179e\"],[0.4444444444444444,\"#bd3786\"],[0.5555555555555556,\"#d8576b\"],[0.6666666666666666,\"#ed7953\"],[0.7777777777777778,\"#fb9f3a\"],[0.8888888888888888,\"#fdca26\"],[1.0,\"#f0f921\"]],\"type\":\"surface\"}],\"table\":[{\"cells\":{\"fill\":{\"color\":\"#EBF0F8\"},\"line\":{\"color\":\"white\"}},\"header\":{\"fill\":{\"color\":\"#C8D4E3\"},\"line\":{\"color\":\"white\"}},\"type\":\"table\"}]},\"layout\":{\"annotationdefaults\":{\"arrowcolor\":\"#2a3f5f\",\"arrowhead\":0,\"arrowwidth\":1},\"autotypenumbers\":\"strict\",\"coloraxis\":{\"colorbar\":{\"outlinewidth\":0,\"ticks\":\"\"}},\"colorscale\":{\"diverging\":[[0,\"#8e0152\"],[0.1,\"#c51b7d\"],[0.2,\"#de77ae\"],[0.3,\"#f1b6da\"],[0.4,\"#fde0ef\"],[0.5,\"#f7f7f7\"],[0.6,\"#e6f5d0\"],[0.7,\"#b8e186\"],[0.8,\"#7fbc41\"],[0.9,\"#4d9221\"],[1,\"#276419\"]],\"sequential\":[[0.0,\"#0d0887\"],[0.1111111111111111,\"#46039f\"],[0.2222222222222222,\"#7201a8\"],[0.3333333333333333,\"#9c179e\"],[0.4444444444444444,\"#bd3786\"],[0.5555555555555556,\"#d8576b\"],[0.6666666666666666,\"#ed7953\"],[0.7777777777777778,\"#fb9f3a\"],[0.8888888888888888,\"#fdca26\"],[1.0,\"#f0f921\"]],\"sequentialminus\":[[0.0,\"#0d0887\"],[0.1111111111111111,\"#46039f\"],[0.2222222222222222,\"#7201a8\"],[0.3333333333333333,\"#9c179e\"],[0.4444444444444444,\"#bd3786\"],[0.5555555555555556,\"#d8576b\"],[0.6666666666666666,\"#ed7953\"],[0.7777777777777778,\"#fb9f3a\"],[0.8888888888888888,\"#fdca26\"],[1.0,\"#f0f921\"]]},\"colorway\":[\"#636efa\",\"#EF553B\",\"#00cc96\",\"#ab63fa\",\"#FFA15A\",\"#19d3f3\",\"#FF6692\",\"#B6E880\",\"#FF97FF\",\"#FECB52\"],\"font\":{\"color\":\"#2a3f5f\"},\"geo\":{\"bgcolor\":\"white\",\"lakecolor\":\"white\",\"landcolor\":\"white\",\"showlakes\":true,\"showland\":true,\"subunitcolor\":\"#C8D4E3\"},\"hoverlabel\":{\"align\":\"left\"},\"hovermode\":\"closest\",\"mapbox\":{\"style\":\"light\"},\"paper_bgcolor\":\"white\",\"plot_bgcolor\":\"white\",\"polar\":{\"angularaxis\":{\"gridcolor\":\"#EBF0F8\",\"linecolor\":\"#EBF0F8\",\"ticks\":\"\"},\"bgcolor\":\"white\",\"radialaxis\":{\"gridcolor\":\"#EBF0F8\",\"linecolor\":\"#EBF0F8\",\"ticks\":\"\"}},\"scene\":{\"xaxis\":{\"backgroundcolor\":\"white\",\"gridcolor\":\"#DFE8F3\",\"gridwidth\":2,\"linecolor\":\"#EBF0F8\",\"showbackground\":true,\"ticks\":\"\",\"zerolinecolor\":\"#EBF0F8\"},\"yaxis\":{\"backgroundcolor\":\"white\",\"gridcolor\":\"#DFE8F3\",\"gridwidth\":2,\"linecolor\":\"#EBF0F8\",\"showbackground\":true,\"ticks\":\"\",\"zerolinecolor\":\"#EBF0F8\"},\"zaxis\":{\"backgroundcolor\":\"white\",\"gridcolor\":\"#DFE8F3\",\"gridwidth\":2,\"linecolor\":\"#EBF0F8\",\"showbackground\":true,\"ticks\":\"\",\"zerolinecolor\":\"#EBF0F8\"}},\"shapedefaults\":{\"line\":{\"color\":\"#2a3f5f\"}},\"ternary\":{\"aaxis\":{\"gridcolor\":\"#DFE8F3\",\"linecolor\":\"#A2B1C6\",\"ticks\":\"\"},\"baxis\":{\"gridcolor\":\"#DFE8F3\",\"linecolor\":\"#A2B1C6\",\"ticks\":\"\"},\"bgcolor\":\"white\",\"caxis\":{\"gridcolor\":\"#DFE8F3\",\"linecolor\":\"#A2B1C6\",\"ticks\":\"\"}},\"title\":{\"x\":0.05},\"xaxis\":{\"automargin\":true,\"gridcolor\":\"#EBF0F8\",\"linecolor\":\"#EBF0F8\",\"ticks\":\"\",\"title\":{\"standoff\":15},\"zerolinecolor\":\"#EBF0F8\",\"zerolinewidth\":2},\"yaxis\":{\"automargin\":true,\"gridcolor\":\"#EBF0F8\",\"linecolor\":\"#EBF0F8\",\"ticks\":\"\",\"title\":{\"standoff\":15},\"zerolinecolor\":\"#EBF0F8\",\"zerolinewidth\":2}}},\"xaxis\":{\"anchor\":\"y\",\"domain\":[0.0,0.45]},\"yaxis\":{\"anchor\":\"x\",\"domain\":[0.0,1.0]},\"xaxis2\":{\"anchor\":\"y2\",\"domain\":[0.55,1.0]},\"yaxis2\":{\"anchor\":\"x2\",\"domain\":[0.0,1.0]},\"annotations\":[{\"font\":{\"size\":16},\"showarrow\":false,\"text\":\"Reference Date\",\"x\":0.225,\"xanchor\":\"center\",\"xref\":\"paper\",\"y\":1.0,\"yanchor\":\"bottom\",\"yref\":\"paper\"},{\"font\":{\"size\":16},\"showarrow\":false,\"text\":\"Current Date\",\"x\":0.775,\"xanchor\":\"center\",\"xref\":\"paper\",\"y\":1.0,\"yanchor\":\"bottom\",\"yref\":\"paper\"}],\"title\":{\"text\":\"Side By Side Subplots\"},\"margin\":{\"l\":0,\"r\":0,\"t\":50,\"b\":0},\"legend\":{\"orientation\":\"h\",\"yanchor\":\"top\",\"y\":0.99,\"xanchor\":\"left\",\"x\":0.01},\"height\":600,\"width\":800},                        {\"responsive\": true}                    ).then(function(){\n",
              "                            \n",
              "var gd = document.getElementById('ae470ed0-691a-4491-a0c7-d3f53c32d774');\n",
              "var x = new MutationObserver(function (mutations, observer) {{\n",
              "        var display = window.getComputedStyle(gd).display;\n",
              "        if (!display || display === 'none') {{\n",
              "            console.log([gd, 'removed!']);\n",
              "            Plotly.purge(gd);\n",
              "            observer.disconnect();\n",
              "        }}\n",
              "}});\n",
              "\n",
              "// Listen for the removal of the full notebook cells\n",
              "var notebookContainer = gd.closest('#notebook-container');\n",
              "if (notebookContainer) {{\n",
              "    x.observe(notebookContainer, {childList: true});\n",
              "}}\n",
              "\n",
              "// Listen for the clearing of the current output cell\n",
              "var outputEl = gd.closest('.output');\n",
              "if (outputEl) {{\n",
              "    x.observe(outputEl, {childList: true});\n",
              "}}\n",
              "\n",
              "                        })                };                            </script>        </div>\n",
              "</body>\n",
              "</html>"
            ]
          },
          "metadata": {}
        }
      ]
    },
    {
      "cell_type": "code",
      "source": [
        ""
      ],
      "metadata": {
        "id": "1U9icZelm9Rr"
      },
      "execution_count": null,
      "outputs": []
    },
    {
      "cell_type": "code",
      "source": [
        ""
      ],
      "metadata": {
        "id": "tjRsg_-wmNyF"
      },
      "execution_count": 28,
      "outputs": []
    },
    {
      "cell_type": "code",
      "source": [
        ""
      ],
      "metadata": {
        "id": "LRalxEq_qzLL",
        "colab": {
          "base_uri": "https://localhost:8080/"
        },
        "outputId": "7d65cb50-38aa-4d15-dd5e-4fde7192dd32"
      },
      "execution_count": null,
      "outputs": [
        {
          "output_type": "execute_result",
          "data": {
            "text/plain": [
              "[18, 32, 0, 31, 71, 0, 14, 29, 0, 0, 0, 0]"
            ]
          },
          "metadata": {},
          "execution_count": 69
        }
      ]
    },
    {
      "cell_type": "code",
      "source": [
        ""
      ],
      "metadata": {
        "id": "95qMI7cZxgFo"
      },
      "execution_count": null,
      "outputs": []
    },
    {
      "cell_type": "code",
      "source": [
        ""
      ],
      "metadata": {
        "id": "aRIAN3YJwIOR"
      },
      "execution_count": null,
      "outputs": []
    },
    {
      "cell_type": "code",
      "source": [
        "\n",
        "#hovertext\n",
        "\n",
        "# fig = go.Figure(go.Scatter(\n",
        "#     x = [1,2,3,4,5],\n",
        "#     y = [2.02825,1.63728,6.83839,4.8485,4.73463],\n",
        "#     hovertemplate =\n",
        "#     '<i>Price</i>: $%{y:.2f}'+\n",
        "#     '<br><b>X</b>: %{x}<br>'+\n",
        "#     '<b>%{text}</b>',\n",
        "#     text = ['Custom text {}'.format(i + 1) for i in range(5)],\n",
        "#     showlegend = False))\n",
        "\n",
        "# fig.add_trace(go.Scatter(\n",
        "#     x = [1,2,3,4,5],\n",
        "#     y = [3.02825,2.63728,4.83839,3.8485,1.73463],\n",
        "#     hovertemplate = 'Price: %{y:$.2f}<extra></extra>',\n",
        "#     showlegend = False))\n",
        "\n",
        "# fig.update_layout(\n",
        "#     hoverlabel_align = 'right',\n",
        "#     title = \"Set hover text with hovertemplate\")\n",
        "\n",
        "# fig.show()"
      ],
      "metadata": {
        "id": "0rMyap_PqG1l"
      },
      "execution_count": null,
      "outputs": []
    },
    {
      "cell_type": "code",
      "source": [
        ""
      ],
      "metadata": {
        "id": "xc1lc2hIpky6"
      },
      "execution_count": null,
      "outputs": []
    },
    {
      "cell_type": "code",
      "source": [
        ""
      ],
      "metadata": {
        "id": "Ovu5K6KImHzZ"
      },
      "execution_count": null,
      "outputs": []
    },
    {
      "cell_type": "code",
      "source": [
        ""
      ],
      "metadata": {
        "id": "vvS40P7EmE3b"
      },
      "execution_count": null,
      "outputs": []
    },
    {
      "cell_type": "code",
      "source": [
        ""
      ],
      "metadata": {
        "id": "uSCXyGBxlwN_"
      },
      "execution_count": null,
      "outputs": []
    },
    {
      "cell_type": "code",
      "source": [
        "d"
      ],
      "metadata": {
        "colab": {
          "base_uri": "https://localhost:8080/"
        },
        "id": "8hD1WWmNlfrT",
        "outputId": "67d75f2b-d6d2-4d44-c7c5-76825e1cc7a7"
      },
      "execution_count": null,
      "outputs": [
        {
          "output_type": "execute_result",
          "data": {
            "text/plain": [
              "Timestamp('2022-01-01 00:00:00')"
            ]
          },
          "metadata": {},
          "execution_count": 62
        }
      ]
    },
    {
      "cell_type": "code",
      "source": [
        ""
      ],
      "metadata": {
        "id": "ZGTBnbaolgT0"
      },
      "execution_count": null,
      "outputs": []
    }
  ]
}